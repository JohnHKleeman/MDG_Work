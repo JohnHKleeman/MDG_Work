{
 "cells": [
  {
   "cell_type": "code",
   "execution_count": 1,
   "metadata": {},
   "outputs": [
    {
     "name": "stdout",
     "output_type": "stream",
     "text": [
      "scipy: 0.19.1\n",
      "numpy: 1.12.1\n",
      "matplotlib: 2.0.2\n",
      "pandas: 0.20.3\n",
      "sklearn: 0.19.0\n"
     ]
    },
    {
     "name": "stderr",
     "output_type": "stream",
     "text": [
      "C:\\Users\\SuperBug\\Anaconda2\\envs\\MDG\\lib\\site-packages\\sklearn\\cross_validation.py:41: DeprecationWarning: This module was deprecated in version 0.18 in favor of the model_selection module into which all the refactored classes and functions are moved. Also note that the interface of the new CV iterators are different from that of this module. This module will be removed in 0.20.\n",
      "  \"This module will be removed in 0.20.\", DeprecationWarning)\n"
     ]
    }
   ],
   "source": [
    "import scipy\n",
    "print('scipy: {}'.format(scipy.__version__)) # numpy\n",
    "import numpy as np\n",
    "print('numpy: {}'.format(np.__version__))\n",
    "# matplotlib\n",
    "\n",
    "\n",
    "import matplotlib \n",
    "import matplotlib.pyplot as plt\n",
    "print('matplotlib: {}'.format(matplotlib.__version__)) # pandas\n",
    "import pandas as pd\n",
    "print('pandas: {}'.format(pd.__version__))\n",
    "#scikit-learn\n",
    "import sklearn\n",
    "print('sklearn: {}'.format(sklearn.__version__))\n",
    "import xlrd\n",
    "\n",
    "from sklearn.svm import LinearSVR\n",
    "from sklearn.linear_model import LogisticRegression\n",
    "from sklearn.feature_selection import RFE\n",
    "from sklearn.linear_model import Lasso, Ridge  \n",
    "from sklearn.ensemble import RandomForestClassifier\n",
    "from sklearn.tree import DecisionTreeClassifier\n",
    "from sklearn.svm import SVC\n",
    "from sklearn.model_selection import KFold\n",
    "from sklearn.model_selection import GridSearchCV\n",
    "from sklearn.ensemble import RandomForestClassifier\n",
    "from sklearn.ensemble import AdaBoostClassifier\n",
    "from sklearn.ensemble import ExtraTreesClassifier\n",
    "from sklearn.naive_bayes import GaussianNB\n",
    "from sklearn.ensemble import VotingClassifier\n",
    "from sklearn.discriminant_analysis import LinearDiscriminantAnalysis\n",
    "from sklearn.feature_selection import RFE\n",
    "from sklearn import cross_validation\n",
    "from sklearn.model_selection import GridSearchCV\n",
    "from sklearn import model_selection #might be model_selection <--- this is the new one\n",
    "from sklearn.preprocessing import Normalizer\n",
    "from sklearn.neighbors import KNeighborsClassifier\n",
    "from sklearn.ensemble import GradientBoostingClassifier\n",
    "from sklearn.feature_selection import RFECV\n",
    "import seaborn as sns\n",
    "from sklearn.model_selection import train_test_split\n",
    "from sklearn.preprocessing import Imputer\n",
    "from sklearn.preprocessing import Normalizer\n",
    "import xgboost as xgb\n",
    "\n",
    "sns.set_style(\"whitegrid\")\n",
    "%matplotlib inline"
   ]
  },
  {
   "cell_type": "code",
   "execution_count": 2,
   "metadata": {
    "collapsed": true
   },
   "outputs": [],
   "source": [
    "data = pd.read_excel('ATTENDEEISSA2017NumericalExcel.xlsx', header = None)\n",
    "#data_antendees = pd.read_excel('HW3Data.xlsx', sheetname = 'trainY')"
   ]
  },
  {
   "cell_type": "code",
   "execution_count": 3,
   "metadata": {
    "collapsed": true
   },
   "outputs": [],
   "source": [
    "for i in range(0, len(data.iloc[0])):\n",
    "    if pd.isnull(data.iloc[0][i]):\n",
    "        data.iloc[0][i] = data.iloc[1][i]\n",
    "    else:\n",
    "        try:\n",
    "            if 'Response' not in data.iloc[1][i] and 'nan' not in data.iloc[1][i]:\n",
    "                data.iloc[0][i] = data.iloc[1][i] + ' ' + data.iloc[0][i]\n",
    "        except:\n",
    "                pass"
   ]
  },
  {
   "cell_type": "code",
   "execution_count": 4,
   "metadata": {
    "collapsed": true
   },
   "outputs": [],
   "source": [
    "new_header = data.iloc[0] #grab the first row for the header\n",
    "data = data[1:] #take the data less the header row\n",
    "data.columns = new_header #set the header row as the df header"
   ]
  },
  {
   "cell_type": "code",
   "execution_count": 5,
   "metadata": {
    "collapsed": true
   },
   "outputs": [],
   "source": [
    "data.drop(data.index[:1], inplace=True)"
   ]
  },
  {
   "cell_type": "code",
   "execution_count": 6,
   "metadata": {
    "collapsed": true
   },
   "outputs": [],
   "source": [
    "data_a, data_b = train_test_split(data, test_size=0.2, random_state = 7)"
   ]
  },
  {
   "cell_type": "code",
   "execution_count": 7,
   "metadata": {},
   "outputs": [
    {
     "data": {
      "text/plain": [
       "(606, 345)"
      ]
     },
     "execution_count": 7,
     "metadata": {},
     "output_type": "execute_result"
    }
   ],
   "source": [
    "data_a.shape"
   ]
  },
  {
   "cell_type": "code",
   "execution_count": 8,
   "metadata": {
    "collapsed": true
   },
   "outputs": [],
   "source": [
    "data_a = data_a.apply(pd.to_numeric, errors='ignore')    #changes dataframe dtypes to their lowest"
   ]
  },
  {
   "cell_type": "code",
   "execution_count": 9,
   "metadata": {},
   "outputs": [
    {
     "data": {
      "text/plain": [
       "(606, 345)"
      ]
     },
     "execution_count": 9,
     "metadata": {},
     "output_type": "execute_result"
    }
   ],
   "source": [
    "data_a.shape"
   ]
  },
  {
   "cell_type": "code",
   "execution_count": 10,
   "metadata": {
    "collapsed": true,
    "scrolled": false
   },
   "outputs": [],
   "source": [
    "cols = list(data_a)    # THIS DROPS ALL COLUMNS THAT HAVE THE SAME VALUE\n",
    "nunique = data_a.apply(pd.Series.nunique)\n",
    "cols_to_drop = nunique[nunique == 1].index\n",
    "data_a = data_a.drop(cols_to_drop, axis=1)"
   ]
  },
  {
   "cell_type": "code",
   "execution_count": 11,
   "metadata": {},
   "outputs": [
    {
     "data": {
      "text/plain": [
       "(606, 282)"
      ]
     },
     "execution_count": 11,
     "metadata": {},
     "output_type": "execute_result"
    }
   ],
   "source": [
    "data_a.shape"
   ]
  },
  {
   "cell_type": "code",
   "execution_count": 11,
   "metadata": {
    "collapsed": true
   },
   "outputs": [],
   "source": [
    "data_a = data_a.apply(pd.to_numeric, errors='ignore')    #changes dataframe dtypes to their lowest"
   ]
  },
  {
   "cell_type": "code",
   "execution_count": 12,
   "metadata": {},
   "outputs": [
    {
     "data": {
      "text/plain": [
       "(606, 282)"
      ]
     },
     "execution_count": 12,
     "metadata": {},
     "output_type": "execute_result"
    }
   ],
   "source": [
    "data_a.shape"
   ]
  },
  {
   "cell_type": "code",
   "execution_count": 13,
   "metadata": {
    "collapsed": true
   },
   "outputs": [],
   "source": [
    "data_a = data_a.loc[: , ~data_a.columns.duplicated()]"
   ]
  },
  {
   "cell_type": "code",
   "execution_count": 14,
   "metadata": {
    "scrolled": false
   },
   "outputs": [
    {
     "data": {
      "text/plain": [
       "(606, 132)"
      ]
     },
     "execution_count": 14,
     "metadata": {},
     "output_type": "execute_result"
    }
   ],
   "source": [
    "data_a.shape"
   ]
  },
  {
   "cell_type": "code",
   "execution_count": 15,
   "metadata": {
    "collapsed": true
   },
   "outputs": [],
   "source": [
    "data_a = data_a.dropna(axis=1, how='all')"
   ]
  },
  {
   "cell_type": "code",
   "execution_count": 16,
   "metadata": {},
   "outputs": [
    {
     "data": {
      "text/plain": [
       "(606, 126)"
      ]
     },
     "execution_count": 16,
     "metadata": {},
     "output_type": "execute_result"
    }
   ],
   "source": [
    "data_a.shape"
   ]
  },
  {
   "cell_type": "code",
   "execution_count": 19,
   "metadata": {},
   "outputs": [
    {
     "name": "stdout",
     "output_type": "stream",
     "text": [
      "Respondent ID\n",
      "Start Date\n",
      "End Date\n",
      "IP Address\n",
      "Was this your first time attending ISSA/INTERCLEAN?\n",
      "Please select the classification that best represents your company type.\n",
      "Please indicate your primary job function:\n",
      "Other (please specify)\n",
      "What year were you born? \n",
      "What is your annual budget to purchase cleaning supplies, equipment, and other cleaning materials? \n",
      "If you are a first-time attendee, do you think the First-Time Attendee Orientation prepared you for the full schedule of the show? \n",
      "What year were you born?\n",
      "What is your company's annual sales volume? \n",
      "How did you learn of ISSA/INTERCLEAN North America 2017? \n",
      "Supplier meetings Please estimate how many of the following activities you personally accomplished during the show:\n",
      "Total booth visits\n",
      "Booth visits to a new exhibitor or supplier\n",
      "Did the increased programming on Thursday influence your decision to visit the exhibit hall on Thursday?\n",
      "What could ISSA offer that would influence your decision to visit the exhibit hall on Thursday?\n",
      "Did you attend any educational sessions offered through ISSA Convention?\n",
      "Please indicate your primary job function.\n",
      "How did you hear about ISSA/INTERCLEAN North America?\n",
      "Supplier meetings: Please estimate how many of the following activities you personally accomplished during the show:\n",
      "Total booth visits:\n",
      "Booth visits to a new exhibitor or supplier:\n",
      "Did the increased programming on Thursday influence your decision to visit the exhibit hall on Thursday?\n",
      "What could ISSA offer that would influence your decision to visit the exhibit hall on the last day of the show?\n",
      "What is your company's annual sales volume?\n",
      "How did you hear about ISSA/INTERCLEAN North America? \n",
      "Did you attend any education sessions offered through ISSA Convention?\n",
      "Please estimate how many customer meetings you personally accomplished during the show:\n",
      "Are you a member of a distributor marketing group? If yes, please list which one in the comments box.\n",
      "Comments\n",
      "Supplier Meetings: Please estimate how many of the following activities you personally accomplished during the show:\n",
      "Disrupt and Innovate Distributor Track Please rank the top 5 educational activities that you found valuable at the show (1 being the most valuable, 2 being the second most valuable, etc.)\n",
      "Commercial Cleaning Business Solutions Track\n",
      "Healthcare Environment Essentials Track\n",
      "Residential Cleaning Connection Track\n",
      "Green Clean Schools Track\n",
      "Keynote Speakers\n",
      "Welcome Networking Reception\n",
      "Evening Roundtable event\n",
      "Lunch and Learn\n",
      "Digital Official Exhibit Directory Please rank the top 5 elements of ISSA/INTERCLEAN trade show that were of most value to you. ( 1 being the most valuable to you, 2 being the second most valuable to you, etc.)\n",
      "Education/Professional Development\n",
      "Free WiFi hot spots\n",
      "ISSA Innovation Showcase\n",
      "ISSA/INTERCLEAN Bistro\n",
      "Meeting Hub\n",
      "Show Mobile App\n",
      "Co-located events by other associations\n",
      "ARCSI Evening Receptions Please rank your top three reasons for attending ISSA/INTERCLEAN (1 being the most important, 2 being the second most important, etc.).\n",
      "ARSCI Roundtables\n",
      "Educational sessions\n",
      "Find new suppliers\n",
      "Keep up to date with industry trends\n",
      "Location of the event\n",
      "See new products/innovations\n",
      "Please specify other.\n",
      "Educational sessions How would you rate ISSA/INTERCLEAN's performance in the following areas?\n",
      "Ability to meet peers\n",
      "Keynote speakers\n",
      "ARCSI Evening Receptions\n",
      "ARCSI Rountables\n",
      "New products/innovations\n",
      "Quality of exhibitors\n",
      "Value of attending\n",
      "Value of attending last day of show\n",
      "First-time Attendee Orientation\n",
      "New supply lines\n",
      "Did you accomplish all you had planned during the trade show? \n",
      "Number on a scale of 1-5 (1 being very good and 5 being disappointing), overall, how would you rate your trade show registration process?\n",
      "What can ISSA/ARCSI do to improve the value you receive at ISSA/INTERCLEAN?\n",
      "Website This year, ISSA/ARCSI provided tools to help attendees plan for the show with ease. Please rate each tool's usefulness.\n",
      "My Show Planner\n",
      "If you used these tools, how can we improve them?\n",
      "Price Please indicate the importance of the following:\n",
      "Location\n",
      "Hotel/Host City\n",
      "Length of Event\n",
      "Education Session Topic\n",
      "Time of year\n",
      "Is your company planning to attend ISSA/INTERCLEAN North America 2018 in Dallas, October 29 - November 1, 2018\n",
      "What educational topics would you like to see offered in 2018?\n",
      "Please share any final comments you have on the Residential Cleaning Connection track at 2017 ISSA/INTERCLEAN Trade Show and ISSA Convention.\n",
      "In your organizations do you have the final decision on whether you will attend ISSA/INTERCLEAN\n",
      "Digital Official Exhibit Directory Please rank the top 5 elements of ISSA/INTERCLEAN trade show that were of most value to you? (1 being the most valuable to you, 2 being the second most valuable to you, etc.)\n",
      "Educational/Professional Development\n",
      "Co-located event by other associations\n",
      "Educational sessions Please rank your top three reasons for attending ISSA/INTERCLEAN (1 being the most important, 2 being the second most important, etc.).\n",
      "Educational sessions How would you rate ISSA/INTERCLEAN's performance in the following areas:\n",
      "ARCSI Roundtables\n",
      "Number on a scale of 1-5 (! being very good and 5 being disappointing), overall, how would you rate your trade show registration process?\n",
      "Website This year, ISSA/ARCSI provided tools to help attendees plans for the show with ease. Please rate each tool's usefulness.\n",
      "If you use these tools, how can we improve them?\n",
      "Education Session Topics\n",
      "Please share any final comments you have on the Residential Cleaning Connection track at the 2017 ISSA/INTERCLEAN Trade Show and Convention\n",
      "Disrupt and Innovate Distributor Track Please rank the top 5 elements of the ISSA Convention that you found valuable (1 being the most valuable, 2 being the second most valuable, etc.).\n",
      "Evening Roundtable Event\n",
      "Please estimate how many customer meetings you personally accomplished during the show: \n",
      "Digital Official Exhibit Directory Please rank the top 5 elements of ISSA/INTERCLEAN that were of most value to you. (1 being the most valuable, 2 being the second more valuable, etc.)\n",
      "Free WiFI hot spots\n",
      "Thursday seminars/panels\n",
      "Educational Sessions Please rank your top three reasons for attending ISSA/INTERCLEAN (1 being the most important, 2 being the second most important, etc.)\n",
      "Meet with current suppliers\n",
      "Meet with customers\n",
      "See new product/innovations\n",
      "Please specify other. \n",
      "Customers met with\n",
      "New product/innovations\n",
      "Digital Official Exhibit Directory Please rank the top 5 elements of ISSA/INTERCLEAN that you found valuable (1 being the most valuable, 2 being the second most valuable, etc.).\n",
      "Educational sessions Please rank the top three reasons for attending ISSA/INTERCLEAN (1 being the most important reason, 2 being the second most important, etc.).\n",
      "Find new ideas to solve problems\n",
      "Meet current suppliers\n",
      "New supply lines found\n",
      "What can ISSA do to improve the value you receive at ISSA/INTERCLEAN?\n",
      "Website This year, ISSA provided tools to help attendees plan for the show with ease. Please rate each tool’s usefulness.\n",
      "Is your company planning to attend ISSA/INTERCLEAN North America 2018 in Dallas - October 29 – November 1, 2018?\n",
      "Hotel/Host city\n",
      "Length of event\n",
      "Education session topics\n",
      "In your organization do you have the final decision on whether you will attend ISSA/INTERCLEAN?\n",
      "Name Please provide contact information for the final decision maker regarding who attends ISSA/INTERCLEAN:\n",
      "Email\n",
      "Phone\n",
      "First Name As a thank you for completing this survey, please fill out the below contact information to be eligible to win a $25 gift card. \n"
     ]
    }
   ],
   "source": [
    "for a in range(0,len(data_a.columns)):\n",
    "    print data_a.columns[a]"
   ]
  },
  {
   "cell_type": "code",
   "execution_count": 50,
   "metadata": {},
   "outputs": [
    {
     "name": "stdout",
     "output_type": "stream",
     "text": [
      "ARCSI Evening Receptions\n",
      "ARCSI Evening Receptions Please rank your top three reasons for attending ISSA/INTERCLEAN (1 being the most important, 2 being the second most important, etc.).\n",
      "ARCSI Roundtables\n",
      "ARCSI Rountables\n",
      "ARSCI Roundtables\n",
      "Ability to meet peers\n",
      "Are you a member of a distributor marketing group? If yes, please list which one in the comments box.\n",
      "Booth visits to a new exhibitor or supplier\n",
      "Booth visits to a new exhibitor or supplier:\n",
      "Co-located event by other associations\n",
      "Co-located events by other associations\n",
      "Comments\n",
      "Commercial Cleaning Business Solutions Track\n",
      "Customers met with\n",
      "Did the increased programming on Thursday influence your decision to visit the exhibit hall on Thursday?\n",
      "Did the increased programming on Thursday influence your decision to visit the exhibit hall on Thursday?\n",
      "Did you accomplish all you had planned during the trade show? \n",
      "Did you attend any education sessions offered through ISSA Convention?\n",
      "Did you attend any educational sessions offered through ISSA Convention?\n",
      "Digital Official Exhibit Directory Please rank the top 5 elements of ISSA/INTERCLEAN that were of most value to you. (1 being the most valuable, 2 being the second more valuable, etc.)\n",
      "Digital Official Exhibit Directory Please rank the top 5 elements of ISSA/INTERCLEAN that you found valuable (1 being the most valuable, 2 being the second most valuable, etc.).\n",
      "Digital Official Exhibit Directory Please rank the top 5 elements of ISSA/INTERCLEAN trade show that were of most value to you. ( 1 being the most valuable to you, 2 being the second most valuable to you, etc.)\n",
      "Digital Official Exhibit Directory Please rank the top 5 elements of ISSA/INTERCLEAN trade show that were of most value to you? (1 being the most valuable to you, 2 being the second most valuable to you, etc.)\n",
      "Disrupt and Innovate Distributor Track Please rank the top 5 educational activities that you found valuable at the show (1 being the most valuable, 2 being the second most valuable, etc.)\n",
      "Disrupt and Innovate Distributor Track Please rank the top 5 elements of the ISSA Convention that you found valuable (1 being the most valuable, 2 being the second most valuable, etc.).\n",
      "Education Session Topic\n",
      "Education session topics\n",
      "Education/Professional Development\n",
      "Educational Sessions Please rank your top three reasons for attending ISSA/INTERCLEAN (1 being the most important, 2 being the second most important, etc.)\n",
      "Educational sessions\n",
      "Educational sessions How would you rate ISSA/INTERCLEAN's performance in the following areas:\n",
      "Educational sessions How would you rate ISSA/INTERCLEAN's performance in the following areas?\n",
      "Educational sessions Please rank the top three reasons for attending ISSA/INTERCLEAN (1 being the most important reason, 2 being the second most important, etc.).\n",
      "Educational sessions Please rank your top three reasons for attending ISSA/INTERCLEAN (1 being the most important, 2 being the second most important, etc.).\n",
      "Educational/Professional Development\n",
      "Education Session Topics\n",
      "Email\n",
      "End Date\n",
      "Evening Roundtable Event\n",
      "Evening Roundtable event\n",
      "Find new ideas to solve problems\n",
      "Find new suppliers\n",
      "First Name As a thank you for completing this survey, please fill out the below contact information to be eligible to win a $25 gift card. \n",
      "First-time Attendee Orientation\n",
      "Free WiFI hot spots\n",
      "Free WiFi hot spots\n",
      "Green Clean Schools Track\n",
      "Healthcare Environment Essentials Track\n",
      "Hotel/Host City\n",
      "Hotel/Host city\n",
      "How did you hear about ISSA/INTERCLEAN North America?\n",
      "How did you hear about ISSA/INTERCLEAN North America? \n",
      "How did you learn of ISSA/INTERCLEAN North America 2017? \n",
      "IP Address\n",
      "ISSA Innovation Showcase\n",
      "ISSA/INTERCLEAN Bistro\n",
      "If you are a first-time attendee, do you think the First-Time Attendee Orientation prepared you for the full schedule of the show? \n",
      "If you use these tools, how can we improve them?\n",
      "If you used these tools, how can we improve them?\n",
      "In your organization do you have the final decision on whether you will attend ISSA/INTERCLEAN?\n",
      "In your organizations do you have the final decision on whether you will attend ISSA/INTERCLEAN\n",
      "Is your company planning to attend ISSA/INTERCLEAN North America 2018 in Dallas - October 29 – November 1, 2018?\n",
      "Keep up to date with industry trends\n",
      "Keynote Speakers\n",
      "Keynote speakers\n",
      "Length of Event\n",
      "Length of event\n",
      "Location\n",
      "Location of the event\n",
      "Lunch and Learn\n",
      "Meet current suppliers\n",
      "Meet with current suppliers\n",
      "Meet with customers\n",
      "Meeting Hub\n",
      "My Show Planner\n",
      "Name Please provide contact information for the final decision maker regarding who attends ISSA/INTERCLEAN:\n",
      "New product/innovations\n",
      "New products/innovations\n",
      "New supply lines\n",
      "New supply lines found\n",
      "Number on a scale of 1-5 (! being very good and 5 being disappointing), overall, how would you rate your trade show registration process?\n",
      "Number on a scale of 1-5 (1 being very good and 5 being disappointing), overall, how would you rate your trade show registration process?\n",
      "Other (please specify)\n",
      "Phone\n",
      "Please estimate how many customer meetings you personally accomplished during the show:\n",
      "Please estimate how many customer meetings you personally accomplished during the show: \n",
      "Please indicate your primary job function.\n",
      "Please indicate your primary job function:\n",
      "Please select the classification that best represents your company type.\n",
      "Please share any final comments you have on the Residential Cleaning Connection track at the 2017 ISSA/INTERCLEAN Trade Show and Convention\n",
      "Please share any final comments you have on the Residential Cleaning Connection track at 2017 ISSA/INTERCLEAN Trade Show and ISSA Convention.\n",
      "Please specify other.\n",
      "Please specify other. \n",
      "Price Please indicate the importance of the following:\n",
      "Quality of exhibitors\n",
      "Residential Cleaning Connection Track\n",
      "Respondent ID\n",
      "See new product/innovations\n",
      "See new products/innovations\n",
      "Show Mobile App\n",
      "Start Date\n",
      "Supplier Meetings: Please estimate how many of the following activities you personally accomplished during the show:\n",
      "Supplier meetings Please estimate how many of the following activities you personally accomplished during the show:\n",
      "Supplier meetings: Please estimate how many of the following activities you personally accomplished during the show:\n",
      "Thursday seminars/panels\n",
      "Time of year\n",
      "Total booth visits\n",
      "Total booth visits:\n",
      "Value of attending\n",
      "Value of attending last day of show\n",
      "Was this your first time attending ISSA/INTERCLEAN?\n",
      "Website This year, ISSA provided tools to help attendees plan for the show with ease. Please rate each tool’s usefulness.\n",
      "Website This year, ISSA/ARCSI provided tools to help attendees plan for the show with ease. Please rate each tool's usefulness.\n",
      "Website This year, ISSA/ARCSI provided tools to help attendees plans for the show with ease. Please rate each tool's usefulness.\n",
      "Welcome Networking Reception\n",
      "What can ISSA do to improve the value you receive at ISSA/INTERCLEAN?\n",
      "What can ISSA/ARCSI do to improve the value you receive at ISSA/INTERCLEAN?\n",
      "What could ISSA offer that would influence your decision to visit the exhibit hall on Thursday?\n",
      "What could ISSA offer that would influence your decision to visit the exhibit hall on the last day of the show?\n",
      "What educational topics would you like to see offered in 2018?\n",
      "What is your annual budget to purchase cleaning supplies, equipment, and other cleaning materials? \n",
      "What is your company's annual sales volume?\n",
      "What is your company's annual sales volume? \n",
      "What year were you born?\n",
      "What year were you born? \n",
      "sum_happy\n"
     ]
    }
   ],
   "source": [
    "for a in range(0, len(data_a.columns.sort_values())):\n",
    "    print data_a.columns.sort_values()[a]"
   ]
  },
  {
   "cell_type": "code",
   "execution_count": 17,
   "metadata": {},
   "outputs": [
    {
     "name": "stdout",
     "output_type": "stream",
     "text": [
      "82 Is your company planning to attend ISSA/INTERCLEAN North America 2018 in Dallas, October 29 - November 1, 2018\n",
      "117 Is your company planning to attend ISSA/INTERCLEAN North America 2018 in Dallas - October 29 – November 1, 2018?\n"
     ]
    }
   ],
   "source": [
    "duplicate_goal = []\n",
    "for a in range(0,len(data_a.columns)):\n",
    "    if 'Is your company planning to attend' in data_a.columns[a]:\n",
    "        duplicate_goal.append(a)\n",
    "        print a, data_a.columns[a]\n"
   ]
  },
  {
   "cell_type": "code",
   "execution_count": 18,
   "metadata": {
    "scrolled": true
   },
   "outputs": [
    {
     "data": {
      "text/plain": [
       "(606, 126)"
      ]
     },
     "execution_count": 18,
     "metadata": {},
     "output_type": "execute_result"
    }
   ],
   "source": [
    "data_a.shape"
   ]
  },
  {
   "cell_type": "code",
   "execution_count": 19,
   "metadata": {
    "collapsed": true,
    "scrolled": true
   },
   "outputs": [],
   "source": [
    "data_a.iloc[:,duplicate_goal[1]] = data_a.iloc[:,duplicate_goal[1]].fillna(data_a.iloc[:,duplicate_goal[0]])\n"
   ]
  },
  {
   "cell_type": "code",
   "execution_count": 20,
   "metadata": {},
   "outputs": [
    {
     "data": {
      "text/plain": [
       "(606, 126)"
      ]
     },
     "execution_count": 20,
     "metadata": {},
     "output_type": "execute_result"
    }
   ],
   "source": [
    "data_a.shape"
   ]
  },
  {
   "cell_type": "code",
   "execution_count": 21,
   "metadata": {
    "collapsed": true
   },
   "outputs": [],
   "source": [
    "data_a = data_a.drop(['Is your company planning to attend ISSA/INTERCLEAN North America 2018 in Dallas, October 29 - November 1, 2018'], axis = 1)"
   ]
  },
  {
   "cell_type": "code",
   "execution_count": 22,
   "metadata": {},
   "outputs": [
    {
     "name": "stdout",
     "output_type": "stream",
     "text": [
      "0 Respondent ID\n",
      "1 Start Date\n",
      "2 End Date\n",
      "3 IP Address\n",
      "4 Was this your first time attending ISSA/INTERCLEAN?\n",
      "5 Please select the classification that best represents your company type.\n",
      "6 Please indicate your primary job function:\n",
      "7 Other (please specify)\n",
      "8 What year were you born? \n",
      "9 What is your annual budget to purchase cleaning supplies, equipment, and other cleaning materials? \n",
      "10 If you are a first-time attendee, do you think the First-Time Attendee Orientation prepared you for the full schedule of the show? \n",
      "11 What year were you born?\n",
      "12 What is your company's annual sales volume? \n",
      "13 How did you learn of ISSA/INTERCLEAN North America 2017? \n",
      "14 Supplier meetings Please estimate how many of the following activities you personally accomplished during the show:\n",
      "15 Total booth visits\n",
      "16 Booth visits to a new exhibitor or supplier\n",
      "17 Did the increased programming on Thursday influence your decision to visit the exhibit hall on Thursday?\n",
      "18 What could ISSA offer that would influence your decision to visit the exhibit hall on Thursday?\n",
      "19 Did you attend any educational sessions offered through ISSA Convention?\n",
      "20 Please indicate your primary job function.\n",
      "21 How did you hear about ISSA/INTERCLEAN North America?\n",
      "22 Supplier meetings: Please estimate how many of the following activities you personally accomplished during the show:\n",
      "23 Total booth visits:\n",
      "24 Booth visits to a new exhibitor or supplier:\n",
      "25 Did the increased programming on Thursday influence your decision to visit the exhibit hall on Thursday?\n",
      "26 What could ISSA offer that would influence your decision to visit the exhibit hall on the last day of the show?\n",
      "27 What is your company's annual sales volume?\n",
      "28 How did you hear about ISSA/INTERCLEAN North America? \n",
      "29 Did you attend any education sessions offered through ISSA Convention?\n",
      "30 Please estimate how many customer meetings you personally accomplished during the show:\n",
      "31 Are you a member of a distributor marketing group? If yes, please list which one in the comments box.\n",
      "32 Comments\n",
      "33 Supplier Meetings: Please estimate how many of the following activities you personally accomplished during the show:\n",
      "34 Disrupt and Innovate Distributor Track Please rank the top 5 educational activities that you found valuable at the show (1 being the most valuable, 2 being the second most valuable, etc.)\n",
      "35 Commercial Cleaning Business Solutions Track\n",
      "36 Healthcare Environment Essentials Track\n",
      "37 Residential Cleaning Connection Track\n",
      "38 Green Clean Schools Track\n",
      "39 Keynote Speakers\n",
      "40 Welcome Networking Reception\n",
      "41 Evening Roundtable event\n",
      "42 Lunch and Learn\n",
      "43 Digital Official Exhibit Directory Please rank the top 5 elements of ISSA/INTERCLEAN trade show that were of most value to you. ( 1 being the most valuable to you, 2 being the second most valuable to you, etc.)\n",
      "44 Education/Professional Development\n",
      "45 Free WiFi hot spots\n",
      "46 ISSA Innovation Showcase\n",
      "47 ISSA/INTERCLEAN Bistro\n",
      "48 Meeting Hub\n",
      "49 Show Mobile App\n",
      "50 Co-located events by other associations\n",
      "51 ARCSI Evening Receptions Please rank your top three reasons for attending ISSA/INTERCLEAN (1 being the most important, 2 being the second most important, etc.).\n",
      "52 ARSCI Roundtables\n",
      "53 Educational sessions\n",
      "54 Find new suppliers\n",
      "55 Keep up to date with industry trends\n",
      "56 Location of the event\n",
      "57 See new products/innovations\n",
      "58 Please specify other.\n",
      "59 Educational sessions How would you rate ISSA/INTERCLEAN's performance in the following areas?\n",
      "60 Ability to meet peers\n",
      "61 Keynote speakers\n",
      "62 ARCSI Evening Receptions\n",
      "63 ARCSI Rountables\n",
      "64 New products/innovations\n",
      "65 Quality of exhibitors\n",
      "66 Value of attending\n",
      "67 Value of attending last day of show\n",
      "68 First-time Attendee Orientation\n",
      "69 New supply lines\n",
      "70 Did you accomplish all you had planned during the trade show? \n",
      "71 Number on a scale of 1-5 (1 being very good and 5 being disappointing), overall, how would you rate your trade show registration process?\n",
      "72 What can ISSA/ARCSI do to improve the value you receive at ISSA/INTERCLEAN?\n",
      "73 Website This year, ISSA/ARCSI provided tools to help attendees plan for the show with ease. Please rate each tool's usefulness.\n",
      "74 My Show Planner\n",
      "75 If you used these tools, how can we improve them?\n",
      "76 Price Please indicate the importance of the following:\n",
      "77 Location\n",
      "78 Hotel/Host City\n",
      "79 Length of Event\n",
      "80 Education Session Topic\n",
      "81 Time of year\n",
      "82 What educational topics would you like to see offered in 2018?\n",
      "83 Please share any final comments you have on the Residential Cleaning Connection track at 2017 ISSA/INTERCLEAN Trade Show and ISSA Convention.\n",
      "84 In your organizations do you have the final decision on whether you will attend ISSA/INTERCLEAN\n",
      "85 Digital Official Exhibit Directory Please rank the top 5 elements of ISSA/INTERCLEAN trade show that were of most value to you? (1 being the most valuable to you, 2 being the second most valuable to you, etc.)\n",
      "86 Educational/Professional Development\n",
      "87 Co-located event by other associations\n",
      "88 Educational sessions Please rank your top three reasons for attending ISSA/INTERCLEAN (1 being the most important, 2 being the second most important, etc.).\n",
      "89 Educational sessions How would you rate ISSA/INTERCLEAN's performance in the following areas:\n",
      "90 ARCSI Roundtables\n",
      "91 Number on a scale of 1-5 (! being very good and 5 being disappointing), overall, how would you rate your trade show registration process?\n",
      "92 Website This year, ISSA/ARCSI provided tools to help attendees plans for the show with ease. Please rate each tool's usefulness.\n",
      "93 If you use these tools, how can we improve them?\n",
      "94 Education Session Topics\n",
      "95 Please share any final comments you have on the Residential Cleaning Connection track at the 2017 ISSA/INTERCLEAN Trade Show and Convention\n",
      "96 Disrupt and Innovate Distributor Track Please rank the top 5 elements of the ISSA Convention that you found valuable (1 being the most valuable, 2 being the second most valuable, etc.).\n",
      "97 Evening Roundtable Event\n",
      "98 Please estimate how many customer meetings you personally accomplished during the show: \n",
      "99 Digital Official Exhibit Directory Please rank the top 5 elements of ISSA/INTERCLEAN that were of most value to you. (1 being the most valuable, 2 being the second more valuable, etc.)\n",
      "100 Free WiFI hot spots\n",
      "101 Thursday seminars/panels\n",
      "102 Educational Sessions Please rank your top three reasons for attending ISSA/INTERCLEAN (1 being the most important, 2 being the second most important, etc.)\n",
      "103 Meet with current suppliers\n",
      "104 Meet with customers\n",
      "105 See new product/innovations\n",
      "106 Please specify other. \n",
      "107 Customers met with\n",
      "108 New product/innovations\n",
      "109 Digital Official Exhibit Directory Please rank the top 5 elements of ISSA/INTERCLEAN that you found valuable (1 being the most valuable, 2 being the second most valuable, etc.).\n",
      "110 Educational sessions Please rank the top three reasons for attending ISSA/INTERCLEAN (1 being the most important reason, 2 being the second most important, etc.).\n",
      "111 Find new ideas to solve problems\n",
      "112 Meet current suppliers\n",
      "113 New supply lines found\n",
      "114 What can ISSA do to improve the value you receive at ISSA/INTERCLEAN?\n",
      "115 Website This year, ISSA provided tools to help attendees plan for the show with ease. Please rate each tool’s usefulness.\n",
      "116 Is your company planning to attend ISSA/INTERCLEAN North America 2018 in Dallas - October 29 – November 1, 2018?\n",
      "117 Hotel/Host city\n",
      "118 Length of event\n",
      "119 Education session topics\n",
      "120 In your organization do you have the final decision on whether you will attend ISSA/INTERCLEAN?\n",
      "121 Name Please provide contact information for the final decision maker regarding who attends ISSA/INTERCLEAN:\n",
      "122 Email\n",
      "123 Phone\n",
      "124 First Name As a thank you for completing this survey, please fill out the below contact information to be eligible to win a $25 gift card. \n"
     ]
    }
   ],
   "source": [
    "for a in range(0, len(data_a.columns)):\n",
    "    print a, data_a.columns[a]"
   ]
  },
  {
   "cell_type": "code",
   "execution_count": 22,
   "metadata": {
    "collapsed": true
   },
   "outputs": [],
   "source": [
    "data_a = data_a[np.isfinite(data_a.iloc[:,duplicate_goal[1]-1])]"
   ]
  },
  {
   "cell_type": "code",
   "execution_count": 23,
   "metadata": {
    "collapsed": true
   },
   "outputs": [],
   "source": [
    "sum_happy = []\n",
    "for a in range(0,len(data_a.iloc[:,duplicate_goal[1]])):\n",
    "    if data_a.iloc[a,duplicate_goal[1]-1] == 5 or data_a.iloc[a,duplicate_goal[1]-1]==4:\n",
    "        sum_happy.append(3)\n",
    "    elif data_a.iloc[a,duplicate_goal[1]-1] == 3:\n",
    "        sum_happy.append(2)\n",
    "    elif data_a.iloc[a,duplicate_goal[1]-1] ==2 or data_a.iloc[a,duplicate_goal[1]-1]==1:\n",
    "        sum_happy.append(1)\n",
    "\n",
    "        "
   ]
  },
  {
   "cell_type": "code",
   "execution_count": 24,
   "metadata": {
    "collapsed": true
   },
   "outputs": [],
   "source": [
    "data_a['sum_happy'] = sum_happy"
   ]
  },
  {
   "cell_type": "code",
   "execution_count": 26,
   "metadata": {},
   "outputs": [
    {
     "data": {
      "text/plain": [
       "(409, 126)"
      ]
     },
     "execution_count": 26,
     "metadata": {},
     "output_type": "execute_result"
    }
   ],
   "source": [
    "data_a.shape"
   ]
  },
  {
   "cell_type": "code",
   "execution_count": null,
   "metadata": {
    "collapsed": true
   },
   "outputs": [],
   "source": []
  },
  {
   "cell_type": "code",
   "execution_count": 26,
   "metadata": {
    "collapsed": true,
    "scrolled": false
   },
   "outputs": [],
   "source": [
    "corr = data_a.select_dtypes(include = ['int64', 'float64']).iloc[:, 1:].corr()\n"
   ]
  },
  {
   "cell_type": "code",
   "execution_count": 27,
   "metadata": {
    "collapsed": true
   },
   "outputs": [],
   "source": [
    "testcorr = corr.dropna(axis=1, how='all')"
   ]
  },
  {
   "cell_type": "code",
   "execution_count": null,
   "metadata": {
    "collapsed": true
   },
   "outputs": [],
   "source": [
    "testcorr = testcorr.dropna(axis=0, how='all')"
   ]
  },
  {
   "cell_type": "code",
   "execution_count": null,
   "metadata": {
    "collapsed": true
   },
   "outputs": [],
   "source": [
    "plt.figure(figsize=(150, 150))\n",
    "sns.heatmap(testcorr,vmin=-1, vmax=1, square=True)"
   ]
  },
  {
   "cell_type": "code",
   "execution_count": null,
   "metadata": {
    "collapsed": true
   },
   "outputs": [],
   "source": [
    "mask = np.zeros_like(testcorr)\n",
    "mask[np.triu_indices_from(mask)] = True\n",
    "plt.figure(figsize=(60, 60))\n",
    "with sns.axes_style(\"white\"):\n",
    "    ax = sns.heatmap(testcorr, mask=mask, vmin = -1, vmax=1, square=True)"
   ]
  },
  {
   "cell_type": "code",
   "execution_count": null,
   "metadata": {
    "collapsed": true
   },
   "outputs": [],
   "source": [
    "testcorr = data_a.iloc[:,26:73]\n",
    "plt.figure(figsize=(150, 150))\n",
    "sns.heatmap(testcorr,vmin=-1, vmax=1, square=True)"
   ]
  },
  {
   "cell_type": "code",
   "execution_count": null,
   "metadata": {
    "collapsed": true
   },
   "outputs": [],
   "source": [
    "plt.figure(figsize=(60, 60))\n",
    "sns.heatmap(testcorr,vmin=-1, vmax=1, square=True)"
   ]
  },
  {
   "cell_type": "code",
   "execution_count": null,
   "metadata": {
    "collapsed": true
   },
   "outputs": [],
   "source": [
    "corr"
   ]
  },
  {
   "cell_type": "code",
   "execution_count": 25,
   "metadata": {
    "collapsed": true,
    "scrolled": true
   },
   "outputs": [],
   "source": [
    "data_Y = data_a.iloc[:,len(data_a.columns)-1]"
   ]
  },
  {
   "cell_type": "code",
   "execution_count": 26,
   "metadata": {
    "collapsed": true
   },
   "outputs": [],
   "source": [
    "data_X = data_a.drop(data_a.columns[len(data_a.columns)-1], axis=1)"
   ]
  },
  {
   "cell_type": "code",
   "execution_count": 27,
   "metadata": {},
   "outputs": [
    {
     "data": {
      "text/plain": [
       "u'Is your company planning to attend ISSA/INTERCLEAN North America 2018 in Dallas - October 29 \\u2013 November 1, 2018?'"
      ]
     },
     "execution_count": 27,
     "metadata": {},
     "output_type": "execute_result"
    }
   ],
   "source": [
    "data_X.columns[duplicate_goal[1]-1]"
   ]
  },
  {
   "cell_type": "code",
   "execution_count": 28,
   "metadata": {
    "collapsed": true
   },
   "outputs": [],
   "source": [
    "data_X = data_X.drop(data_X.columns[duplicate_goal[1]-1], axis=1)"
   ]
  },
  {
   "cell_type": "code",
   "execution_count": 34,
   "metadata": {
    "scrolled": true
   },
   "outputs": [
    {
     "name": "stdout",
     "output_type": "stream",
     "text": [
      "0 Respondent ID\n",
      "1 Start Date\n",
      "2 End Date\n",
      "3 IP Address\n",
      "4 Was this your first time attending ISSA/INTERCLEAN?\n",
      "5 Please select the classification that best represents your company type.\n",
      "6 Please indicate your primary job function:\n",
      "7 Other (please specify)\n",
      "8 What year were you born? \n",
      "9 What is your annual budget to purchase cleaning supplies, equipment, and other cleaning materials? \n",
      "10 If you are a first-time attendee, do you think the First-Time Attendee Orientation prepared you for the full schedule of the show? \n",
      "11 What year were you born?\n",
      "12 What is your company's annual sales volume? \n",
      "13 How did you learn of ISSA/INTERCLEAN North America 2017? \n",
      "14 Supplier meetings Please estimate how many of the following activities you personally accomplished during the show:\n",
      "15 Total booth visits\n",
      "16 Booth visits to a new exhibitor or supplier\n",
      "17 Did the increased programming on Thursday influence your decision to visit the exhibit hall on Thursday?\n",
      "18 What could ISSA offer that would influence your decision to visit the exhibit hall on Thursday?\n",
      "19 Did you attend any educational sessions offered through ISSA Convention?\n",
      "20 Please indicate your primary job function.\n",
      "21 How did you hear about ISSA/INTERCLEAN North America?\n",
      "22 Supplier meetings: Please estimate how many of the following activities you personally accomplished during the show:\n",
      "23 Total booth visits:\n",
      "24 Booth visits to a new exhibitor or supplier:\n",
      "25 Did the increased programming on Thursday influence your decision to visit the exhibit hall on Thursday?\n",
      "26 What could ISSA offer that would influence your decision to visit the exhibit hall on the last day of the show?\n",
      "27 What is your company's annual sales volume?\n",
      "28 How did you hear about ISSA/INTERCLEAN North America? \n",
      "29 Did you attend any education sessions offered through ISSA Convention?\n",
      "30 Please estimate how many customer meetings you personally accomplished during the show:\n",
      "31 Are you a member of a distributor marketing group? If yes, please list which one in the comments box.\n",
      "32 Comments\n",
      "33 Supplier Meetings: Please estimate how many of the following activities you personally accomplished during the show:\n",
      "34 Disrupt and Innovate Distributor Track Please rank the top 5 educational activities that you found valuable at the show (1 being the most valuable, 2 being the second most valuable, etc.)\n",
      "35 Commercial Cleaning Business Solutions Track\n",
      "36 Healthcare Environment Essentials Track\n",
      "37 Residential Cleaning Connection Track\n",
      "38 Green Clean Schools Track\n",
      "39 Keynote Speakers\n",
      "40 Welcome Networking Reception\n",
      "41 Evening Roundtable event\n",
      "42 Lunch and Learn\n",
      "43 Digital Official Exhibit Directory Please rank the top 5 elements of ISSA/INTERCLEAN trade show that were of most value to you. ( 1 being the most valuable to you, 2 being the second most valuable to you, etc.)\n",
      "44 Education/Professional Development\n",
      "45 Free WiFi hot spots\n",
      "46 ISSA Innovation Showcase\n",
      "47 ISSA/INTERCLEAN Bistro\n",
      "48 Meeting Hub\n",
      "49 Show Mobile App\n",
      "50 Co-located events by other associations\n",
      "51 ARCSI Evening Receptions Please rank your top three reasons for attending ISSA/INTERCLEAN (1 being the most important, 2 being the second most important, etc.).\n",
      "52 ARSCI Roundtables\n",
      "53 Educational sessions\n",
      "54 Find new suppliers\n",
      "55 Keep up to date with industry trends\n",
      "56 Location of the event\n",
      "57 See new products/innovations\n",
      "58 Please specify other.\n",
      "59 Educational sessions How would you rate ISSA/INTERCLEAN's performance in the following areas?\n",
      "60 Ability to meet peers\n",
      "61 Keynote speakers\n",
      "62 ARCSI Evening Receptions\n",
      "63 ARCSI Rountables\n",
      "64 New products/innovations\n",
      "65 Quality of exhibitors\n",
      "66 Value of attending\n",
      "67 Value of attending last day of show\n",
      "68 First-time Attendee Orientation\n",
      "69 New supply lines\n",
      "70 Did you accomplish all you had planned during the trade show? \n",
      "71 Number on a scale of 1-5 (1 being very good and 5 being disappointing), overall, how would you rate your trade show registration process?\n",
      "72 What can ISSA/ARCSI do to improve the value you receive at ISSA/INTERCLEAN?\n",
      "73 Website This year, ISSA/ARCSI provided tools to help attendees plan for the show with ease. Please rate each tool's usefulness.\n",
      "74 My Show Planner\n",
      "75 If you used these tools, how can we improve them?\n",
      "76 Price Please indicate the importance of the following:\n",
      "77 Location\n",
      "78 Hotel/Host City\n",
      "79 Length of Event\n",
      "80 Education Session Topic\n",
      "81 Time of year\n",
      "82 What educational topics would you like to see offered in 2018?\n",
      "83 Please share any final comments you have on the Residential Cleaning Connection track at 2017 ISSA/INTERCLEAN Trade Show and ISSA Convention.\n",
      "84 In your organizations do you have the final decision on whether you will attend ISSA/INTERCLEAN\n",
      "85 Digital Official Exhibit Directory Please rank the top 5 elements of ISSA/INTERCLEAN trade show that were of most value to you? (1 being the most valuable to you, 2 being the second most valuable to you, etc.)\n",
      "86 Educational/Professional Development\n",
      "87 Co-located event by other associations\n",
      "88 Educational sessions Please rank your top three reasons for attending ISSA/INTERCLEAN (1 being the most important, 2 being the second most important, etc.).\n",
      "89 Educational sessions How would you rate ISSA/INTERCLEAN's performance in the following areas:\n",
      "90 ARCSI Roundtables\n",
      "91 Number on a scale of 1-5 (! being very good and 5 being disappointing), overall, how would you rate your trade show registration process?\n",
      "92 Website This year, ISSA/ARCSI provided tools to help attendees plans for the show with ease. Please rate each tool's usefulness.\n",
      "93 If you use these tools, how can we improve them?\n",
      "94 Education Session Topics\n",
      "95 Please share any final comments you have on the Residential Cleaning Connection track at the 2017 ISSA/INTERCLEAN Trade Show and Convention\n",
      "96 Disrupt and Innovate Distributor Track Please rank the top 5 elements of the ISSA Convention that you found valuable (1 being the most valuable, 2 being the second most valuable, etc.).\n",
      "97 Evening Roundtable Event\n",
      "98 Please estimate how many customer meetings you personally accomplished during the show: \n",
      "99 Digital Official Exhibit Directory Please rank the top 5 elements of ISSA/INTERCLEAN that were of most value to you. (1 being the most valuable, 2 being the second more valuable, etc.)\n",
      "100 Free WiFI hot spots\n",
      "101 Thursday seminars/panels\n",
      "102 Educational Sessions Please rank your top three reasons for attending ISSA/INTERCLEAN (1 being the most important, 2 being the second most important, etc.)\n",
      "103 Meet with current suppliers\n",
      "104 Meet with customers\n",
      "105 See new product/innovations\n",
      "106 Please specify other. \n",
      "107 Customers met with\n",
      "108 New product/innovations\n",
      "109 Digital Official Exhibit Directory Please rank the top 5 elements of ISSA/INTERCLEAN that you found valuable (1 being the most valuable, 2 being the second most valuable, etc.).\n",
      "110 Educational sessions Please rank the top three reasons for attending ISSA/INTERCLEAN (1 being the most important reason, 2 being the second most important, etc.).\n",
      "111 Find new ideas to solve problems\n",
      "112 Meet current suppliers\n",
      "113 New supply lines found\n",
      "114 What can ISSA do to improve the value you receive at ISSA/INTERCLEAN?\n",
      "115 Website This year, ISSA provided tools to help attendees plan for the show with ease. Please rate each tool’s usefulness.\n",
      "116 Hotel/Host city\n",
      "117 Length of event\n",
      "118 Education session topics\n",
      "119 In your organization do you have the final decision on whether you will attend ISSA/INTERCLEAN?\n",
      "120 Name Please provide contact information for the final decision maker regarding who attends ISSA/INTERCLEAN:\n",
      "121 Email\n",
      "122 Phone\n",
      "123 First Name As a thank you for completing this survey, please fill out the below contact information to be eligible to win a $25 gift card. \n"
     ]
    }
   ],
   "source": [
    "for a in range(0, len(data_X.columns)):\n",
    "    print a, data_X.columns[a]"
   ]
  },
  {
   "cell_type": "code",
   "execution_count": 29,
   "metadata": {
    "collapsed": true
   },
   "outputs": [],
   "source": [
    "data_X = data_X.select_dtypes(include = ['int64', 'float64']).iloc[:, 1:]"
   ]
  },
  {
   "cell_type": "code",
   "execution_count": 30,
   "metadata": {
    "collapsed": true
   },
   "outputs": [],
   "source": [
    "data_X = data_X.astype(float)"
   ]
  },
  {
   "cell_type": "code",
   "execution_count": 31,
   "metadata": {
    "collapsed": true
   },
   "outputs": [],
   "source": [
    "data_Y = data_Y.astype(float)"
   ]
  },
  {
   "cell_type": "code",
   "execution_count": 34,
   "metadata": {
    "collapsed": true
   },
   "outputs": [],
   "source": [
    "\n",
    "data_X_hold = data_X.columns\n",
    "imp = Imputer(missing_values='NaN', strategy='mean', axis=1)\n",
    "imp.fit(data_X)\n",
    "data_T=imp.transform(data_X)\n",
    "data_X = pd.DataFrame(data_T, columns = data_X_hold)"
   ]
  },
  {
   "cell_type": "code",
   "execution_count": null,
   "metadata": {
    "collapsed": true
   },
   "outputs": [],
   "source": [
    "scaler = Normalizer().fit(data_X)   # always want to save the value you returned\n",
    "normalizedX = scaler.transform(data_X)\n",
    "data_X = normalizedX\n"
   ]
  },
  {
   "cell_type": "code",
   "execution_count": null,
   "metadata": {
    "collapsed": true
   },
   "outputs": [],
   "source": [
    "#data_X = data_X.fillna(-1)"
   ]
  },
  {
   "cell_type": "code",
   "execution_count": null,
   "metadata": {
    "collapsed": true
   },
   "outputs": [],
   "source": [
    "#scikit-learn indeed strips the column headers in most cases, so just add them back on afterward. \n",
    "#In your example, with X_imputed as the sklearn.preprocessing output and X_train as the original dataframe, \n",
    "#you can put the column headers back on with:\n",
    "\n",
    "#X_imputed_df = pd.DataFrame(X_imputed, columns = X_train.columns)"
   ]
  },
  {
   "cell_type": "code",
   "execution_count": 34,
   "metadata": {
    "collapsed": true
   },
   "outputs": [],
   "source": [
    "X = data_X\n",
    "y = data_Y"
   ]
  },
  {
   "cell_type": "code",
   "execution_count": 35,
   "metadata": {},
   "outputs": [],
   "source": [
    "\n",
    "num_folds = 10\n",
    "num_instances = len(X) \n",
    "seed = 7\n",
    "scoring = None\n",
    "\n"
   ]
  },
  {
   "cell_type": "code",
   "execution_count": 36,
   "metadata": {},
   "outputs": [
    {
     "name": "stdout",
     "output_type": "stream",
     "text": [
      "XGBClassifier: 0.655305 (0.064659)\n"
     ]
    }
   ],
   "source": [
    "models=[]\n",
    "#models.append(('LR', LogisticRegression(random_state = seed)))\n",
    "#models.append(('LASSO', Lasso())) \n",
    "#models.append(('Ridge', Ridge())) \n",
    "#models.append(('LDA', LinearDiscriminantAnalysis()))\n",
    "#models.append(('NB', GaussianNB()))\n",
    "#models.append(('CART', DecisionTreeClassifier(random_state = seed))) \n",
    "#models.append(('KNeighborsClassifier', KNeighborsClassifier())) \n",
    "models.append(('XGBClassifier', xgb.XGBClassifier()))\n",
    "#models.append(('GradientBoostingClassifier', GradientBoostingClassifier(random_state = seed)))\n",
    "#models.append(('AdaBoostClassifier', AdaBoostClassifier(random_state = seed)))\n",
    "#models.append(('RandomForestClassifier', RandomForestClassifier(random_state = seed)))\n",
    "#models.append(('ExtraTreesClassifier', ExtraTreesClassifier(random_state = seed)))\n",
    "#models.append(('DecisionTreeClassifier', DecisionTreeClassifier(random_state = seed)))\n",
    "\n",
    "#models.append(('SVC', SVC(kernel = 'linear', random_state = seed)))\n",
    "#models.append(('LinearSVR', LinearSVR(random_state = seed)))\n",
    "for name, model in models:\n",
    "    kfold = model_selection.KFold(shuffle = True, n_splits=num_folds, random_state=seed)\n",
    "    cv_results = model_selection.cross_val_score(model, X, y, cv=kfold, scoring= scoring)\n",
    "    msg = \"%s: %f (%f)\" % (name, cv_results.mean(), cv_results.std())\n",
    "    print(msg)"
   ]
  },
  {
   "cell_type": "code",
   "execution_count": 37,
   "metadata": {
    "collapsed": true
   },
   "outputs": [],
   "source": [
    "kfold = model_selection.KFold(shuffle = True, n_splits=num_folds, random_state=seed)"
   ]
  },
  {
   "cell_type": "code",
   "execution_count": 37,
   "metadata": {},
   "outputs": [
    {
     "ename": "ValueError",
     "evalue": "Input contains NaN, infinity or a value too large for dtype('float64').",
     "output_type": "error",
     "traceback": [
      "\u001b[1;31m---------------------------------------------------------------------------\u001b[0m",
      "\u001b[1;31mValueError\u001b[0m                                Traceback (most recent call last)",
      "\u001b[1;32m<ipython-input-37-7fe3e6cccb5d>\u001b[0m in \u001b[0;36m<module>\u001b[1;34m()\u001b[0m\n\u001b[0;32m      1\u001b[0m \u001b[0mestimator\u001b[0m \u001b[1;33m=\u001b[0m \u001b[0mxgb\u001b[0m\u001b[1;33m.\u001b[0m\u001b[0mXGBClassifier\u001b[0m\u001b[1;33m(\u001b[0m\u001b[1;33m)\u001b[0m\u001b[1;33m\u001b[0m\u001b[0m\n\u001b[0;32m      2\u001b[0m \u001b[0mrfe\u001b[0m \u001b[1;33m=\u001b[0m \u001b[0mRFECV\u001b[0m\u001b[1;33m(\u001b[0m\u001b[0mestimator\u001b[0m\u001b[1;33m,\u001b[0m\u001b[0mcv\u001b[0m \u001b[1;33m=\u001b[0m \u001b[0mkfold\u001b[0m\u001b[1;33m)\u001b[0m\u001b[1;33m\u001b[0m\u001b[0m\n\u001b[1;32m----> 3\u001b[1;33m \u001b[0mfit\u001b[0m \u001b[1;33m=\u001b[0m \u001b[0mrfe\u001b[0m\u001b[1;33m.\u001b[0m\u001b[0mfit\u001b[0m\u001b[1;33m(\u001b[0m\u001b[0mX\u001b[0m\u001b[1;33m,\u001b[0m\u001b[0my\u001b[0m\u001b[1;33m)\u001b[0m\u001b[1;33m\u001b[0m\u001b[0m\n\u001b[0m\u001b[0;32m      4\u001b[0m \u001b[1;32mprint\u001b[0m\u001b[1;33m(\u001b[0m\u001b[1;34m\"Num of feature: %d\"\u001b[0m\u001b[1;33m)\u001b[0m \u001b[1;33m%\u001b[0m \u001b[0mfit\u001b[0m\u001b[1;33m.\u001b[0m\u001b[0mn_features_\u001b[0m\u001b[1;33m\u001b[0m\u001b[0m\n\u001b[0;32m      5\u001b[0m \u001b[1;31m#print(\"Selected features: %s\") % fit.support_\u001b[0m\u001b[1;33m\u001b[0m\u001b[1;33m\u001b[0m\u001b[0m\n",
      "\u001b[1;32mC:\\Users\\SuperBug\\Anaconda2\\envs\\MDG\\lib\\site-packages\\sklearn\\feature_selection\\rfe.pyc\u001b[0m in \u001b[0;36mfit\u001b[1;34m(self, X, y)\u001b[0m\n\u001b[0;32m    396\u001b[0m             regression).\n\u001b[0;32m    397\u001b[0m         \"\"\"\n\u001b[1;32m--> 398\u001b[1;33m         \u001b[0mX\u001b[0m\u001b[1;33m,\u001b[0m \u001b[0my\u001b[0m \u001b[1;33m=\u001b[0m \u001b[0mcheck_X_y\u001b[0m\u001b[1;33m(\u001b[0m\u001b[0mX\u001b[0m\u001b[1;33m,\u001b[0m \u001b[0my\u001b[0m\u001b[1;33m,\u001b[0m \u001b[1;34m\"csr\"\u001b[0m\u001b[1;33m)\u001b[0m\u001b[1;33m\u001b[0m\u001b[0m\n\u001b[0m\u001b[0;32m    399\u001b[0m \u001b[1;33m\u001b[0m\u001b[0m\n\u001b[0;32m    400\u001b[0m         \u001b[1;31m# Initialization\u001b[0m\u001b[1;33m\u001b[0m\u001b[1;33m\u001b[0m\u001b[0m\n",
      "\u001b[1;32mC:\\Users\\SuperBug\\Anaconda2\\envs\\MDG\\lib\\site-packages\\sklearn\\utils\\validation.pyc\u001b[0m in \u001b[0;36mcheck_X_y\u001b[1;34m(X, y, accept_sparse, dtype, order, copy, force_all_finite, ensure_2d, allow_nd, multi_output, ensure_min_samples, ensure_min_features, y_numeric, warn_on_dtype, estimator)\u001b[0m\n\u001b[0;32m    540\u001b[0m     X = check_array(X, accept_sparse, dtype, order, copy, force_all_finite,\n\u001b[0;32m    541\u001b[0m                     \u001b[0mensure_2d\u001b[0m\u001b[1;33m,\u001b[0m \u001b[0mallow_nd\u001b[0m\u001b[1;33m,\u001b[0m \u001b[0mensure_min_samples\u001b[0m\u001b[1;33m,\u001b[0m\u001b[1;33m\u001b[0m\u001b[0m\n\u001b[1;32m--> 542\u001b[1;33m                     ensure_min_features, warn_on_dtype, estimator)\n\u001b[0m\u001b[0;32m    543\u001b[0m     \u001b[1;32mif\u001b[0m \u001b[0mmulti_output\u001b[0m\u001b[1;33m:\u001b[0m\u001b[1;33m\u001b[0m\u001b[0m\n\u001b[0;32m    544\u001b[0m         y = check_array(y, 'csr', force_all_finite=True, ensure_2d=False,\n",
      "\u001b[1;32mC:\\Users\\SuperBug\\Anaconda2\\envs\\MDG\\lib\\site-packages\\sklearn\\utils\\validation.pyc\u001b[0m in \u001b[0;36mcheck_array\u001b[1;34m(array, accept_sparse, dtype, order, copy, force_all_finite, ensure_2d, allow_nd, ensure_min_samples, ensure_min_features, warn_on_dtype, estimator)\u001b[0m\n\u001b[0;32m    420\u001b[0m                              % (array.ndim, estimator_name))\n\u001b[0;32m    421\u001b[0m         \u001b[1;32mif\u001b[0m \u001b[0mforce_all_finite\u001b[0m\u001b[1;33m:\u001b[0m\u001b[1;33m\u001b[0m\u001b[0m\n\u001b[1;32m--> 422\u001b[1;33m             \u001b[0m_assert_all_finite\u001b[0m\u001b[1;33m(\u001b[0m\u001b[0marray\u001b[0m\u001b[1;33m)\u001b[0m\u001b[1;33m\u001b[0m\u001b[0m\n\u001b[0m\u001b[0;32m    423\u001b[0m \u001b[1;33m\u001b[0m\u001b[0m\n\u001b[0;32m    424\u001b[0m     \u001b[0mshape_repr\u001b[0m \u001b[1;33m=\u001b[0m \u001b[0m_shape_repr\u001b[0m\u001b[1;33m(\u001b[0m\u001b[0marray\u001b[0m\u001b[1;33m.\u001b[0m\u001b[0mshape\u001b[0m\u001b[1;33m)\u001b[0m\u001b[1;33m\u001b[0m\u001b[0m\n",
      "\u001b[1;32mC:\\Users\\SuperBug\\Anaconda2\\envs\\MDG\\lib\\site-packages\\sklearn\\utils\\validation.pyc\u001b[0m in \u001b[0;36m_assert_all_finite\u001b[1;34m(X)\u001b[0m\n\u001b[0;32m     41\u001b[0m             and not np.isfinite(X).all()):\n\u001b[0;32m     42\u001b[0m         raise ValueError(\"Input contains NaN, infinity\"\n\u001b[1;32m---> 43\u001b[1;33m                          \" or a value too large for %r.\" % X.dtype)\n\u001b[0m\u001b[0;32m     44\u001b[0m \u001b[1;33m\u001b[0m\u001b[0m\n\u001b[0;32m     45\u001b[0m \u001b[1;33m\u001b[0m\u001b[0m\n",
      "\u001b[1;31mValueError\u001b[0m: Input contains NaN, infinity or a value too large for dtype('float64')."
     ]
    }
   ],
   "source": [
    "estimator = xgb.XGBClassifier()\n",
    "rfe = RFECV(estimator,cv = kfold)\n",
    "fit = rfe.fit(X,y)\n",
    "print(\"Num of feature: %d\") % fit.n_features_\n",
    "#print(\"Selected features: %s\") % fit.support_\n",
    "print(\"Feature Ranking: %s\") % fit.ranking_\n"
   ]
  },
  {
   "cell_type": "code",
   "execution_count": 39,
   "metadata": {
    "scrolled": true
   },
   "outputs": [
    {
     "name": "stdout",
     "output_type": "stream",
     "text": [
      "0 Start Date\n",
      "1 End Date\n",
      "2 Was this your first time attending ISSA/INTERCLEAN?\n",
      "4 Please indicate your primary job function:\n",
      "5 What year were you born? \n",
      "6 What is your annual budget to purchase cleaning supplies, equipment, and other cleaning materials? \n",
      "7 If you are a first-time attendee, do you think the First-Time Attendee Orientation prepared you for the full schedule of the show? \n",
      "16 Please indicate your primary job function.\n",
      "18 Supplier meetings: Please estimate how many of the following activities you personally accomplished during the show:\n",
      "19 Total booth visits:\n",
      "20 Booth visits to a new exhibitor or supplier:\n",
      "22 What is your company's annual sales volume?\n",
      "25 Please estimate how many customer meetings you personally accomplished during the show:\n",
      "26 Are you a member of a distributor marketing group? If yes, please list which one in the comments box.\n",
      "27 Supplier Meetings: Please estimate how many of the following activities you personally accomplished during the show:\n",
      "34 Welcome Networking Reception\n",
      "43 Show Mobile App\n",
      "54 Keynote speakers\n",
      "83 Disrupt and Innovate Distributor Track Please rank the top 5 elements of the ISSA Convention that you found valuable (1 being the most valuable, 2 being the second most valuable, etc.).\n",
      "84 Evening Roundtable Event\n",
      "85 Please estimate how many customer meetings you personally accomplished during the show: \n",
      "86 Digital Official Exhibit Directory Please rank the top 5 elements of ISSA/INTERCLEAN that were of most value to you. (1 being the most valuable, 2 being the second more valuable, etc.)\n",
      "87 Free WiFI hot spots\n",
      "90 Meet with current suppliers\n",
      "92 See new product/innovations\n",
      "93 Customers met with\n",
      "95 Digital Official Exhibit Directory Please rank the top 5 elements of ISSA/INTERCLEAN that you found valuable (1 being the most valuable, 2 being the second most valuable, etc.).\n",
      "96 Educational sessions Please rank the top three reasons for attending ISSA/INTERCLEAN (1 being the most important reason, 2 being the second most important, etc.).\n",
      "97 Find new ideas to solve problems\n",
      "98 Meet current suppliers\n",
      "99 New supply lines found\n",
      "100 Website This year, ISSA provided tools to help attendees plan for the show with ease. Please rate each tool’s usefulness.\n",
      "101 Hotel/Host city\n",
      "102 Length of event\n",
      "103 Education session topics\n"
     ]
    }
   ],
   "source": [
    "new_features = [] \n",
    "for b in range(0,len(fit.ranking_)):\n",
    "    if fit.ranking_[b] == 1:\n",
    "        new_features.append(b)\n",
    "        print b, X.columns[b]"
   ]
  },
  {
   "cell_type": "code",
   "execution_count": 40,
   "metadata": {
    "collapsed": true
   },
   "outputs": [],
   "source": [
    "new_X = X.iloc[:,new_features]"
   ]
  },
  {
   "cell_type": "code",
   "execution_count": 41,
   "metadata": {
    "collapsed": true
   },
   "outputs": [],
   "source": [
    "X = new_X"
   ]
  },
  {
   "cell_type": "code",
   "execution_count": 43,
   "metadata": {
    "collapsed": true
   },
   "outputs": [],
   "source": [
    "first_new_f = new_features"
   ]
  },
  {
   "cell_type": "code",
   "execution_count": 42,
   "metadata": {},
   "outputs": [
    {
     "name": "stdout",
     "output_type": "stream",
     "text": [
      "LR: 0.665061 (0.051010)\n",
      "NB: 0.560061 (0.095676)\n",
      "CART: 0.560000 (0.075784)\n",
      "KNeighborsClassifier: 0.645366 (0.068050)\n",
      "XGBClassifier: 0.665122 (0.055168)\n",
      "GradientBoostingClassifier: 0.655366 (0.064402)\n",
      "AdaBoostClassifier: 0.625915 (0.046278)\n",
      "RandomForestClassifier: 0.618659 (0.038864)\n",
      "ExtraTreesClassifier: 0.616280 (0.080318)\n",
      "DecisionTreeClassifier: 0.560000 (0.075784)\n"
     ]
    }
   ],
   "source": [
    "models=[]\n",
    "models.append(('LR', LogisticRegression(random_state = seed)))\n",
    "#models.append(('LASSO', Lasso())) \n",
    "#models.append(('Ridge', Ridge())) \n",
    "#models.append(('LDA', LinearDiscriminantAnalysis()))\n",
    "models.append(('NB', GaussianNB()))\n",
    "models.append(('CART', DecisionTreeClassifier(random_state = seed))) \n",
    "models.append(('KNeighborsClassifier', KNeighborsClassifier())) \n",
    "models.append(('XGBClassifier', xgb.XGBClassifier()))\n",
    "models.append(('GradientBoostingClassifier', GradientBoostingClassifier(random_state = seed)))\n",
    "models.append(('AdaBoostClassifier', AdaBoostClassifier(random_state = seed)))\n",
    "models.append(('RandomForestClassifier', RandomForestClassifier(random_state = seed)))\n",
    "models.append(('ExtraTreesClassifier', ExtraTreesClassifier(random_state = seed)))\n",
    "models.append(('DecisionTreeClassifier', DecisionTreeClassifier(random_state = seed)))\n",
    "\n",
    "#models.append(('SVC', SVC(kernel = 'linear', random_state = seed)))\n",
    "#models.append(('LinearSVR', LinearSVR(random_state = seed)))\n",
    "for name, model in models:\n",
    "    kfold = model_selection.KFold(shuffle = True, n_splits=num_folds, random_state=seed)\n",
    "    cv_results = model_selection.cross_val_score(model, X, y, cv=kfold, scoring= scoring)\n",
    "    msg = \"%s: %f (%f)\" % (name, cv_results.mean(), cv_results.std())\n",
    "    print(msg)"
   ]
  },
  {
   "cell_type": "code",
   "execution_count": 44,
   "metadata": {},
   "outputs": [
    {
     "name": "stdout",
     "output_type": "stream",
     "text": [
      "Num of feature: 19\n",
      "Feature Ranking: [ 1  1  1  1  4 13 16  1  1 11 17  1  1  1  1  7  1  9  5  1  6  1  2 14  1\n",
      "  8  1  3  1  1 10  1 15  1 12]\n"
     ]
    }
   ],
   "source": [
    "estimator = xgb.XGBClassifier()\n",
    "rfe = RFECV(estimator,cv = kfold)\n",
    "fit = rfe.fit(X,y)\n",
    "print(\"Num of feature: %d\") % fit.n_features_\n",
    "#print(\"Selected features: %s\") % fit.support_\n",
    "print(\"Feature Ranking: %s\") % fit.ranking_\n"
   ]
  },
  {
   "cell_type": "code",
   "execution_count": 46,
   "metadata": {
    "scrolled": false
   },
   "outputs": [
    {
     "name": "stdout",
     "output_type": "stream",
     "text": [
      "0 Start Date\n",
      "1 End Date\n",
      "2 Was this your first time attending ISSA/INTERCLEAN?\n",
      "3 Please indicate your primary job function:\n",
      "7 Please indicate your primary job function.\n",
      "8 Supplier meetings: Please estimate how many of the following activities you personally accomplished during the show:\n",
      "11 What is your company's annual sales volume?\n",
      "12 Please estimate how many customer meetings you personally accomplished during the show:\n",
      "13 Are you a member of a distributor marketing group? If yes, please list which one in the comments box.\n",
      "14 Supplier Meetings: Please estimate how many of the following activities you personally accomplished during the show:\n",
      "16 Show Mobile App\n",
      "19 Evening Roundtable Event\n",
      "21 Digital Official Exhibit Directory Please rank the top 5 elements of ISSA/INTERCLEAN that were of most value to you. (1 being the most valuable, 2 being the second more valuable, etc.)\n",
      "24 See new product/innovations\n",
      "26 Digital Official Exhibit Directory Please rank the top 5 elements of ISSA/INTERCLEAN that you found valuable (1 being the most valuable, 2 being the second most valuable, etc.).\n",
      "28 Find new ideas to solve problems\n",
      "29 Meet current suppliers\n",
      "31 Website This year, ISSA provided tools to help attendees plan for the show with ease. Please rate each tool’s usefulness.\n",
      "33 Length of event\n"
     ]
    }
   ],
   "source": [
    "top_19_important_features = [] \n",
    "for b in range(0,len(fit.ranking_)):\n",
    "    if fit.ranking_[b] == 1:\n",
    "        top_19_important_features.append(b)\n",
    "        print b, X.columns[b]"
   ]
  },
  {
   "cell_type": "code",
   "execution_count": 100,
   "metadata": {},
   "outputs": [
    {
     "name": "stdout",
     "output_type": "stream",
     "text": [
      "2 Was this your first time attending ISSA/INTERCLEAN?\n",
      "3 Please indicate your primary job function:\n",
      "4 What year were you born? \n",
      "5 What is your annual budget to purchase cleaning supplies, equipment, and other cleaning materials? \n",
      "6 If you are a first-time attendee, do you think the First-Time Attendee Orientation prepared you for the full schedule of the show? \n",
      "7 Please indicate your primary job function.\n",
      "8 Supplier meetings: Please estimate how many of the following activities you personally accomplished during the show:\n",
      "9 Total booth visits:\n",
      "10 Booth visits to a new exhibitor or supplier:\n",
      "11 What is your company's annual sales volume?\n",
      "12 Please estimate how many customer meetings you personally accomplished during the show:\n",
      "13 Are you a member of a distributor marketing group? If yes, please list which one in the comments box.\n",
      "14 Supplier Meetings: Please estimate how many of the following activities you personally accomplished during the show:\n",
      "15 Welcome Networking Reception\n"
     ]
    }
   ],
   "source": [
    "new_additions = []\n",
    "for d in range(2, len(fit.ranking_)- len(top_important_features)):\n",
    "    for e in range(0,len(fit.ranking_)):\n",
    "        if fit.ranking_[e] == d:\n",
    "            new_additions.append(e)\n",
    "            print fit.ranking_[e], X.columns[d]"
   ]
  },
  {
   "cell_type": "code",
   "execution_count": 83,
   "metadata": {
    "collapsed": true
   },
   "outputs": [],
   "source": [
    "new_X = X.iloc[:,top_important_features]"
   ]
  },
  {
   "cell_type": "code",
   "execution_count": 88,
   "metadata": {
    "collapsed": true
   },
   "outputs": [],
   "source": [
    "X = new_X"
   ]
  },
  {
   "cell_type": "code",
   "execution_count": 101,
   "metadata": {},
   "outputs": [
    {
     "name": "stdout",
     "output_type": "stream",
     "text": [
      "XGBClassifier: 0.677317 (0.063114)\n"
     ]
    },
    {
     "ename": "IndexError",
     "evalue": "positional indexers are out-of-bounds",
     "output_type": "error",
     "traceback": [
      "\u001b[1;31m---------------------------------------------------------------------------\u001b[0m",
      "\u001b[1;31mIndexError\u001b[0m                                Traceback (most recent call last)",
      "\u001b[1;32m<ipython-input-101-afcc05ad4f03>\u001b[0m in \u001b[0;36m<module>\u001b[1;34m()\u001b[0m\n\u001b[0;32m      2\u001b[0m \u001b[1;32mfor\u001b[0m \u001b[0mf\u001b[0m \u001b[1;32min\u001b[0m \u001b[0mrange\u001b[0m\u001b[1;33m(\u001b[0m\u001b[1;36m0\u001b[0m\u001b[1;33m,\u001b[0m \u001b[0mlen\u001b[0m\u001b[1;33m(\u001b[0m\u001b[0mnew_additions\u001b[0m\u001b[1;33m)\u001b[0m\u001b[1;33m)\u001b[0m\u001b[1;33m:\u001b[0m\u001b[1;33m\u001b[0m\u001b[0m\n\u001b[0;32m      3\u001b[0m     \u001b[0mtop_important_features\u001b[0m\u001b[1;33m.\u001b[0m\u001b[0mappend\u001b[0m\u001b[1;33m(\u001b[0m\u001b[0mnew_additions\u001b[0m\u001b[1;33m[\u001b[0m\u001b[0mf\u001b[0m\u001b[1;33m]\u001b[0m\u001b[1;33m)\u001b[0m\u001b[1;33m\u001b[0m\u001b[0m\n\u001b[1;32m----> 4\u001b[1;33m     \u001b[0mnew_X\u001b[0m \u001b[1;33m=\u001b[0m \u001b[0mX\u001b[0m\u001b[1;33m.\u001b[0m\u001b[0miloc\u001b[0m\u001b[1;33m[\u001b[0m\u001b[1;33m:\u001b[0m\u001b[1;33m,\u001b[0m\u001b[0mtop_important_features\u001b[0m\u001b[1;33m]\u001b[0m\u001b[1;33m\u001b[0m\u001b[0m\n\u001b[0m\u001b[0;32m      5\u001b[0m     \u001b[0mX\u001b[0m \u001b[1;33m=\u001b[0m \u001b[0mnew_X\u001b[0m\u001b[1;33m\u001b[0m\u001b[0m\n\u001b[0;32m      6\u001b[0m     \u001b[0mname\u001b[0m \u001b[1;33m=\u001b[0m\u001b[1;34m'XGBClassifier'\u001b[0m\u001b[1;33m\u001b[0m\u001b[0m\n",
      "\u001b[1;32mC:\\Users\\SuperBug\\Anaconda2\\envs\\MDG\\lib\\site-packages\\pandas\\core\\indexing.pyc\u001b[0m in \u001b[0;36m__getitem__\u001b[1;34m(self, key)\u001b[0m\n\u001b[0;32m   1323\u001b[0m             \u001b[1;32mexcept\u001b[0m \u001b[1;33m(\u001b[0m\u001b[0mKeyError\u001b[0m\u001b[1;33m,\u001b[0m \u001b[0mIndexError\u001b[0m\u001b[1;33m)\u001b[0m\u001b[1;33m:\u001b[0m\u001b[1;33m\u001b[0m\u001b[0m\n\u001b[0;32m   1324\u001b[0m                 \u001b[1;32mpass\u001b[0m\u001b[1;33m\u001b[0m\u001b[0m\n\u001b[1;32m-> 1325\u001b[1;33m             \u001b[1;32mreturn\u001b[0m \u001b[0mself\u001b[0m\u001b[1;33m.\u001b[0m\u001b[0m_getitem_tuple\u001b[0m\u001b[1;33m(\u001b[0m\u001b[0mkey\u001b[0m\u001b[1;33m)\u001b[0m\u001b[1;33m\u001b[0m\u001b[0m\n\u001b[0m\u001b[0;32m   1326\u001b[0m         \u001b[1;32melse\u001b[0m\u001b[1;33m:\u001b[0m\u001b[1;33m\u001b[0m\u001b[0m\n\u001b[0;32m   1327\u001b[0m             \u001b[0mkey\u001b[0m \u001b[1;33m=\u001b[0m \u001b[0mcom\u001b[0m\u001b[1;33m.\u001b[0m\u001b[0m_apply_if_callable\u001b[0m\u001b[1;33m(\u001b[0m\u001b[0mkey\u001b[0m\u001b[1;33m,\u001b[0m \u001b[0mself\u001b[0m\u001b[1;33m.\u001b[0m\u001b[0mobj\u001b[0m\u001b[1;33m)\u001b[0m\u001b[1;33m\u001b[0m\u001b[0m\n",
      "\u001b[1;32mC:\\Users\\SuperBug\\Anaconda2\\envs\\MDG\\lib\\site-packages\\pandas\\core\\indexing.pyc\u001b[0m in \u001b[0;36m_getitem_tuple\u001b[1;34m(self, tup)\u001b[0m\n\u001b[0;32m   1660\u001b[0m     \u001b[1;32mdef\u001b[0m \u001b[0m_getitem_tuple\u001b[0m\u001b[1;33m(\u001b[0m\u001b[0mself\u001b[0m\u001b[1;33m,\u001b[0m \u001b[0mtup\u001b[0m\u001b[1;33m)\u001b[0m\u001b[1;33m:\u001b[0m\u001b[1;33m\u001b[0m\u001b[0m\n\u001b[0;32m   1661\u001b[0m \u001b[1;33m\u001b[0m\u001b[0m\n\u001b[1;32m-> 1662\u001b[1;33m         \u001b[0mself\u001b[0m\u001b[1;33m.\u001b[0m\u001b[0m_has_valid_tuple\u001b[0m\u001b[1;33m(\u001b[0m\u001b[0mtup\u001b[0m\u001b[1;33m)\u001b[0m\u001b[1;33m\u001b[0m\u001b[0m\n\u001b[0m\u001b[0;32m   1663\u001b[0m         \u001b[1;32mtry\u001b[0m\u001b[1;33m:\u001b[0m\u001b[1;33m\u001b[0m\u001b[0m\n\u001b[0;32m   1664\u001b[0m             \u001b[1;32mreturn\u001b[0m \u001b[0mself\u001b[0m\u001b[1;33m.\u001b[0m\u001b[0m_getitem_lowerdim\u001b[0m\u001b[1;33m(\u001b[0m\u001b[0mtup\u001b[0m\u001b[1;33m)\u001b[0m\u001b[1;33m\u001b[0m\u001b[0m\n",
      "\u001b[1;32mC:\\Users\\SuperBug\\Anaconda2\\envs\\MDG\\lib\\site-packages\\pandas\\core\\indexing.pyc\u001b[0m in \u001b[0;36m_has_valid_tuple\u001b[1;34m(self, key)\u001b[0m\n\u001b[0;32m    187\u001b[0m             \u001b[1;32mif\u001b[0m \u001b[0mi\u001b[0m \u001b[1;33m>=\u001b[0m \u001b[0mself\u001b[0m\u001b[1;33m.\u001b[0m\u001b[0mobj\u001b[0m\u001b[1;33m.\u001b[0m\u001b[0mndim\u001b[0m\u001b[1;33m:\u001b[0m\u001b[1;33m\u001b[0m\u001b[0m\n\u001b[0;32m    188\u001b[0m                 \u001b[1;32mraise\u001b[0m \u001b[0mIndexingError\u001b[0m\u001b[1;33m(\u001b[0m\u001b[1;34m'Too many indexers'\u001b[0m\u001b[1;33m)\u001b[0m\u001b[1;33m\u001b[0m\u001b[0m\n\u001b[1;32m--> 189\u001b[1;33m             \u001b[1;32mif\u001b[0m \u001b[1;32mnot\u001b[0m \u001b[0mself\u001b[0m\u001b[1;33m.\u001b[0m\u001b[0m_has_valid_type\u001b[0m\u001b[1;33m(\u001b[0m\u001b[0mk\u001b[0m\u001b[1;33m,\u001b[0m \u001b[0mi\u001b[0m\u001b[1;33m)\u001b[0m\u001b[1;33m:\u001b[0m\u001b[1;33m\u001b[0m\u001b[0m\n\u001b[0m\u001b[0;32m    190\u001b[0m                 raise ValueError(\"Location based indexing can only have [%s] \"\n\u001b[0;32m    191\u001b[0m                                  \"types\" % self._valid_types)\n",
      "\u001b[1;32mC:\\Users\\SuperBug\\Anaconda2\\envs\\MDG\\lib\\site-packages\\pandas\\core\\indexing.pyc\u001b[0m in \u001b[0;36m_has_valid_type\u001b[1;34m(self, key, axis)\u001b[0m\n\u001b[0;32m   1597\u001b[0m             \u001b[1;32mreturn\u001b[0m \u001b[0mself\u001b[0m\u001b[1;33m.\u001b[0m\u001b[0m_is_valid_integer\u001b[0m\u001b[1;33m(\u001b[0m\u001b[0mkey\u001b[0m\u001b[1;33m,\u001b[0m \u001b[0maxis\u001b[0m\u001b[1;33m)\u001b[0m\u001b[1;33m\u001b[0m\u001b[0m\n\u001b[0;32m   1598\u001b[0m         \u001b[1;32melif\u001b[0m \u001b[0mis_list_like_indexer\u001b[0m\u001b[1;33m(\u001b[0m\u001b[0mkey\u001b[0m\u001b[1;33m)\u001b[0m\u001b[1;33m:\u001b[0m\u001b[1;33m\u001b[0m\u001b[0m\n\u001b[1;32m-> 1599\u001b[1;33m             \u001b[1;32mreturn\u001b[0m \u001b[0mself\u001b[0m\u001b[1;33m.\u001b[0m\u001b[0m_is_valid_list_like\u001b[0m\u001b[1;33m(\u001b[0m\u001b[0mkey\u001b[0m\u001b[1;33m,\u001b[0m \u001b[0maxis\u001b[0m\u001b[1;33m)\u001b[0m\u001b[1;33m\u001b[0m\u001b[0m\n\u001b[0m\u001b[0;32m   1600\u001b[0m         \u001b[1;32mreturn\u001b[0m \u001b[0mFalse\u001b[0m\u001b[1;33m\u001b[0m\u001b[0m\n\u001b[0;32m   1601\u001b[0m \u001b[1;33m\u001b[0m\u001b[0m\n",
      "\u001b[1;32mC:\\Users\\SuperBug\\Anaconda2\\envs\\MDG\\lib\\site-packages\\pandas\\core\\indexing.pyc\u001b[0m in \u001b[0;36m_is_valid_list_like\u001b[1;34m(self, key, axis)\u001b[0m\n\u001b[0;32m   1654\u001b[0m         if (hasattr(arr, '__len__') and len(arr) and\n\u001b[0;32m   1655\u001b[0m                 (arr.max() >= l or arr.min() < -l)):\n\u001b[1;32m-> 1656\u001b[1;33m             \u001b[1;32mraise\u001b[0m \u001b[0mIndexError\u001b[0m\u001b[1;33m(\u001b[0m\u001b[1;34m\"positional indexers are out-of-bounds\"\u001b[0m\u001b[1;33m)\u001b[0m\u001b[1;33m\u001b[0m\u001b[0m\n\u001b[0m\u001b[0;32m   1657\u001b[0m \u001b[1;33m\u001b[0m\u001b[0m\n\u001b[0;32m   1658\u001b[0m         \u001b[1;32mreturn\u001b[0m \u001b[0mTrue\u001b[0m\u001b[1;33m\u001b[0m\u001b[0m\n",
      "\u001b[1;31mIndexError\u001b[0m: positional indexers are out-of-bounds"
     ]
    }
   ],
   "source": [
    "\n",
    "for f in range(0, len(new_additions)):\n",
    "    top_important_features.append(new_additions[f])\n",
    "    new_X = X.iloc[:,top_important_features]\n",
    "    X = new_X\n",
    "    name ='XGBClassifier'\n",
    "    model = xgb.XGBClassifier()\n",
    "    kfold = model_selection.KFold(shuffle = True, n_splits=num_folds, random_state=seed)\n",
    "    cv_results = model_selection.cross_val_score(model, X, y, cv=kfold, scoring= scoring)\n",
    "    msg = \"%s: %f (%f)\" % (name, cv_results.mean(), cv_results.std())\n",
    "    print(msg)"
   ]
  },
  {
   "cell_type": "code",
   "execution_count": null,
   "metadata": {
    "collapsed": true
   },
   "outputs": [],
   "source": [
    "X = new_X"
   ]
  },
  {
   "cell_type": "code",
   "execution_count": 50,
   "metadata": {
    "scrolled": true
   },
   "outputs": [
    {
     "name": "stdout",
     "output_type": "stream",
     "text": [
      "LR: 0.660000 (0.056004)\n",
      "LDA: 0.662439 (0.057462)\n",
      "NB: 0.628354 (0.058525)\n",
      "CART: 0.543049 (0.091559)\n",
      "KNeighborsClassifier: 0.657622 (0.062124)\n",
      "XGBClassifier: 0.648049 (0.054013)\n",
      "GradientBoostingClassifier: 0.645671 (0.063902)\n",
      "AdaBoostClassifier: 0.591585 (0.066997)\n",
      "RandomForestClassifier: 0.606585 (0.062907)\n",
      "ExtraTreesClassifier: 0.589390 (0.077032)\n",
      "DecisionTreeClassifier: 0.543049 (0.091559)\n"
     ]
    }
   ],
   "source": [
    "models=[]\n",
    "models.append(('LR', LogisticRegression(random_state = seed)))\n",
    "#models.append(('LASSO', Lasso())) \n",
    "#models.append(('Ridge', Ridge())) \n",
    "models.append(('LDA', LinearDiscriminantAnalysis()))\n",
    "models.append(('NB', GaussianNB()))\n",
    "models.append(('CART', DecisionTreeClassifier(random_state = seed))) \n",
    "models.append(('KNeighborsClassifier', KNeighborsClassifier())) \n",
    "models.append(('XGBClassifier', xgb.XGBClassifier()))\n",
    "models.append(('GradientBoostingClassifier', GradientBoostingClassifier(random_state = seed)))\n",
    "models.append(('AdaBoostClassifier', AdaBoostClassifier(random_state = seed)))\n",
    "models.append(('RandomForestClassifier', RandomForestClassifier(random_state = seed)))\n",
    "models.append(('ExtraTreesClassifier', ExtraTreesClassifier(random_state = seed)))\n",
    "models.append(('DecisionTreeClassifier', DecisionTreeClassifier(random_state = seed)))\n",
    "\n",
    "#models.append(('SVC', SVC(kernel = 'linear', random_state = seed)))\n",
    "#models.append(('LinearSVR', LinearSVR(random_state = seed)))\n",
    "for name, model in models:\n",
    "    kfold = model_selection.KFold(shuffle = True, n_splits=num_folds, random_state=seed)\n",
    "    cv_results = model_selection.cross_val_score(model, X, y, cv=kfold, scoring= scoring)\n",
    "    msg = \"%s: %f (%f)\" % (name, cv_results.mean(), cv_results.std())\n",
    "    print(msg)"
   ]
  },
  {
   "cell_type": "code",
   "execution_count": null,
   "metadata": {
    "collapsed": true
   },
   "outputs": [],
   "source": [
    "estimator = xgb.XGBClassifier()\n",
    "rfe = RFECV(estimator,cv = kfold)\n",
    "fit = rfe.fit(X,y)\n",
    "print(\"Num of feature: %d\") % fit.n_features_\n",
    "#print(\"Selected features: %s\") % fit.support_\n",
    "print(\"Feature Ranking: %s\") % fit.ranking_\n"
   ]
  },
  {
   "cell_type": "code",
   "execution_count": null,
   "metadata": {
    "collapsed": true
   },
   "outputs": [],
   "source": [
    "estimator = RandomForestClassifier(random_state = seed)\n",
    "rfe = RFECV(estimator,cv = kfold)\n",
    "fit = rfe.fit(X,y)\n",
    "print(\"Num of feature: %d\") % fit.n_features_\n",
    "#print(\"Selected features: %s\") % fit.support_\n",
    "print(\"Feature Ranking: %s\") % fit.ranking_\n"
   ]
  },
  {
   "cell_type": "code",
   "execution_count": null,
   "metadata": {
    "collapsed": true
   },
   "outputs": [],
   "source": [
    "estimator = LogisticRegression(random_state = seed)\n",
    "rfe = RFECV(estimator,cv = kfold)\n",
    "fit = rfe.fit(X,y)\n",
    "print(\"Num of feature: %d\") % fit.n_features_\n",
    "#print(\"Selected features: %s\") % fit.support_\n",
    "print(\"Feature Ranking: %s\") % fit.ranking_"
   ]
  },
  {
   "cell_type": "code",
   "execution_count": null,
   "metadata": {
    "collapsed": true,
    "scrolled": true
   },
   "outputs": [],
   "source": [
    "estimator = AdaBoostClassifier(random_state = seed)\n",
    "rfe = RFECV(estimator,cv = kfold)\n",
    "fit = rfe.fit(X,y)\n",
    "print(\"Num of feature: %d\") % fit.n_features_\n",
    "#print(\"Selected features: %s\") % fit.support_\n",
    "print(\"Feature Ranking: %s\") % fit.ranking_"
   ]
  },
  {
   "cell_type": "code",
   "execution_count": null,
   "metadata": {
    "collapsed": true
   },
   "outputs": [],
   "source": [
    "fit.grid_scores_.sort()"
   ]
  },
  {
   "cell_type": "code",
   "execution_count": null,
   "metadata": {
    "collapsed": true
   },
   "outputs": [],
   "source": [
    "plt.figure()\n",
    "plt.xlabel(\"Number of features selected\")\n",
    "plt.ylabel(\"Cross validation score (nb of correct classifications)\")\n",
    "plt.plot(range(1, len(fit.grid_scores_) + 1), fit.grid_scores_)\n",
    "plt.figure(figsize=(150,150))\n",
    "plt.show()"
   ]
  },
  {
   "cell_type": "code",
   "execution_count": null,
   "metadata": {
    "collapsed": true
   },
   "outputs": [],
   "source": [
    "model=[]\n",
    "model = KNeighborsClassifier(n_neighbors = 3,)\n",
    "kfold = model_selection.KFold(shuffle = True, n_splits=num_folds, random_state=seed)\n",
    "results = model_selection.cross_val_score(model, X, y, cv=kfold)\n",
    "msg = cv_results.mean(), cv_results.std()\n",
    "print(msg)\n"
   ]
  },
  {
   "cell_type": "code",
   "execution_count": null,
   "metadata": {
    "collapsed": true
   },
   "outputs": [],
   "source": [
    "for b in range(0,len(fit.ranking_)):\n",
    "    if fit.ranking_[b] ==1:\n",
    "        print b, X.columns[b]"
   ]
  },
  {
   "cell_type": "code",
   "execution_count": null,
   "metadata": {
    "collapsed": true,
    "scrolled": true
   },
   "outputs": [],
   "source": [
    "estimator = GradientBoostingClassifier(random_state = seed)\n",
    "rfe = RFECV(estimator, cv= kfold)\n",
    "fit = rfe.fit(X,y)\n",
    "print(\"Num of feature: %d\") % fit.n_features_\n",
    "#print(\"Selected features: %s\") % fit.support_\n",
    "print(\"Feature Ranking: %s\") % fit.ranking_"
   ]
  },
  {
   "cell_type": "code",
   "execution_count": null,
   "metadata": {
    "collapsed": true,
    "scrolled": true
   },
   "outputs": [],
   "source": [
    "for a in range(1,11):\n",
    "    for b in range(0,len(fit.ranking_)):\n",
    "        if fit.ranking_[b] == a:\n",
    "            print a, b, X.columns[b]"
   ]
  },
  {
   "cell_type": "code",
   "execution_count": null,
   "metadata": {
    "collapsed": true
   },
   "outputs": [],
   "source": [
    "butter = fit.grid_scores_.sort()\n"
   ]
  },
  {
   "cell_type": "code",
   "execution_count": null,
   "metadata": {
    "collapsed": true
   },
   "outputs": [],
   "source": [
    "fit.grid_scores_"
   ]
  },
  {
   "cell_type": "code",
   "execution_count": null,
   "metadata": {
    "collapsed": true
   },
   "outputs": [],
   "source": [
    "plt.figure()\n",
    "plt.xlabel(\"Number of features selected\")\n",
    "plt.ylabel(\"Cross validation score (nb of correct classifications)\")\n",
    "plt.plot(range(1, len(fit.grid_scores_) + 1), fit.grid_scores_)\n",
    "plt.figure(figsize=(150,150))\n",
    "plt.show()"
   ]
  },
  {
   "cell_type": "code",
   "execution_count": null,
   "metadata": {
    "collapsed": true
   },
   "outputs": [],
   "source": []
  },
  {
   "cell_type": "code",
   "execution_count": null,
   "metadata": {
    "collapsed": true
   },
   "outputs": [],
   "source": [
    "X.columns"
   ]
  },
  {
   "cell_type": "code",
   "execution_count": null,
   "metadata": {
    "collapsed": true
   },
   "outputs": [],
   "source": [
    "print('Feature  Accuracy')\n",
    "for i in range(n_feats):\n",
    "    X = iris.data[:, i].reshape(-1, 1)\n",
    "    scores = cross_val_score(clf, X, y)\n",
    "    print('%d        %g' % (i, scores.mean()))"
   ]
  },
  {
   "cell_type": "code",
   "execution_count": null,
   "metadata": {
    "collapsed": true
   },
   "outputs": [],
   "source": [
    "model = KNeighborsClassifier()\n",
    "the_list = []\n",
    "the_column = []\n",
    "rfe = RFE(model,1)\n",
    "fit = rfe.fit(X,y)\n",
    "\n",
    "    #print(\"Selected features: %s\") % fit.support_\n",
    "for a in range(1,8):\n",
    "    for b in range(0,len(fit.ranking_)):\n",
    "        if fit.ranking_[b] == a:\n",
    "            print a, b, X.columns[b]"
   ]
  },
  {
   "cell_type": "code",
   "execution_count": null,
   "metadata": {
    "collapsed": true
   },
   "outputs": [],
   "source": []
  },
  {
   "cell_type": "code",
   "execution_count": null,
   "metadata": {
    "collapsed": true
   },
   "outputs": [],
   "source": [
    "rfe = RFE(model,1 )\n",
    "fit = rfe.fit(X,y)\n",
    "print(\"Num of feature: %d\") % fit.n_features_\n",
    "print(\"Selected features: %s\") % fit.support_\n",
    "print(\"Feature Ranking: %s\") % fit.ranking_"
   ]
  },
  {
   "cell_type": "code",
   "execution_count": null,
   "metadata": {
    "collapsed": true
   },
   "outputs": [],
   "source": [
    "model = ExtraTreesClassifier(random_state = seed)\n",
    "the_list = []\n",
    "the_column = []\n",
    "rfe = RFE(model,1)\n",
    "fit = rfe.fit(X,y)\n",
    "          \n",
    "print(\"Selected features: %s\") % fit.support_\n",
    "for a in range(1,8):\n",
    "    for b in range(0,len(fit.ranking_)):\n",
    "        if fit.ranking_[b] == a:\n",
    "            print a, b, X.columns[b]\n",
    "print(\"Optimal number of features : %d\" % fit.n_features_)\n",
    "print(\"Feature Ranking: %s\") % fit.ranking_   "
   ]
  },
  {
   "cell_type": "code",
   "execution_count": null,
   "metadata": {
    "collapsed": true
   },
   "outputs": [],
   "source": [
    "print(\"Optimal number of features : %d\" % rfe.n_features_)"
   ]
  },
  {
   "cell_type": "code",
   "execution_count": null,
   "metadata": {
    "collapsed": true
   },
   "outputs": [],
   "source": [
    "print( rfe.ranking_)"
   ]
  },
  {
   "cell_type": "code",
   "execution_count": null,
   "metadata": {
    "collapsed": true
   },
   "outputs": [],
   "source": [
    "print( rfe.ranking_)"
   ]
  },
  {
   "cell_type": "code",
   "execution_count": null,
   "metadata": {
    "collapsed": true
   },
   "outputs": [],
   "source": [
    "model = KNeighborsClassifier()\n",
    "the_list = []\n",
    "the_column = []\n",
    "fit = rfe.fit(X,y)\n",
    "rfe = RFE(model,1)\n",
    "    #print(\"Selected features: %s\") % fit.support_\n",
    "for a in range(1,8):\n",
    "    for b in range(0,len(fit.ranking_)):\n",
    "        if fit.ranking_[b] == a:\n",
    "            print a, b, X.columns[b]"
   ]
  },
  {
   "cell_type": "code",
   "execution_count": null,
   "metadata": {
    "collapsed": true
   },
   "outputs": [],
   "source": [
    "models=[]\n",
    "models.append(('LR', LogisticRegression(random_state = seed)))\n",
    "#models.append(('LASSO', Lasso())) \n",
    "#models.append(('Ridge', Ridge())) \n",
    "models.append(('LDA', LinearDiscriminantAnalysis()))\n",
    "#models.append(('NB', GaussianNB()))\n",
    "models.append(('CART', DecisionTreeClassifier(random_state = seed))) \n",
    "models.append(('KNeighborsClassifier', KNeighborsClassifier())) \n",
    "#models.append(('XGBClassifier', xgb.XGBClassifier()))\n",
    "models.append(('GradientBoostingClassifier', GradientBoostingClassifier(random_state = seed)))\n",
    "models.append(('AdaBoostClassifier', AdaBoostClassifier(random_state = seed)))\n",
    "models.append(('RandomForestClassifier', RandomForestClassifier(random_state = seed)))\n",
    "models.append(('ExtraTreesClassifier', ExtraTreesClassifier(random_state = seed)))\n",
    "models.append(('DecisionTreeClassifier', DecisionTreeClassifier(random_state = seed)))\n",
    "#models.append(('SVC', SVC(kernel = 'linear', probability = True, random_state = seed)))"
   ]
  },
  {
   "cell_type": "code",
   "execution_count": null,
   "metadata": {
    "collapsed": true
   },
   "outputs": [],
   "source": [
    "kfold = model_selection.KFold(shuffle = True, n_splits=num_folds, random_state=seed)"
   ]
  },
  {
   "cell_type": "code",
   "execution_count": null,
   "metadata": {
    "collapsed": true
   },
   "outputs": [],
   "source": []
  },
  {
   "cell_type": "code",
   "execution_count": null,
   "metadata": {
    "collapsed": true
   },
   "outputs": [],
   "source": [
    "\n",
    "def test_ensemble(elist,single_score):\n",
    "    \n",
    "    for l in range(0, len(elist)):\n",
    "        model1=elist[l]\n",
    "        for j in range((l+1), len(elist)):\n",
    "            model2=elist[j]\n",
    "            for k in range((j+1), len(elist)):\n",
    "                model3=elist[k]\n",
    "                estimators=[]\n",
    "                estimators.append(model1)\n",
    "                estimators.append(model2)\n",
    "                estimators.append(model3)\n",
    "                #try:\n",
    "                    \n",
    "                ensemble = VotingClassifier(estimators, voting='soft')\n",
    "                cv_results = model_selection.cross_val_score(ensemble, X, y,scoring = None, cv=kfold) \n",
    "                if cv_results.mean() > single_score:\n",
    "                    print estimators[0][0], estimators[1][0], estimators[2][0]\n",
    "                    msg = \"%f (%f)\" % (cv_results.mean(), cv_results.std())\n",
    "                    print msg\n",
    "                \n",
    "                 \n",
    "                \n",
    "                #except:\n",
    "                    #msg = \" BREAK with: \" + estimators[0][0], estimators[1][0],estimators[2][0]\n",
    "                    #print msg\n",
    "                    \n",
    "           "
   ]
  },
  {
   "cell_type": "code",
   "execution_count": null,
   "metadata": {
    "collapsed": true,
    "scrolled": true
   },
   "outputs": [],
   "source": [
    "test_ensemble(models, 0.65)"
   ]
  },
  {
   "cell_type": "code",
   "execution_count": null,
   "metadata": {
    "collapsed": true
   },
   "outputs": [],
   "source": [
    "LDA ExtraTreesClassifier SVC"
   ]
  },
  {
   "cell_type": "code",
   "execution_count": null,
   "metadata": {
    "collapsed": true
   },
   "outputs": [],
   "source": [
    "estimators=[]\n",
    "model1 = LinearDiscriminantAnalysis()\n",
    "estimators.append(('LDA', model1))\n",
    "model2 = ExtraTreesClassifier(random_state = seed)\n",
    "estimators.append(('ExtraTreesClassifier', model2))\n",
    "model3 = SVC(kernel = 'linear', probability = True, random_state = seed)\n",
    "estimators.append(('SVC', model3))\n",
    "ensemble = VotingClassifier(estimators, voting='soft')\n",
    "ensemblefit = ensemble.fit(X,y)\n",
    "rfe = RFE(ensemblefit,1)\n",
    "fit = rfe.fit(X,y)\n",
    "#kfold = model_selection.KFold(shuffle = True, n_splits=num_folds, random_state=seed)\n",
    "#cv_results = model_selection.cross_val_score(ensemble, X, y, cv=kfold, scoring= scoring) \n",
    "#msg = \"%f (%f)\" % (cv_results.mean(), cv_results.std())\n",
    "print( fit.ranking_)\n"
   ]
  },
  {
   "cell_type": "code",
   "execution_count": null,
   "metadata": {
    "collapsed": true
   },
   "outputs": [],
   "source": [
    "estimators = []\n",
    "model1 = ExtraTreesClassifier(random_state = seed)\n",
    "estimators.append(('ExtraTreesClassifier', model1))\n",
    "model2 = KNeighborsClassifier()\n",
    "estimators.append(('KNeighborsClassifier', model2))\n",
    "model3 = GradientBoostingClassifier(random_state = seed)\n",
    "estimators.append(('GradientBoostingClassifier', model3))\n",
    "\n",
    "\n",
    "ensemble = VotingClassifier(estimators, voting='soft')\n",
    "kfold = model_selection.KFold(shuffle = True, n_splits=num_folds, random_state=seed)\n",
    "cv_results = model_selection.cross_val_score(ensemble, X, y, cv=kfold, scoring= scoring) \n",
    "msg = \"%f (%f)\" % (cv_results.mean(), cv_results.std())\n",
    "print msg"
   ]
  },
  {
   "cell_type": "code",
   "execution_count": null,
   "metadata": {
    "collapsed": true
   },
   "outputs": [],
   "source": [
    "kfold = model_selection.KFold(shuffle = True, n_splits=num_folds, random_state=seed)\n",
    "estimators = []\n",
    "model1 = ExtraTreesClassifier()\n",
    "estimators.append(('ExtraTreesClassifier', model1))\n",
    "model2 = KNeighborsClassifier()\n",
    "estimators.append(('KNeighborsClassifier', model2))\n",
    "model3 = GradientBoostingClassifier()\n",
    "estimators.append(('GradientBoostingClassifier', model3))\n",
    "\n",
    "\n",
    "ensemble = VotingClassifier(estimators, voting='soft')\n",
    "cv_results = model_selection.cross_val_score(ensemble, X, y,scoring = scoring, cv=kfold) \n",
    "msg = \"%f (%f)\" % (cv_results.mean(), cv_results.std())\n",
    "print msg"
   ]
  },
  {
   "cell_type": "code",
   "execution_count": null,
   "metadata": {
    "collapsed": true
   },
   "outputs": [],
   "source": [
    "GradientBoostingClassifier(n_estimators= 32, learning_rate= 0.1, random_state= 7, max_depth= 3)"
   ]
  },
  {
   "cell_type": "code",
   "execution_count": null,
   "metadata": {
    "collapsed": true
   },
   "outputs": [],
   "source": [
    "param_grid = {'n_estimators': [10,20,30], 'learning_rate': [.1,.01,.001], 'random_state': [7], 'max_depth': [2,3,5,7]}\n",
    "local_cv(GradientBoostingClassifier(), param_grid)"
   ]
  },
  {
   "cell_type": "code",
   "execution_count": null,
   "metadata": {
    "collapsed": true
   },
   "outputs": [],
   "source": [
    "def local_cv(model, params):                             #KFOLD WITH GRID SEARCH\n",
    "    param_grid = params\n",
    "    kfold = model_selection.KFold(shuffle = True, n_splits=num_folds, random_state=seed)\n",
    "    grid = GridSearchCV(estimator=model, param_grid=param_grid, scoring=scoring, cv=kfold)\n",
    "    grid_result = grid.fit(X, y)\n",
    "    print(\"Best: %f using %s\" % (grid_result.best_score_, grid_result.best_params_))\n",
    "    for params, mean_score, scores in grid_result.grid_scores_:\n",
    "        print(\"%f (%f) with: %r\" % (scores.mean(), scores.std(), params))"
   ]
  },
  {
   "cell_type": "code",
   "execution_count": null,
   "metadata": {
    "collapsed": true
   },
   "outputs": [],
   "source": [
    "Finding and recommendations,  The question you want to predict for, ask first in your survey, for optimal data collection"
   ]
  }
 ],
 "metadata": {
  "kernelspec": {
   "display_name": "Python 2",
   "language": "python",
   "name": "python2"
  },
  "language_info": {
   "codemirror_mode": {
    "name": "ipython",
    "version": 2
   },
   "file_extension": ".py",
   "mimetype": "text/x-python",
   "name": "python",
   "nbconvert_exporter": "python",
   "pygments_lexer": "ipython2",
   "version": "2.7.13"
  }
 },
 "nbformat": 4,
 "nbformat_minor": 2
}
