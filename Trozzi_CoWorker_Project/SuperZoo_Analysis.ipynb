{
 "cells": [
  {
   "cell_type": "code",
   "execution_count": 290,
   "metadata": {},
   "outputs": [
    {
     "name": "stdout",
     "output_type": "stream",
     "text": [
      "scipy: 0.19.1\n",
      "numpy: 1.12.1\n",
      "matplotlib: 2.0.2\n",
      "pandas: 0.20.3\n",
      "sklearn: 0.19.0\n"
     ]
    }
   ],
   "source": [
    "import scipy\n",
    "print('scipy: {}'.format(scipy.__version__)) # numpy\n",
    "import numpy as np\n",
    "print('numpy: {}'.format(np.__version__))\n",
    "# matplotlib\n",
    "\n",
    "\n",
    "import matplotlib \n",
    "import matplotlib.pyplot as plt\n",
    "print('matplotlib: {}'.format(matplotlib.__version__)) # pandas\n",
    "import pandas as pd\n",
    "print('pandas: {}'.format(pd.__version__))\n",
    "#scikit-learn\n",
    "import sklearn\n",
    "print('sklearn: {}'.format(sklearn.__version__))\n",
    "import xlrd\n",
    "from sklearn.preprocessing import Imputer\n",
    "\n",
    "from sklearn.linear_model import LogisticRegression\n",
    "from sklearn.feature_selection import RFE\n",
    "from sklearn.linear_model import Lasso, Ridge  \n",
    "from sklearn.ensemble import RandomForestClassifier\n",
    "from sklearn.tree import DecisionTreeClassifier\n",
    "from sklearn.svm import SVC\n",
    "from sklearn.model_selection import KFold\n",
    "from sklearn.model_selection import GridSearchCV\n",
    "from sklearn.ensemble import RandomForestClassifier\n",
    "from sklearn.ensemble import AdaBoostClassifier\n",
    "from sklearn.ensemble import ExtraTreesClassifier\n",
    "from sklearn.naive_bayes import GaussianNB\n",
    "from sklearn.ensemble import VotingClassifier\n",
    "from sklearn.discriminant_analysis import LinearDiscriminantAnalysis\n",
    "from sklearn.feature_selection import RFE\n",
    "from sklearn import cross_validation\n",
    "from sklearn.model_selection import GridSearchCV\n",
    "from sklearn import model_selection #might be model_selection <--- this is the new one\n",
    "from sklearn.preprocessing import Normalizer\n",
    "from sklearn.neighbors import KNeighborsClassifier\n",
    "from sklearn.ensemble import GradientBoostingClassifier\n",
    "from sklearn.feature_selection import RFECV\n",
    "import seaborn as sns\n",
    "import xgboost as xgb\n",
    "sns.set_style(\"whitegrid\")\n",
    "%matplotlib inline"
   ]
  },
  {
   "cell_type": "code",
   "execution_count": 43,
   "metadata": {
    "collapsed": true
   },
   "outputs": [],
   "source": [
    "pd.set_option(\"display.max_columns\",500)"
   ]
  },
  {
   "cell_type": "code",
   "execution_count": 291,
   "metadata": {
    "scrolled": false
   },
   "outputs": [],
   "source": [
    "data = pd.read_csv('SuperZooData/Registration_Data/SuperZoo_2016_Registrants_No_Minors.csv', header = 2)"
   ]
  },
  {
   "cell_type": "code",
   "execution_count": 292,
   "metadata": {},
   "outputs": [],
   "source": [
    "test_data = pd.read_csv('SuperZooData/Registration_Data/SuperZoo_2017_Registrants_No_Minors.csv', header = 2)"
   ]
  },
  {
   "cell_type": "code",
   "execution_count": 95,
   "metadata": {
    "collapsed": true
   },
   "outputs": [],
   "source": [
    "def dups_with_dif_index_check(data):\n",
    "    dupes = {}                        # checks to see if duplicated columns with different index values\n",
    "    for col_a in data.columns:\n",
    "        dupes[col_a] = []\n",
    "\n",
    "        for col_b in data.columns:\n",
    "            if col_b in dupes.keys():\n",
    "                continue\n",
    "            if (data.loc[:,col_a] == data.loc[:,col_b]).sum() == len(data.loc[:,col_a]):\n",
    "                dupes[col_a].append(col_b)    \n",
    "   \n",
    "    bad_cols = []   \n",
    "    for col, dup_cols in dupes.iteritems():\n",
    "        bad_cols += dup_cols\n",
    "    bad_cols = set(bad_cols)\n",
    "\n",
    "    data = data.loc[:,~data.columns.isin(bad_cols)]\n",
    "    return data"
   ]
  },
  {
   "cell_type": "code",
   "execution_count": 96,
   "metadata": {
    "collapsed": true
   },
   "outputs": [],
   "source": [
    "def clear_dups_na(data):\n",
    "    data = data.loc[:,~data.columns.duplicated()] \n",
    "    data = data.dropna(axis=1, how='all')\n",
    "    data = data.dropna(axis=0, how='all')\n",
    "    data = dups_with_dif_index_check(data)\n",
    "    return data"
   ]
  },
  {
   "cell_type": "code",
   "execution_count": 97,
   "metadata": {
    "collapsed": true
   },
   "outputs": [],
   "source": [
    "def data_drop_other_text(data):\n",
    "    col = []\n",
    "    for a in data:\n",
    "        if \"_text\" in a or \"_other\" in a:\n",
    "            col.append(a)\n",
    "    data=data.drop(labels = col, axis =1)\n",
    "    return data"
   ]
  },
  {
   "cell_type": "code",
   "execution_count": 98,
   "metadata": {
    "collapsed": true
   },
   "outputs": [],
   "source": [
    "def get_rid_of_nonnumerical_answer(data):\n",
    "    col = [] # THIS NEEDS TO BE CHANGED FOR NEW DATA SET\n",
    "    checker = 1\n",
    "    for a in data.columns:\n",
    "        if '_codes' in a and checker ==1:\n",
    "            checker = 0\n",
    "        if '_codes' not in a and checker == 0:\n",
    "            col.append(a)\n",
    "    data = data.drop(col, axis = 1)\n",
    "    return data"
   ]
  },
  {
   "cell_type": "code",
   "execution_count": 99,
   "metadata": {
    "collapsed": true
   },
   "outputs": [],
   "source": [
    "def answers_dummies(data):\n",
    "    column =[]\n",
    "    for a in data.columns:\n",
    "        if \"_codes\" in a:\n",
    "            column.append(a)  \n",
    "    for a in column:\n",
    "        new_data = data[a].str.get_dummies(sep=',')\n",
    "        data = pd.concat([data, new_data], axis=1)\n",
    "        data = data.drop([a], axis = 1)\n",
    "    return data\n",
    "    "
   ]
  },
  {
   "cell_type": "code",
   "execution_count": 100,
   "metadata": {
    "collapsed": true
   },
   "outputs": [],
   "source": [
    "def data_change_string_drop_dups(data):\n",
    "    for a in data.columns:\n",
    "        if data[a].dtype== np.dtype('O'):\n",
    "            data[a] = data[a].astype('S32')\n",
    "    cols = list(data)    # THIS DROPS ALL COLUMNS THAT HAVE THE SAME VALUE\n",
    "    nunique = data.apply(pd.Series.nunique)\n",
    "    cols_to_drop = nunique[nunique == 1].index\n",
    "    data = data.drop(cols_to_drop, axis=1)\n",
    "    return data"
   ]
  },
  {
   "cell_type": "code",
   "execution_count": 101,
   "metadata": {
    "collapsed": true
   },
   "outputs": [],
   "source": [
    "def purchase_dummies(data):\n",
    "    new_data = data['PurchaseItems'].str.get_dummies(sep=',')\n",
    "    data = pd.concat([data, new_data], axis=1)\n",
    "    data = data.drop(['PurchaseItems'], axis = 1)\n",
    "    return data "
   ]
  },
  {
   "cell_type": "code",
   "execution_count": 102,
   "metadata": {
    "collapsed": true,
    "scrolled": false
   },
   "outputs": [],
   "source": [
    "def state_dummies(data):\n",
    "    s = data.State.value_counts()\n",
    "    s = data.State.value_counts()[s > (8)].index #8\n",
    "    holder = pd.get_dummies(data.State)\n",
    "    holder_smaller = holder[s]\n",
    "    data = pd.concat([data, holder_smaller], axis=1)\n",
    "    return data"
   ]
  },
  {
   "cell_type": "code",
   "execution_count": 136,
   "metadata": {
    "collapsed": true
   },
   "outputs": [],
   "source": [
    "def email_change(data):\n",
    "    for index, row in data.iterrows():\n",
    "        try:\n",
    "            data.loc[index, 'Email'] = data['Email'][index].split(\"@\",1)[1]\n",
    "        except:\n",
    "            pass\n",
    "    return data"
   ]
  },
  {
   "cell_type": "code",
   "execution_count": 104,
   "metadata": {
    "collapsed": true
   },
   "outputs": [],
   "source": [
    "def email_dummies(data):\n",
    "    data = email_change(data)\n",
    "    s = data.Email.value_counts()\n",
    "    s = data.Email.value_counts()[s > (48)].index  #48\n",
    "    holder = pd.get_dummies(data.Email)\n",
    "    holder_smaller = holder[s]\n",
    "    data = pd.concat([data, holder_smaller], axis=1)\n",
    "    return data"
   ]
  },
  {
   "cell_type": "code",
   "execution_count": 105,
   "metadata": {
    "collapsed": true
   },
   "outputs": [],
   "source": [
    "def column_drops(data):\n",
    "    data = data.drop(['WebUrl',\"CheckInDate Date\",\"Aux1\", \"Aux5\",\"FirstPrintDate Time\",\"FirstPrintLocId\", 'FirstPrintStationId','CheckInDate Time',\"ModifyDate Time\", \"IndexDate\"], axis = 1)\n",
    "    data = data.drop(['RegTypeDesc','SourceApp','CountryName','StreamSteps','StreamName', 'RegType','StreamStep',\"AddUserId\",\"ModifyUserId\",\"AddDate Date\",\"AddDate Time\",\"ModifyDate Date\"], axis = 1)\n",
    "    data = data.drop([\"Pwd\", \"UserName\", \"AccountKeyPublic\",\"AccountKeyPrivate\", \"Notes\",'Id', 'AccountId', 'ClientIp', 'StreamId','State', 'StreamStatus'], axis = 1)\n",
    "    return data"
   ]
  },
  {
   "cell_type": "code",
   "execution_count": 106,
   "metadata": {
    "collapsed": true
   },
   "outputs": [],
   "source": [
    "def data_dummies(data):\n",
    "    data = pd.get_dummies(data,columns = ['Aux6', 'ApprovalUserId', 'LangId', 'MemberStatus', 'TermsAccepted'], dummy_na = True)\n",
    "    return data\n",
    "    "
   ]
  },
  {
   "cell_type": "code",
   "execution_count": 107,
   "metadata": {
    "collapsed": true
   },
   "outputs": [],
   "source": [
    "def data_dummies_cleanup(data):\n",
    "    d = {'3001': ['3001', '3001.1']}   \n",
    "    data = data.rename(columns=lambda c: d[c].pop(0) if c in d.keys() else c)\n",
    "    d = {'2001': ['2001', '2001.1']}\n",
    "    data = data.rename(columns=lambda c: d[c].pop(0) if c in d.keys() else c)\n",
    "    # renames duplicate column names\n",
    "    d = {'TermsAccepted_nan': ['TermsAccepted_nan', 'TermsAccepted_nan.1']}\n",
    "    data = data.rename(columns=lambda c: d[c].pop(0) if c in d.keys() else c)\n",
    "    d = {'MemberStatus_nan': ['MemberStatus_nan', 'MemberStatus_nan.1']}\n",
    "    data = data.rename(columns=lambda c: d[c].pop(0) if c in d.keys() else c)\n",
    "    return data"
   ]
  },
  {
   "cell_type": "code",
   "execution_count": 108,
   "metadata": {
    "collapsed": true
   },
   "outputs": [],
   "source": [
    "def processing_data(data):\n",
    "    data = data.apply(pd.to_numeric, errors='ignore')\n",
    "    data = clear_dups_na(data)\n",
    "    data = data_drop_other_text(data)\n",
    "    data = get_rid_of_nonnumerical_answer(data)\n",
    "    data = answers_dummies(data)\n",
    "    data = data_change_string_drop_dups(data)\n",
    "    data = purchase_dummies(data)\n",
    "    data = state_dummies(data)\n",
    "    data = email_dummies(data)\n",
    "    data = column_drops(data)\n",
    "    data = data_dummies(data)\n",
    "    data = data_dummies_cleanup(data)\n",
    "    return data"
   ]
  },
  {
   "cell_type": "code",
   "execution_count": 293,
   "metadata": {},
   "outputs": [],
   "source": [
    "data = processing_data(data)"
   ]
  },
  {
   "cell_type": "code",
   "execution_count": 294,
   "metadata": {},
   "outputs": [],
   "source": [
    "test_data = processing_data(test_data)"
   ]
  },
  {
   "cell_type": "code",
   "execution_count": 141,
   "metadata": {
    "collapsed": true
   },
   "outputs": [],
   "source": [
    "data.to_pickle(\"Data_Zoo.pkl\")"
   ]
  },
  {
   "cell_type": "code",
   "execution_count": 142,
   "metadata": {
    "collapsed": true
   },
   "outputs": [],
   "source": [
    "test_data.to_pickle(\"Data_Zoo_test.pkl\")"
   ]
  },
  {
   "cell_type": "code",
   "execution_count": 305,
   "metadata": {
    "collapsed": true
   },
   "outputs": [],
   "source": [
    "data = pd.read_pickle(\"Data_Zoo.pkl\")"
   ]
  },
  {
   "cell_type": "code",
   "execution_count": 306,
   "metadata": {
    "collapsed": true
   },
   "outputs": [],
   "source": [
    "test_data = pd.read_pickle(\"Data_Zoo_test.pkl\")"
   ]
  },
  {
   "cell_type": "code",
   "execution_count": 297,
   "metadata": {},
   "outputs": [
    {
     "data": {
      "text/plain": [
       "(13444, 358)"
      ]
     },
     "execution_count": 297,
     "metadata": {},
     "output_type": "execute_result"
    }
   ],
   "source": [
    "test_data.shape"
   ]
  },
  {
   "cell_type": "code",
   "execution_count": 298,
   "metadata": {},
   "outputs": [
    {
     "data": {
      "text/plain": [
       "(16253, 361)"
      ]
     },
     "execution_count": 298,
     "metadata": {},
     "output_type": "execute_result"
    }
   ],
   "source": [
    "data.shape"
   ]
  },
  {
   "cell_type": "code",
   "execution_count": 573,
   "metadata": {
    "collapsed": true
   },
   "outputs": [],
   "source": [
    "#(data.T.drop_duplicates(subset=data.index)).T  # to big of a dataset to use this to get rid of duplicate columns with different names"
   ]
  },
  {
   "cell_type": "code",
   "execution_count": 585,
   "metadata": {
    "collapsed": true,
    "scrolled": true
   },
   "outputs": [],
   "source": [
    "#for a in range(0,len(data.columns)):                                          # look at values of columns\n",
    "#    if len(data.iloc[:,1])-data.iloc[:,a].isnull().sum() == 0:\n",
    "#         print data.columns[a], len(data.iloc[:,1])-data.iloc[:,a].isnull().sum()"
   ]
  },
  {
   "cell_type": "code",
   "execution_count": null,
   "metadata": {
    "collapsed": true
   },
   "outputs": [],
   "source": []
  },
  {
   "cell_type": "code",
   "execution_count": 160,
   "metadata": {
    "collapsed": true
   },
   "outputs": [],
   "source": [
    "def y_for_train(train_data):\n",
    "    y =[]\n",
    "    for a in train_data['FirstPrintDate Date']:\n",
    "        if a == 'nan':\n",
    "            y.append(0)\n",
    "        else:\n",
    "            y.append(1)\n",
    "    return y"
   ]
  },
  {
   "cell_type": "code",
   "execution_count": 161,
   "metadata": {
    "collapsed": true
   },
   "outputs": [],
   "source": [
    "def y_for_test(test_data):\n",
    "    y =[]\n",
    "    for a in test_data['FirstPrintDate Date']:\n",
    "        if a == 'nan':\n",
    "            y.append(0)\n",
    "        else:\n",
    "            y.append(1)\n",
    "    return y"
   ]
  },
  {
   "cell_type": "code",
   "execution_count": 177,
   "metadata": {},
   "outputs": [],
   "source": [
    "def train_test_column_sync(data, test_data):\n",
    "    col=[]\n",
    "    for a in data.columns:\n",
    "        for b in test_data.columns:\n",
    "            if a == b:\n",
    "                col.append(b)    \n",
    "    return col"
   ]
  },
  {
   "cell_type": "code",
   "execution_count": 150,
   "metadata": {
    "collapsed": true
   },
   "outputs": [],
   "source": [
    "def data_impute(X):\n",
    "    data_X_hold = X.columns\n",
    "    imp = Imputer(missing_values='NaN', strategy='mean', axis=1)\n",
    "    imp.fit(X)\n",
    "    data_T=imp.transform(X)\n",
    "    X = pd.DataFrame(data_T, columns = data_X_hold)\n",
    "    return X"
   ]
  },
  {
   "cell_type": "code",
   "execution_count": 299,
   "metadata": {},
   "outputs": [],
   "source": [
    "def train_test_processing(data, test_data):\n",
    "    train_Y = y_for_train(data)\n",
    "    test_Y = y_for_test(test_data)\n",
    "    train_X = data.select_dtypes(include = ['int64', 'float64', 'uint8']).iloc[:, 1:]\n",
    "    test_X = test_data.select_dtypes(include = ['int64', 'float64', 'uint8']).iloc[:, 1:]\n",
    "    col = train_test_column_sync(train_X, test_X)\n",
    "    train_X = data[col]\n",
    "    test_X = test_data[col]\n",
    "    train_X = data_impute(train_X)\n",
    "    test_X = data_impute(test_X)\n",
    "    return (train_X, train_Y, test_X, test_Y)"
   ]
  },
  {
   "cell_type": "code",
   "execution_count": 307,
   "metadata": {},
   "outputs": [],
   "source": [
    "train_X, train_Y, test_X, test_Y = train_test_processing(data, test_data)"
   ]
  },
  {
   "cell_type": "code",
   "execution_count": 186,
   "metadata": {
    "collapsed": true
   },
   "outputs": [],
   "source": [
    "import pandas_ml as pdml\n",
    "import imblearn"
   ]
  },
  {
   "cell_type": "code",
   "execution_count": 308,
   "metadata": {
    "collapsed": true
   },
   "outputs": [],
   "source": [
    "train_Y = pd.DataFrame(train_Y)"
   ]
  },
  {
   "cell_type": "code",
   "execution_count": 309,
   "metadata": {},
   "outputs": [],
   "source": [
    "data_normalized = pd.concat([train_X, train_Y], axis = 1)\n"
   ]
  },
  {
   "cell_type": "code",
   "execution_count": 310,
   "metadata": {},
   "outputs": [],
   "source": [
    "data_normalized = pdml.ModelFrame(data_normalized, target = 0)"
   ]
  },
  {
   "cell_type": "code",
   "execution_count": 311,
   "metadata": {
    "collapsed": true
   },
   "outputs": [],
   "source": [
    "sampler = data_normalized.imbalance.over_sampling.SMOTE()\n",
    "sampled = data_normalized.fit_sample(sampler)\n",
    "sampled=pd.DataFrame(sampled)"
   ]
  },
  {
   "cell_type": "code",
   "execution_count": 312,
   "metadata": {},
   "outputs": [],
   "source": [
    "sampled = sampled.sample(frac=1)\n",
    "train_Y = sampled[0]\n",
    "train_X = sampled.drop([0], axis = 1)"
   ]
  },
  {
   "cell_type": "code",
   "execution_count": null,
   "metadata": {
    "collapsed": true
   },
   "outputs": [],
   "source": []
  },
  {
   "cell_type": "code",
   "execution_count": null,
   "metadata": {
    "collapsed": true
   },
   "outputs": [],
   "source": []
  },
  {
   "cell_type": "code",
   "execution_count": null,
   "metadata": {
    "collapsed": true
   },
   "outputs": [],
   "source": []
  },
  {
   "cell_type": "code",
   "execution_count": null,
   "metadata": {
    "collapsed": true
   },
   "outputs": [],
   "source": []
  },
  {
   "cell_type": "code",
   "execution_count": 313,
   "metadata": {
    "collapsed": true
   },
   "outputs": [],
   "source": [
    "num_folds = 10\n",
    "num_instances = len(train_X) \n",
    "seed = 7\n",
    "scoring = 'roc_auc'"
   ]
  },
  {
   "cell_type": "code",
   "execution_count": 302,
   "metadata": {},
   "outputs": [
    {
     "name": "stdout",
     "output_type": "stream",
     "text": [
      "LR: 0.524839 (0.009420)\n",
      "NB: 0.491376 (0.012143)\n",
      "KNeighborsClassifier: 0.684416 (0.013621)\n",
      "XGBClassifier: 0.726516 (0.012144)\n",
      "GradientBoostingClassifier: 0.727023 (0.012655)\n",
      "AdaBoostClassifier: 0.715981 (0.009735)\n",
      "RandomForestClassifier: 0.720782 (0.013313)\n",
      "ExtraTreesClassifier: 0.708166 (0.012427)\n",
      "DecisionTreeClassifier: 0.669955 (0.013454)\n"
     ]
    }
   ],
   "source": [
    "models=[]\n",
    "models.append(('LR', LogisticRegression(random_state = seed)))\n",
    "#models.append(('LASSO', Lasso())) \n",
    "#models.append(('Ridge', Ridge())) \n",
    "#models.append(('LDA', LinearDiscriminantAnalysis()))\n",
    "models.append(('NB', GaussianNB()))\n",
    "models.append(('KNeighborsClassifier', KNeighborsClassifier(n_neighbors =  25, weights = 'distance'))) \n",
    "models.append(('XGBClassifier', xgb.XGBClassifier()))\n",
    "models.append(('GradientBoostingClassifier', GradientBoostingClassifier(random_state = seed)))\n",
    "models.append(('AdaBoostClassifier', AdaBoostClassifier(random_state = seed)))\n",
    "models.append(('RandomForestClassifier', RandomForestClassifier(random_state = seed)))\n",
    "models.append(('ExtraTreesClassifier', ExtraTreesClassifier(random_state = seed)))\n",
    "models.append(('DecisionTreeClassifier', DecisionTreeClassifier(random_state = seed)))\n",
    "for name, model in models:\n",
    "    kfold = model_selection.KFold(shuffle = True, n_splits=num_folds, random_state=seed)\n",
    "    cv_results = model_selection.cross_val_score(model, train_X, train_Y, cv=kfold, scoring= scoring)\n",
    "    msg = \"%s: %f (%f)\" % (name, cv_results.mean(), cv_results.std())\n",
    "    print(msg)"
   ]
  },
  {
   "cell_type": "code",
   "execution_count": null,
   "metadata": {
    "collapsed": true
   },
   "outputs": [],
   "source": []
  },
  {
   "cell_type": "code",
   "execution_count": 216,
   "metadata": {
    "collapsed": true
   },
   "outputs": [],
   "source": [
    "model = RandomForestClassifier(random_state = seed)\n",
    "model.fit(train_X, train_Y)\n",
    "#test_preds = model.predict(test_X)\n",
    "array = model.predict(train_X)\n",
    "probab = model.predict_proba(train_X)\n"
   ]
  },
  {
   "cell_type": "code",
   "execution_count": 898,
   "metadata": {},
   "outputs": [
    {
     "data": {
      "text/plain": [
       "array([ 0.24021084,  0.75978916])"
      ]
     },
     "execution_count": 898,
     "metadata": {},
     "output_type": "execute_result"
    }
   ],
   "source": [
    "probab[3]"
   ]
  },
  {
   "cell_type": "code",
   "execution_count": 217,
   "metadata": {},
   "outputs": [
    {
     "name": "stdout",
     "output_type": "stream",
     "text": [
      "Frequency of unique values of the said array:\n",
      "[[    0     1]\n",
      " [11825  9287]]\n"
     ]
    }
   ],
   "source": [
    "unique_elements, counts_elements = np.unique(array, return_counts=True)  # this is predictions\n",
    "print(\"Frequency of unique values of the said array:\")\n",
    "print(np.asarray((unique_elements, counts_elements)))"
   ]
  },
  {
   "cell_type": "code",
   "execution_count": 218,
   "metadata": {},
   "outputs": [
    {
     "name": "stdout",
     "output_type": "stream",
     "text": [
      "Frequency of unique values of the said array:\n",
      "[[    0     1]\n",
      " [10556 10556]]\n"
     ]
    }
   ],
   "source": [
    "unique_elements, counts_elements = np.unique(train_Y, return_counts=True) #this is actual\n",
    "print(\"Frequency of unique values of the said array:\")\n",
    "print(np.asarray((unique_elements, counts_elements)))"
   ]
  },
  {
   "cell_type": "code",
   "execution_count": 220,
   "metadata": {
    "collapsed": true
   },
   "outputs": [],
   "source": [
    "from sklearn.metrics import confusion_matrix"
   ]
  },
  {
   "cell_type": "code",
   "execution_count": 222,
   "metadata": {},
   "outputs": [
    {
     "data": {
      "text/plain": [
       "array([[9747,  809],\n",
       "       [2078, 8478]], dtype=int64)"
      ]
     },
     "execution_count": 222,
     "metadata": {},
     "output_type": "execute_result"
    }
   ],
   "source": [
    "confusion_matrix(train_Y, array)"
   ]
  },
  {
   "cell_type": "code",
   "execution_count": 258,
   "metadata": {},
   "outputs": [
    {
     "name": "stdout",
     "output_type": "stream",
     "text": [
      "Num of feature: 65\n",
      "Feature Ranking: [  1   1   1   1   1   1   1  12   1  25   1   1   1   1   1   1   1   1\n",
      "   1   1   1   1   4  49   1   1   3   2  59   1   1   7  72  74  76  78\n",
      "  80  82  84  86  88  90  92  94  96  98 100 102 104 106 108 110 112 114\n",
      " 116 118 120 122 124 126 128 130 132 134 136 138 140 142 144 145 139 146\n",
      " 148  53   1  29  27 163  19   1 169 171   1 174 176 179 178 153 155 157\n",
      "   1   5   1 180 182 184 185   1 189   1  30  32  18   1   1  48  36  37\n",
      "  34  54  55  38   1  42  44  56  60  62  67  10 150 158 160 164 186 190\n",
      " 192 194   8   1 200 202 203 204   9 208 210 212 214 216 218 220 222 224\n",
      " 226 228 230 232 234 236 238 240 241 239 237 235 233 231 229 227 225 223\n",
      " 221 219 217 215 213 211 209 207 201 199 177 175 173 137 135 133 131 129\n",
      " 127 125 123 121 119 117 115 113 111 109 107 105 103 101  99  97  95  93\n",
      "  91  89  87  85  83  81  79  77  75  73  71  68  69  70  13   1  52   1\n",
      "   1   1   1   1   1   1   1   1 147   1 172 151   1  22   1 161   1  39\n",
      " 166 167   6 181 183 187   1 188   1  47 170  58  64  63  61  57   1 141\n",
      " 143  66 152 154 156   1 162 168 191 165 159 149  50  65  46  45  43  51\n",
      "  41  33  35  31   1  28   1   1   1   1  21  24  26  23   1  20  14  15\n",
      "  16  17   1   1   1   1  40   1 193 195 196 197 198  11   1 205 206]\n"
     ]
    }
   ],
   "source": [
    "estimator = xgb.XGBClassifier()\n",
    "rfe = RFECV(estimator,cv = kfold)\n",
    "fit = rfe.fit(train_X,train_Y)\n",
    "print(\"Num of feature: %d\") % fit.n_features_\n",
    "#print(\"Selected features: %s\") % fit.support_\n",
    "print(\"Feature Ranking: %s\") % fit.ranking_"
   ]
  },
  {
   "cell_type": "code",
   "execution_count": 259,
   "metadata": {},
   "outputs": [
    {
     "name": "stdout",
     "output_type": "stream",
     "text": [
      "0 Phone2Number\n",
      "1 FaxCountryPrefix\n",
      "2 AmountBilled\n",
      "3 AmountPaid\n",
      "4 AmountDue\n",
      "5 0201\n",
      "6 0202\n",
      "8 0204\n",
      "10 0206\n",
      "11 0207\n",
      "12 0208\n",
      "13 0209\n",
      "14 0210\n",
      "15 0211\n",
      "16 0212\n",
      "17 0213\n",
      "18 0214\n",
      "19 0215\n",
      "20 0216\n",
      "21 0217\n",
      "24 0220\n",
      "25 0221\n",
      "29 0225\n",
      "30 0226\n",
      "74 3801\n",
      "79 4101\n",
      "82 4303\n",
      "90 4314\n",
      "92 4316\n",
      "97 4322\n",
      "99 4324\n",
      "103 4329\n",
      "104 4330\n",
      "112 1002\n",
      "129 1019\n",
      "213 ATL\n",
      "215 CON\n",
      "216 CA\n",
      "217 NV\n",
      "218 AZ\n",
      "219 TX\n",
      "220 CO\n",
      "221 WA\n",
      "222 UT\n",
      "223 FL\n",
      "225 NY\n",
      "228 MO\n",
      "230 NJ\n",
      "232 ON\n",
      "240 GA\n",
      "242 NC\n",
      "250 OK\n",
      "257 IA\n",
      "274 MS\n",
      "276 gmail.com\n",
      "277 yahoo.com\n",
      "278 aol.com\n",
      "279 hotmail.com\n",
      "284 comcast.net\n",
      "290 Aux6_1.0\n",
      "291 Aux6_nan\n",
      "292 ApprovalUserId_0.0\n",
      "293 ApprovalUserId_20.0\n",
      "295 LangId_0.0\n",
      "302 TermsAccepted_accepted\n"
     ]
    }
   ],
   "source": [
    "top_65_important_features = [] \n",
    "for b in range(0,len(fit.ranking_)):\n",
    "    if fit.ranking_[b] == 1:\n",
    "        top_65_important_features.append(b)\n",
    "        print b,train_X.columns[b]"
   ]
  },
  {
   "cell_type": "code",
   "execution_count": 260,
   "metadata": {},
   "outputs": [],
   "source": [
    "new_X = train_X.iloc[:,top_65_important_features]"
   ]
  },
  {
   "cell_type": "code",
   "execution_count": 261,
   "metadata": {
    "collapsed": true
   },
   "outputs": [],
   "source": [
    "X = new_X"
   ]
  },
  {
   "cell_type": "code",
   "execution_count": 262,
   "metadata": {
    "collapsed": true
   },
   "outputs": [],
   "source": [
    "top_65_important_features = X"
   ]
  },
  {
   "cell_type": "code",
   "execution_count": 263,
   "metadata": {},
   "outputs": [
    {
     "name": "stdout",
     "output_type": "stream",
     "text": [
      "LR: 0.526844 (0.010144)\n",
      "NB: 0.486151 (0.009406)\n",
      "KNeighborsClassifier: 0.722892 (0.007454)\n",
      "XGBClassifier: 0.804854 (0.007700)\n",
      "GradientBoostingClassifier: 0.807666 (0.007756)\n",
      "AdaBoostClassifier: 0.772521 (0.008043)\n",
      "RandomForestClassifier: 0.813782 (0.008067)\n",
      "ExtraTreesClassifier: 0.806757 (0.007773)\n",
      "DecisionTreeClassifier: 0.758981 (0.007442)\n"
     ]
    }
   ],
   "source": [
    "models=[]\n",
    "models.append(('LR', LogisticRegression(random_state = seed)))\n",
    "#models.append(('LASSO', Lasso())) \n",
    "#models.append(('Ridge', Ridge())) \n",
    "#models.append(('LDA', LinearDiscriminantAnalysis()))\n",
    "models.append(('NB', GaussianNB()))\n",
    "models.append(('KNeighborsClassifier', KNeighborsClassifier())) \n",
    "models.append(('XGBClassifier', xgb.XGBClassifier()))\n",
    "models.append(('GradientBoostingClassifier', GradientBoostingClassifier(random_state = seed)))\n",
    "models.append(('AdaBoostClassifier', AdaBoostClassifier(random_state = seed)))\n",
    "models.append(('RandomForestClassifier', RandomForestClassifier(random_state = seed)))\n",
    "models.append(('ExtraTreesClassifier', ExtraTreesClassifier(random_state = seed)))\n",
    "models.append(('DecisionTreeClassifier', DecisionTreeClassifier(random_state = seed)))\n",
    "#models.append(('SVC', SVC(kernel = 'linear', random_state = seed)))\n",
    "#models.append(('LinearSVR', LinearSVR(random_state = seed)))\n",
    "for name, model in models:\n",
    "    kfold = model_selection.KFold(shuffle = True, n_splits=num_folds, random_state=seed)\n",
    "    cv_results = model_selection.cross_val_score(model, X, train_Y, cv=kfold, scoring= scoring)\n",
    "    msg = \"%s: %f (%f)\" % (name, cv_results.mean(), cv_results.std())\n",
    "    print(msg)"
   ]
  },
  {
   "cell_type": "code",
   "execution_count": 480,
   "metadata": {
    "collapsed": true
   },
   "outputs": [],
   "source": [
    "y_test = pd.DataFrame({'y': y})"
   ]
  },
  {
   "cell_type": "code",
   "execution_count": 271,
   "metadata": {
    "collapsed": true
   },
   "outputs": [],
   "source": [
    "Z=[]\n",
    "Z=pd.concat([X,train_Y],axis=1)"
   ]
  },
  {
   "cell_type": "code",
   "execution_count": 272,
   "metadata": {
    "collapsed": true
   },
   "outputs": [],
   "source": [
    "corr = Z.select_dtypes(include = ['int64', 'float64','uint8']).iloc[:, 1:].corr()"
   ]
  },
  {
   "cell_type": "code",
   "execution_count": 273,
   "metadata": {},
   "outputs": [
    {
     "data": {
      "image/png": "[encoded data removed]",
      "text/plain": [
       "<matplotlib.figure.Figure at 0x2ec3c160>"
      ]
     },
     "metadata": {},
     "output_type": "display_data"
    }
   ],
   "source": [
    "mask = np.zeros_like(corr)\n",
    "mask[np.triu_indices_from(mask)] = True\n",
    "plt.figure(figsize=(60, 60))\n",
    "with sns.axes_style(\"white\"):\n",
    "    ax = sns.heatmap(corr, mask=mask, vmin = -1, vmax=1, square=True)"
   ]
  },
  {
   "cell_type": "code",
   "execution_count": 112,
   "metadata": {
    "collapsed": true
   },
   "outputs": [],
   "source": [
    "\n",
    "pd.set_option('display.max_columns', 500)"
   ]
  },
  {
   "cell_type": "code",
   "execution_count": null,
   "metadata": {
    "collapsed": true
   },
   "outputs": [],
   "source": []
  },
  {
   "cell_type": "code",
   "execution_count": 237,
   "metadata": {},
   "outputs": [
    {
     "name": "stdout",
     "output_type": "stream",
     "text": [
      "('LR', 'NB', 'XGBClassifier', 0.80373094511182885, 0.0074459607933667054)\n",
      "('LR', 'NB', 'GradientBoostingClassifier', 0.80713897061068562, 0.0078512408350388599)\n",
      "('LR', 'NB', 'RandomForestClassifier', 0.82051366423957095, 0.0067826765094150905)\n",
      "('LR', 'NB', 'ExtraTreesClassifier', 0.8174011703123345, 0.0049786257282491819)\n",
      "('LR', 'CART', 'XGBClassifier', 0.80893673369267893, 0.0063677302385076193)\n",
      "('LR', 'CART', 'GradientBoostingClassifier', 0.8094223329283613, 0.0062800044189039034)\n",
      "('LR', 'CART', 'RandomForestClassifier', 0.81054208304468178, 0.0063486744935278751)\n",
      "('LR', 'CART', 'ExtraTreesClassifier', 0.8067311720566579, 0.0050780211636971429)\n",
      "('LR', 'KNeighborsClassifier', 'GradientBoostingClassifier', 0.80098194320036475, 0.006733224410853219)\n",
      "('LR', 'KNeighborsClassifier', 'RandomForestClassifier', 0.80875876278133385, 0.0064720190280071286)\n",
      "('LR', 'KNeighborsClassifier', 'ExtraTreesClassifier', 0.80984221464294848, 0.0048449848855204661)\n",
      "('LR', 'XGBClassifier', 'GradientBoostingClassifier', 0.80732558124006215, 0.0075024201127702073)\n",
      "('LR', 'XGBClassifier', 'AdaBoostClassifier', 0.80424404687363538, 0.0072950066989505048)\n",
      "('LR', 'XGBClassifier', 'RandomForestClassifier', 0.83441027866003381, 0.0063893533635524134)\n",
      "('LR', 'XGBClassifier', 'ExtraTreesClassifier', 0.83757240791810406, 0.0044568686408286255)\n",
      "('LR', 'XGBClassifier', 'DecisionTreeClassifier', 0.80893673369267893, 0.0063677302385076193)\n",
      "('LR', 'GradientBoostingClassifier', 'AdaBoostClassifier', 0.80764800594226693, 0.0077088406356149971)\n",
      "('LR', 'GradientBoostingClassifier', 'RandomForestClassifier', 0.83502847564582405, 0.0064333108255658954)\n",
      "('LR', 'GradientBoostingClassifier', 'ExtraTreesClassifier', 0.83823670352819524, 0.0045499450163819814)\n",
      "('LR', 'GradientBoostingClassifier', 'DecisionTreeClassifier', 0.80942197421542394, 0.0062795124408535925)\n",
      "('LR', 'AdaBoostClassifier', 'RandomForestClassifier', 0.82523577645805413, 0.0064228956486288534)\n",
      "('LR', 'AdaBoostClassifier', 'ExtraTreesClassifier', 0.82472261253191204, 0.0048748966199773144)\n",
      "('LR', 'RandomForestClassifier', 'ExtraTreesClassifier', 0.82788269111935708, 0.0053094581315830886)\n",
      "('LR', 'RandomForestClassifier', 'DecisionTreeClassifier', 0.81053625542246499, 0.0063444852442571713)\n",
      "('LR', 'ExtraTreesClassifier', 'DecisionTreeClassifier', 0.80673256375395808, 0.0050824194703703619)\n",
      "('NB', 'CART', 'XGBClassifier', 0.80857427542826932, 0.0062852689213570203)\n",
      "('NB', 'CART', 'GradientBoostingClassifier', 0.80906396227289368, 0.0062020737896530016)\n",
      "('NB', 'CART', 'RandomForestClassifier', 0.81023787073320308, 0.0064662474580642233)\n",
      "('NB', 'CART', 'ExtraTreesClassifier', 0.80616236343363246, 0.0051385583073601283)\n",
      "('NB', 'KNeighborsClassifier', 'GradientBoostingClassifier', 0.80052288813110584, 0.0068164086499200097)\n",
      "('NB', 'KNeighborsClassifier', 'RandomForestClassifier', 0.80853045669071066, 0.0063635327104760893)\n",
      "('NB', 'KNeighborsClassifier', 'ExtraTreesClassifier', 0.80960221814976963, 0.0047278780525918836)\n",
      "('NB', 'XGBClassifier', 'GradientBoostingClassifier', 0.80686613009377817, 0.0076067099261859575)\n",
      "('NB', 'XGBClassifier', 'AdaBoostClassifier', 0.803470358751734, 0.0073695702091499836)\n",
      "('NB', 'XGBClassifier', 'RandomForestClassifier', 0.83402340261992658, 0.006422111685521566)\n",
      "('NB', 'XGBClassifier', 'ExtraTreesClassifier', 0.83722186571447921, 0.0045008267728020579)\n",
      "('NB', 'XGBClassifier', 'DecisionTreeClassifier', 0.80857427547181815, 0.0062851848245584086)\n",
      "('NB', 'GradientBoostingClassifier', 'AdaBoostClassifier', 0.80682578298290741, 0.0077892342655643395)\n",
      "('NB', 'GradientBoostingClassifier', 'RandomForestClassifier', 0.83465664250543592, 0.0064770748311168153)\n",
      "('NB', 'GradientBoostingClassifier', 'ExtraTreesClassifier', 0.83790739596199604, 0.0045773794551857054)\n",
      "('NB', 'GradientBoostingClassifier', 'DecisionTreeClassifier', 0.80906396231644229, 0.0062019932589712336)\n",
      "('NB', 'AdaBoostClassifier', 'RandomForestClassifier', 0.82450554122505504, 0.0064151790588038828)\n",
      "('NB', 'AdaBoostClassifier', 'ExtraTreesClassifier', 0.82406885737299229, 0.0048056452045986287)\n",
      "('NB', 'RandomForestClassifier', 'ExtraTreesClassifier', 0.82759271878412211, 0.0053688569692205814)\n",
      "('NB', 'RandomForestClassifier', 'DecisionTreeClassifier', 0.81024532201356192, 0.0064714998401986679)\n",
      "('NB', 'ExtraTreesClassifier', 'DecisionTreeClassifier', 0.80616811609149974, 0.0051438176928868418)\n",
      "('CART', 'KNeighborsClassifier', 'XGBClassifier', 0.81494331470948222, 0.0057141641467858204)\n",
      "('CART', 'KNeighborsClassifier', 'GradientBoostingClassifier', 0.81567606284075533, 0.0058103441148764949)\n",
      "('CART', 'KNeighborsClassifier', 'RandomForestClassifier', 0.81465007759384489, 0.0060935382654743403)\n",
      "('CART', 'KNeighborsClassifier', 'ExtraTreesClassifier', 0.81457533320419695, 0.0051220346783120343)\n",
      "('CART', 'XGBClassifier', 'GradientBoostingClassifier', 0.81447150464346918, 0.0061021860750756505)\n",
      "('CART', 'XGBClassifier', 'AdaBoostClassifier', 0.8091061747279259, 0.0063735618787067365)\n",
      "('CART', 'XGBClassifier', 'RandomForestClassifier', 0.82323529869688239, 0.005714240227708384)\n",
      "('CART', 'XGBClassifier', 'ExtraTreesClassifier', 0.82500212805396589, 0.0043423941318486113)\n",
      "('CART', 'XGBClassifier', 'DecisionTreeClassifier', 0.8056599883534652, 0.0063745415350026403)\n",
      "('CART', 'GradientBoostingClassifier', 'AdaBoostClassifier', 0.80958828161984786, 0.0063097297172309517)\n",
      "('CART', 'GradientBoostingClassifier', 'RandomForestClassifier', 0.8237128667835647, 0.0056867273722711132)\n",
      "('CART', 'GradientBoostingClassifier', 'ExtraTreesClassifier', 0.82558100298333437, 0.0044792799085125248)\n",
      "('CART', 'GradientBoostingClassifier', 'DecisionTreeClassifier', 0.80629959140746443, 0.0064566510468846037)\n",
      "('CART', 'AdaBoostClassifier', 'RandomForestClassifier', 0.8135804603913499, 0.0061912334577819824)\n",
      "('CART', 'AdaBoostClassifier', 'ExtraTreesClassifier', 0.81238315635686897, 0.0049255015620277807)\n",
      "('CART', 'RandomForestClassifier', 'ExtraTreesClassifier', 0.81983565031217187, 0.0054681132249747508)\n",
      "('CART', 'RandomForestClassifier', 'DecisionTreeClassifier', 0.80477225231569915, 0.0063804219348942764)\n",
      "('KNeighborsClassifier', 'XGBClassifier', 'GradientBoostingClassifier', 0.8180206285473961, 0.0068429835486536715)\n",
      "('KNeighborsClassifier', 'XGBClassifier', 'RandomForestClassifier', 0.82803469108669925, 0.005866460770918471)\n",
      "('KNeighborsClassifier', 'XGBClassifier', 'ExtraTreesClassifier', 0.83029294587988178, 0.0048120443979890112)\n",
      "('KNeighborsClassifier', 'XGBClassifier', 'DecisionTreeClassifier', 0.81494362893659722, 0.0057141119680148306)\n",
      "('KNeighborsClassifier', 'GradientBoostingClassifier', 'AdaBoostClassifier', 0.80186327582026862, 0.0068080759239209808)\n",
      "('KNeighborsClassifier', 'GradientBoostingClassifier', 'RandomForestClassifier', 0.82884574135412648, 0.006079955739068642)\n",
      "('KNeighborsClassifier', 'GradientBoostingClassifier', 'ExtraTreesClassifier', 0.83121332542681703, 0.0048164347561251084)\n",
      "('KNeighborsClassifier', 'GradientBoostingClassifier', 'DecisionTreeClassifier', 0.81567597299353023, 0.0058101923172312123)\n",
      "('KNeighborsClassifier', 'AdaBoostClassifier', 'RandomForestClassifier', 0.81146900265983923, 0.0063469060435772844)\n",
      "('KNeighborsClassifier', 'AdaBoostClassifier', 'ExtraTreesClassifier', 0.81306352827109729, 0.004754197664915292)\n",
      "('KNeighborsClassifier', 'RandomForestClassifier', 'ExtraTreesClassifier', 0.82574266315653033, 0.0053995222855326794)\n",
      "('KNeighborsClassifier', 'RandomForestClassifier', 'DecisionTreeClassifier', 0.81466027034835609, 0.0061020262863988838)\n",
      "('KNeighborsClassifier', 'ExtraTreesClassifier', 'DecisionTreeClassifier', 0.81455671928184414, 0.0051119965607629332)\n",
      "('XGBClassifier', 'GradientBoostingClassifier', 'AdaBoostClassifier', 0.80712229713795514, 0.0074502966432649434)\n",
      "('XGBClassifier', 'GradientBoostingClassifier', 'RandomForestClassifier', 0.83475409540917556, 0.006996713263854753)\n",
      "('XGBClassifier', 'GradientBoostingClassifier', 'ExtraTreesClassifier', 0.83831420936473067, 0.0049067944730525883)\n",
      "('XGBClassifier', 'GradientBoostingClassifier', 'DecisionTreeClassifier', 0.81447150464346918, 0.0061021860750756505)\n",
      "('XGBClassifier', 'AdaBoostClassifier', 'RandomForestClassifier', 0.83432922837042622, 0.0064535385747350026)\n"
     ]
    },
    {
     "name": "stdout",
     "output_type": "stream",
     "text": [
      "('XGBClassifier', 'AdaBoostClassifier', 'ExtraTreesClassifier', 0.8375869972229445, 0.0044279915984344487)\n",
      "('XGBClassifier', 'AdaBoostClassifier', 'DecisionTreeClassifier', 0.8091061747279259, 0.0063735618787067365)\n",
      "('XGBClassifier', 'RandomForestClassifier', 'ExtraTreesClassifier', 0.83796133242389548, 0.0049690712501052024)\n",
      "('XGBClassifier', 'RandomForestClassifier', 'DecisionTreeClassifier', 0.82323529869688239, 0.005714240227708384)\n",
      "('XGBClassifier', 'ExtraTreesClassifier', 'DecisionTreeClassifier', 0.82500181372507164, 0.0043426218027075294)\n",
      "('GradientBoostingClassifier', 'AdaBoostClassifier', 'RandomForestClassifier', 0.83500381217148389, 0.0064748257368083548)\n",
      "('GradientBoostingClassifier', 'AdaBoostClassifier', 'ExtraTreesClassifier', 0.83827040315951185, 0.0045667986291722173)\n",
      "('GradientBoostingClassifier', 'AdaBoostClassifier', 'DecisionTreeClassifier', 0.80958828161984786, 0.0063097297172309517)\n",
      "('GradientBoostingClassifier', 'RandomForestClassifier', 'ExtraTreesClassifier', 0.83832615795357035, 0.0051195535831270048)\n",
      "('GradientBoostingClassifier', 'RandomForestClassifier', 'DecisionTreeClassifier', 0.8237128667835647, 0.0056867273722711132)\n",
      "('GradientBoostingClassifier', 'ExtraTreesClassifier', 'DecisionTreeClassifier', 0.82558127218042565, 0.0044790483808904262)\n",
      "('AdaBoostClassifier', 'RandomForestClassifier', 'ExtraTreesClassifier', 0.83018206634426794, 0.0051892804255076431)\n",
      "('AdaBoostClassifier', 'RandomForestClassifier', 'DecisionTreeClassifier', 0.8135804603913499, 0.0061912334577819972)\n",
      "('AdaBoostClassifier', 'ExtraTreesClassifier', 'DecisionTreeClassifier', 0.81238333603512491, 0.0049255882387375547)\n",
      "('RandomForestClassifier', 'ExtraTreesClassifier', 'DecisionTreeClassifier', 0.81984399263207131, 0.0054791915952989581)\n"
     ]
    }
   ],
   "source": [
    "for a in range(0, len(models)):\n",
    "    model1 = models[a]\n",
    "    for b in range(a+1, len(models)):\n",
    "        model2 = models[b]\n",
    "        for c in range(b+1, len(models)):\n",
    "            model3 = models[c]\n",
    "            estimators = []\n",
    "            estimators.append(model1)\n",
    "            estimators.append(model2)\n",
    "            estimators.append(model3)\n",
    "            ensemble = VotingClassifier(estimators, voting='soft')\n",
    "            results = model_selection.cross_val_score(ensemble, X, train_Y, cv=kfold, scoring= scoring)\n",
    "            if results.mean() > .80:\n",
    "                print(model1[0], model2[0], model3[0],results.mean(), results.std())\n"
   ]
  },
  {
   "cell_type": "code",
   "execution_count": 239,
   "metadata": {},
   "outputs": [
    {
     "data": {
      "text/plain": [
       "Index([u'Phone2Number', u'FaxCountryPrefix', u'AmountBilled', u'AmountPaid',\n",
       "       u'AmountDue', u'0201', u'0202', u'0203', u'0204', u'0205',\n",
       "       ...\n",
       "       u'Aux6_nan', u'ApprovalUserId_0.0', u'ApprovalUserId_20.0',\n",
       "       u'LangId_0.0', u'LangId_1.0', u'MemberStatus_FullMember',\n",
       "       u'MemberStatus_NonMember', u'MemberStatus_nan',\n",
       "       u'TermsAccepted_accepted', u'TermsAccepted_nan'],\n",
       "      dtype='object', length=206)"
      ]
     },
     "execution_count": 239,
     "metadata": {},
     "output_type": "execute_result"
    }
   ],
   "source": [
    "X.columns"
   ]
  },
  {
   "cell_type": "code",
   "execution_count": null,
   "metadata": {
    "collapsed": true
   },
   "outputs": [],
   "source": [
    "RandomForestClassifier(random_state = seed)))\n",
    "models.append(('ExtraTreesClassifier', ExtraTreesClassifier(random_state = seed)))"
   ]
  },
  {
   "cell_type": "code",
   "execution_count": 314,
   "metadata": {},
   "outputs": [],
   "source": [
    "model = xgb.XGBClassifier()\n",
    "model.fit(train_X,train_Y)\n",
    "predict = model.predict(test_X)\n",
    "probab = model.predict_proba(test_X)"
   ]
  },
  {
   "cell_type": "code",
   "execution_count": 315,
   "metadata": {},
   "outputs": [
    {
     "name": "stdout",
     "output_type": "stream",
     "text": [
      "0.704552216602\n",
      "0.691885063062\n"
     ]
    }
   ],
   "source": [
    "print metrics.accuracy_score(test_Y, predict)\n",
    "print metrics.roc_auc_score(test_Y, probab[:, 1])"
   ]
  },
  {
   "cell_type": "code",
   "execution_count": 242,
   "metadata": {
    "collapsed": true
   },
   "outputs": [],
   "source": [
    "from sklearn import metrics"
   ]
  },
  {
   "cell_type": "code",
   "execution_count": 240,
   "metadata": {
    "collapsed": true
   },
   "outputs": [],
   "source": [
    "estimators = []\n",
    "estimators.append(('AdaBoostClassifier', AdaBoostClassifier(random_state = seed)))\n",
    "estimators.append(('GradientBoostingClassifier', GradientBoostingClassifier(random_state = seed)))\n",
    "estimators.append(('ExtraTreesClassifier', ExtraTreesClassifier(random_state = seed)))\n",
    "ensemble = VotingClassifier(estimators, voting='soft')\n",
    "ensemble.fit(X, train_Y)\n",
    "predict = ensemble.predict(test_X[X.columns])\n",
    "probab = ensemble.predict_proba(test_X[X.columns])"
   ]
  },
  {
   "cell_type": "code",
   "execution_count": 244,
   "metadata": {},
   "outputs": [
    {
     "name": "stdout",
     "output_type": "stream",
     "text": [
      "0.664831895269\n",
      "0.663753383393\n"
     ]
    }
   ],
   "source": [
    "print metrics.accuracy_score(test_Y, predict)\n",
    "print metrics.roc_auc_score(test_Y, probab[:, 1])"
   ]
  },
  {
   "cell_type": "code",
   "execution_count": 285,
   "metadata": {},
   "outputs": [
    {
     "name": "stdout",
     "output_type": "stream",
     "text": [
      "[[1559 2162]\n",
      " [1841 7882]]\n"
     ]
    }
   ],
   "source": [
    "print metrics.confusion_matrix(test_Y, predict)\n",
    "#print metrics.classification_report(test_Y, predict)"
   ]
  },
  {
   "cell_type": "code",
   "execution_count": null,
   "metadata": {
    "collapsed": true
   },
   "outputs": [],
   "source": []
  },
  {
   "cell_type": "code",
   "execution_count": null,
   "metadata": {
    "collapsed": true
   },
   "outputs": [],
   "source": []
  }
 ],
 "metadata": {
  "kernelspec": {
   "display_name": "Python 2",
   "language": "python",
   "name": "python2"
  },
  "language_info": {
   "codemirror_mode": {
    "name": "ipython",
    "version": 2
   },
   "file_extension": ".py",
   "mimetype": "text/x-python",
   "name": "python",
   "nbconvert_exporter": "python",
   "pygments_lexer": "ipython2",
   "version": "2.7.13"
  }
 },
 "nbformat": 4,
 "nbformat_minor": 2
}
