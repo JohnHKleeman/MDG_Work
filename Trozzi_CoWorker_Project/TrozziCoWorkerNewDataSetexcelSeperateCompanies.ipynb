{
 "cells": [
  {
   "cell_type": "code",
   "execution_count": 1,
   "metadata": {},
   "outputs": [
    {
     "name": "stdout",
     "output_type": "stream",
     "text": [
      "scipy: 0.19.1\n",
      "numpy: 1.12.1\n",
      "matplotlib: 2.0.2\n",
      "pandas: 0.20.3\n",
      "sklearn: 0.19.0\n"
     ]
    },
    {
     "name": "stderr",
     "output_type": "stream",
     "text": [
      "C:\\Users\\SuperBug\\Anaconda2\\envs\\mdg\\lib\\site-packages\\sklearn\\cross_validation.py:41: DeprecationWarning: This module was deprecated in version 0.18 in favor of the model_selection module into which all the refactored classes and functions are moved. Also note that the interface of the new CV iterators are different from that of this module. This module will be removed in 0.20.\n",
      "  \"This module will be removed in 0.20.\", DeprecationWarning)\n"
     ]
    }
   ],
   "source": [
    "import scipy\n",
    "print('scipy: {}'.format(scipy.__version__)) # numpy\n",
    "import numpy as np\n",
    "print('numpy: {}'.format(np.__version__))\n",
    "# matplotlib\n",
    "\n",
    "\n",
    "import matplotlib \n",
    "import matplotlib.pyplot as plt\n",
    "print('matplotlib: {}'.format(matplotlib.__version__)) # pandas\n",
    "import pandas as pd\n",
    "print('pandas: {}'.format(pd.__version__))\n",
    "#scikit-learn\n",
    "import sklearn\n",
    "print('sklearn: {}'.format(sklearn.__version__))\n",
    "import xlrd\n",
    "\n",
    "from sklearn.svm import LinearSVR\n",
    "from sklearn.linear_model import LogisticRegression\n",
    "from sklearn.feature_selection import RFE\n",
    "from sklearn.linear_model import Lasso, Ridge  \n",
    "from sklearn.ensemble import RandomForestClassifier\n",
    "from sklearn.tree import DecisionTreeClassifier\n",
    "from sklearn.svm import SVC\n",
    "from sklearn.model_selection import KFold\n",
    "from sklearn.model_selection import GridSearchCV\n",
    "from sklearn.ensemble import RandomForestClassifier\n",
    "from sklearn.ensemble import AdaBoostClassifier\n",
    "from sklearn.ensemble import ExtraTreesClassifier\n",
    "from sklearn.naive_bayes import GaussianNB\n",
    "from sklearn.ensemble import VotingClassifier\n",
    "from sklearn.discriminant_analysis import LinearDiscriminantAnalysis\n",
    "from sklearn.feature_selection import RFE\n",
    "from sklearn import cross_validation\n",
    "from sklearn.model_selection import GridSearchCV\n",
    "from sklearn import model_selection #might be model_selection <--- this is the new one\n",
    "from sklearn.preprocessing import Normalizer\n",
    "from sklearn.neighbors import KNeighborsClassifier\n",
    "from sklearn.ensemble import GradientBoostingClassifier\n",
    "from sklearn.feature_selection import RFECV\n",
    "import seaborn as sns\n",
    "from sklearn.model_selection import train_test_split\n",
    "from sklearn.preprocessing import Imputer\n",
    "from sklearn.preprocessing import Normalizer\n",
    "import xgboost as xgb\n",
    "\n",
    "sns.set_style(\"whitegrid\")\n",
    "%matplotlib inline"
   ]
  },
  {
   "cell_type": "code",
   "execution_count": 2,
   "metadata": {
    "collapsed": true
   },
   "outputs": [],
   "source": [
    "data = pd.read_excel('ATTENDEEISSA2017NumericalExcelCleaned.xlsx', header = 0)\n",
    "#data_antendees = pd.read_excel('HW3Data.xlsx', sheetname = 'trainY')"
   ]
  },
  {
   "cell_type": "code",
   "execution_count": 3,
   "metadata": {
    "collapsed": true
   },
   "outputs": [],
   "source": [
    "#data_a, data_b = train_test_split(data, test_size=0.2, random_state = 7)"
   ]
  },
  {
   "cell_type": "code",
   "execution_count": 4,
   "metadata": {},
   "outputs": [
    {
     "data": {
      "text/plain": [
       "(760, 165)"
      ]
     },
     "execution_count": 4,
     "metadata": {},
     "output_type": "execute_result"
    }
   ],
   "source": [
    "data.shape"
   ]
  },
  {
   "cell_type": "code",
   "execution_count": 5,
   "metadata": {
    "collapsed": true
   },
   "outputs": [],
   "source": [
    "data_a = data.apply(pd.to_numeric, errors='ignore')    #changes dataframe dtypes to their lowest"
   ]
  },
  {
   "cell_type": "code",
   "execution_count": 6,
   "metadata": {
    "collapsed": true
   },
   "outputs": [],
   "source": [
    "#cols = list(data_a)    # THIS DROPS ALL COLUMNS THAT HAVE THE SAME VALUE AND IGNORES NANS SO BE CAREFUL\n",
    "#nunique = data_a.apply(pd.Series.nunique)\n",
    "#cols_to_drop = nunique[nunique == 1].index\n",
    "#cols_to_drop\n",
    "#data_a = data_a.drop(cols_to_drop, axis=1)"
   ]
  },
  {
   "cell_type": "code",
   "execution_count": 7,
   "metadata": {
    "collapsed": true
   },
   "outputs": [],
   "source": [
    "data_a = data.drop('Collector ID', axis = 1)"
   ]
  },
  {
   "cell_type": "code",
   "execution_count": 8,
   "metadata": {},
   "outputs": [
    {
     "data": {
      "text/plain": [
       "Ability to meet peers                                                                                                                     float64\n",
       "ARCSI Evening Receptions                                                                                                                  float64\n",
       "ARCSI Rountables                                                                                                                          float64\n",
       "Are you a member of a distributor marketing group? If yes, please list which one in the comments box.                                     float64\n",
       "ARSCI Roundtables                                                                                                                         float64\n",
       "Booth visits to a new exhibitor or supplier:                                                                                              float64\n",
       "Cleaning tools & supplies                                                                                                                 float64\n",
       "Co-located events by other associations                                                                                                   float64\n",
       "Comments                                                                                                                                   object\n",
       "Commercial Cleaning Business Solutions Track                                                                                              float64\n",
       "Custom Data 1                                                                                                                             float64\n",
       "Customers met with                                                                                                                        float64\n",
       "Did the increased programming on Thursday influence your decision to visit the exhibit hall on Thursday?                                  float64\n",
       "Did you accomplish all you had planned during the trade show?                                                                             float64\n",
       "Did you attend any educational sessions offered through ISSA Convention?                                                                  float64\n",
       "Education session topics                                                                                                                  float64\n",
       "Educational sessions                                                                                                                      float64\n",
       "Educational/Professional Development                                                                                                      float64\n",
       "Email                                                                                                                                      object\n",
       "Email.1                                                                                                                                    object\n",
       "Email Address                                                                                                                             float64\n",
       "End Date                                                                                                                           datetime64[ns]\n",
       "Equipment & accessories                                                                                                                   float64\n",
       "Evening Roundtable event                                                                                                                  float64\n",
       "Facility maintenance & safety supply                                                                                                      float64\n",
       "Find new ideas to solve problems                                                                                                          float64\n",
       "Find new suppliers                                                                                                                        float64\n",
       "First Name                                                                                                                                 object\n",
       "First-Time Attendee Orientation                                                                                                           float64\n",
       "Floor carpet care                                                                                                                         float64\n",
       "                                                                                                                                        ...      \n",
       "Show Mobile App.5                                                                                                                         float64\n",
       "Show Mobile App.6                                                                                                                         float64\n",
       "Skin care & personal hygiene                                                                                                              float64\n",
       "Start Date                                                                                                                         datetime64[ns]\n",
       "Storage & material handling                                                                                                               float64\n",
       "Supervisor signed me up                                                                                                                   float64\n",
       "This year, ISSA/ARCSI provided tools to help attendees plan for the show with ease. Please rate each tool's usefulness. Website           float64\n",
       "Thursday seminars/panels                                                                                                                  float64\n",
       "Time of year                                                                                                                              float64\n",
       "total visits to your booth                                                                                                                float64\n",
       "Value of attending                                                                                                                        float64\n",
       "Value of attending last day of show                                                                                                       float64\n",
       "Was this your first time attending ISSA/INTERCLEAN?                                                                                       float64\n",
       "Waste containment & disposal                                                                                                              float64\n",
       "Welcome Networking Reception                                                                                                              float64\n",
       "What can ISSA do to improve the value you receive at ISSA/INTERCLEAN?                                                                      object\n",
       "What can ISSA/ARCSI do to improve the value you receive at ISSA/INTERCLEAN?                                                                object\n",
       "What can ISSA/ARCSI do to improve the value you receive at ISSA/INTERCLEAN?.1                                                              object\n",
       "What could ISSA offer that would influence your decision to visit the exhibit hall on the last day of the show?                            object\n",
       "What could ISSA offer that would influence your decision to visit the exhibit hall on the last day of the show?.1                          object\n",
       "What could ISSA offer that would influence your decision to visit the exhibit hall on the last day of the show?.2                          object\n",
       "What could ISSA offer that would influence your decision to visit the exhibit hall on the last day of the show?.3                          object\n",
       "What could ISSA offer that would influence your decision to visit the exhibit hall on Thursday?                                            object\n",
       "What educational topics would you like to see offered in 2018?                                                                             object\n",
       "What educational topics would you like to see offered in 2018?.1                                                                           object\n",
       "What educational topics would you like to see offered in 2018?.2                                                                           object\n",
       "What is your annual budget to purchase cleaning supplies, equipment, and other cleaning materials?                                        float64\n",
       "What is your company's annual sales volume?                                                                                               float64\n",
       "What product categories are you interested in? Cleaning agents                                                                            float64\n",
       "What year were you born?                                                                                                                  float64\n",
       "Length: 164, dtype: object"
      ]
     },
     "execution_count": 8,
     "metadata": {},
     "output_type": "execute_result"
    }
   ],
   "source": [
    "data_a.dtypes"
   ]
  },
  {
   "cell_type": "code",
   "execution_count": 9,
   "metadata": {},
   "outputs": [
    {
     "data": {
      "text/plain": [
       "(760, 164)"
      ]
     },
     "execution_count": 9,
     "metadata": {},
     "output_type": "execute_result"
    }
   ],
   "source": [
    "data_a.shape"
   ]
  },
  {
   "cell_type": "code",
   "execution_count": 10,
   "metadata": {
    "collapsed": true
   },
   "outputs": [],
   "source": [
    "#data_a = data_a.loc[: , ~data_a.columns.duplicated()]#i think this is only column name"
   ]
  },
  {
   "cell_type": "code",
   "execution_count": 11,
   "metadata": {
    "collapsed": true
   },
   "outputs": [],
   "source": [
    "data_a = data_a.T.drop_duplicates().T"
   ]
  },
  {
   "cell_type": "code",
   "execution_count": null,
   "metadata": {
    "collapsed": true
   },
   "outputs": [],
   "source": []
  },
  {
   "cell_type": "code",
   "execution_count": 12,
   "metadata": {
    "scrolled": false
   },
   "outputs": [
    {
     "data": {
      "text/plain": [
       "(760, 156)"
      ]
     },
     "execution_count": 12,
     "metadata": {},
     "output_type": "execute_result"
    }
   ],
   "source": [
    "data_a.shape"
   ]
  },
  {
   "cell_type": "code",
   "execution_count": 13,
   "metadata": {
    "collapsed": true
   },
   "outputs": [],
   "source": [
    "data_a = data_a.dropna(axis=1, how='all')"
   ]
  },
  {
   "cell_type": "code",
   "execution_count": 14,
   "metadata": {
    "collapsed": true
   },
   "outputs": [],
   "source": [
    "data_a = data_a.dropna(axis=0, how='all')"
   ]
  },
  {
   "cell_type": "code",
   "execution_count": 15,
   "metadata": {},
   "outputs": [
    {
     "data": {
      "text/plain": [
       "(759, 155)"
      ]
     },
     "execution_count": 15,
     "metadata": {},
     "output_type": "execute_result"
    }
   ],
   "source": [
    "data_a.shape"
   ]
  },
  {
   "cell_type": "code",
   "execution_count": 16,
   "metadata": {
    "collapsed": true
   },
   "outputs": [],
   "source": [
    "data_a = data_a.apply(pd.to_numeric, errors='ignore')"
   ]
  },
  {
   "cell_type": "code",
   "execution_count": 17,
   "metadata": {},
   "outputs": [
    {
     "name": "stdout",
     "output_type": "stream",
     "text": [
      "0 Ability to meet peers\n",
      "1 ARCSI Evening Receptions\n",
      "2 ARCSI Rountables\n",
      "3 Are you a member of a distributor marketing group? If yes, please list which one in the comments box.\n",
      "4 ARSCI Roundtables\n",
      "5 Booth visits to a new exhibitor or supplier:\n",
      "6 Cleaning tools & supplies\n",
      "7 Co-located events by other associations\n",
      "8 Comments\n",
      "9 Commercial Cleaning Business Solutions Track\n",
      "10 Customers met with\n",
      "11 Did the increased programming on Thursday influence your decision to visit the exhibit hall on Thursday?\n",
      "12 Did you accomplish all you had planned during the trade show? \n",
      "13 Did you attend any educational sessions offered through ISSA Convention?\n",
      "14 Education session topics\n",
      "15 Educational sessions\n",
      "16 Educational/Professional Development\n",
      "17 Email\n",
      "18 Email.1\n",
      "19 End Date\n",
      "20 Equipment & accessories\n",
      "21 Evening Roundtable event\n",
      "22 Facility maintenance & safety supply\n",
      "23 Find new ideas to solve problems\n",
      "24 Find new suppliers\n",
      "25 First Name\n",
      "26 First-Time Attendee Orientation\n",
      "27 Floor carpet care\n",
      "28 Foodservice disposables & equipment\n",
      "29 Free WiFi hot spots\n",
      "30 Green Clean Schools Track\n",
      "31 Healthcare Environment Essentials Track\n",
      "32 Hotel/Host city\n",
      "33 How did you hear about ISSA/INTERCLEAN North America?\n",
      "34 How would you rate ISSA/INTERCLEAN's performance in the following areas? Educational Sessions\n",
      "35 If you are a first-time attendee, do you think the First-Time Attendee Orientation prepared you for the full schedule of the show? \n",
      "36 If you use these tools, how can we improve them?\n",
      "37 If you used these tools, how can we improve them?\n",
      "38 If you used these tools, how can we improve them?.1\n",
      "39 In your organization do you have the final decision on whether you will attend ISSA/INTERCLEAN\n",
      "40 IP Address\n",
      "41 Is your company planning to attend ISSA/INTERCLEAN North America 2018 in Dallas, October 29 - November 1, 2018\n",
      "42 ISSA Innovation Showcase\n",
      "43 ISSA/INTERCLEAN Bistro\n",
      "44 Keep up to date with industry trends\n",
      "45 Keynote Speakers\n",
      "46 Keynote Speakers.1\n",
      "47 Keynote speakers\n",
      "48 Keynote Speakers.2\n",
      "49 Keynote speakers.1\n",
      "50 Keynote Speakers.3\n",
      "51 Keynote speakers.2\n",
      "52 Keynote Speakers.4\n",
      "53 Keynote speakers.3\n",
      "54 Combine Keynote speakers BC BE\n",
      "55 Last Name\n",
      "56 Length of Event\n",
      "57 Location\n",
      "58 Location of the event\n",
      "59 Lunch and Learn\n",
      "60 Meet with current consultants\n",
      "61 Meet with current suppliers\n",
      "62 Meet with customers\n",
      "63 Meet with peers\n",
      "64 Meeting Hub\n",
      "65 My Show Planner\n",
      "66 Networking\n",
      "67 Networking.1\n",
      "68 Networking.2\n",
      "69 Networking.3\n",
      "70 Networking.4\n",
      "71 Networking.5\n",
      "72 New products/innovations\n",
      "73 New supply lines found\n",
      "74 New Supply Combined\n",
      "75 Number on a scale of 1-5 (1 being very good and 5 being disappointing), overall, how would you rate your trade show registration process?\n",
      "76 Odor control products\n",
      "77 Other.2\n",
      "78 Other.3\n",
      "79 Other (please specify)\n",
      "80 Other (please specify).1\n",
      "81 Other (please specify).3\n",
      "82 Other (please specify).4\n",
      "83 Other (please specify).5\n",
      "84 Other (please specify).6\n",
      "85 Other (please specify).7\n",
      "86 Other (please specify).8\n",
      "87 Other (please specify).9\n",
      "88 Other (please specify).10\n",
      "89 Other (please specify).11\n",
      "90 Other (please specify).12\n",
      "91 Other (please specify).13\n",
      "92 Other (please specify).16\n",
      "93 Other (please specify).17\n",
      "94 Other (please specify).18\n",
      "95 Paper products & dispensers\n",
      "96 Phone\n",
      "97 Please estimate how many customer meetings you personally accomplished during the show:\n",
      "98 Please estimate how many of the following activities you personally accomplished during the show: Supplier Meeting\n",
      "99 Please indicate the importance of the following: Price\n",
      "100 Please indicate your primary job function.\n",
      "101 Please provide contact information for the final decision maker regarding who attends ISSA/INTERCLEAN: Name\n",
      "102 Please rank the top 5 elements of ISSA/INTERCLEAN trade show that were of most value to you. 1,2,etc. Digital Official Exhibit Directory\n",
      "103 Please rank the top 5 elements of the ISSA Convention that you found valuable 1,2 etc.). DISRUPT AND INNOVATE\n",
      "104 Please rank your top three reasons for attending ISSA/INTERCLEAN 1,2 etc. ARCSI Evening Receptions\n",
      "105 Please rank your top three reasons for attending ISSA/INTERCLEAN 1,2 etc. Educational Sessions\n",
      "106 Please select the classification that best represents your company type.\n",
      "107 Please share any final comments you have on the Residential Cleaning Connection track at 2017 ISSA/INTERCLEAN Trade Show and ISSA Convention.\n",
      "108 Please share any final comments you have on the Residential Cleaning Connection track at the 2017 ISSA/INTERCLEAN Trade Show and Convention\n",
      "109 Please specify other.\n",
      "110 Please specify other..1\n",
      "111 Please specify other..2\n",
      "112 Please specify other. \n",
      "113 Pressure washing equipment & accessories\n",
      "114 Quality of exhibitors\n",
      "115 Residential Cleaning Connection Track\n",
      "116 Respondent ID\n",
      "117 Restroom care & service\n",
      "118 See new products/innovations\n",
      "119 Services/technology\n",
      "120 Show Mobile App\n",
      "121 Show Mobile App.1\n",
      "122 Show Mobile App.2\n",
      "123 Show Mobile App.3\n",
      "124 Show Mobile App.4\n",
      "125 Show Mobile App.5\n",
      "126 Show Mobile App.6\n",
      "127 Skin care & personal hygiene\n",
      "128 Start Date\n",
      "129 Storage & material handling\n",
      "130 Supervisor signed me up\n",
      "131 This year, ISSA/ARCSI provided tools to help attendees plan for the show with ease. Please rate each tool's usefulness. Website\n",
      "132 Thursday seminars/panels\n",
      "133 Time of year\n",
      "134 total visits to your booth\n",
      "135 Value of attending\n",
      "136 Value of attending last day of show\n",
      "137 Was this your first time attending ISSA/INTERCLEAN?\n",
      "138 Waste containment & disposal\n",
      "139 Welcome Networking Reception\n",
      "140 What can ISSA do to improve the value you receive at ISSA/INTERCLEAN?\n",
      "141 What can ISSA/ARCSI do to improve the value you receive at ISSA/INTERCLEAN?\n",
      "142 What can ISSA/ARCSI do to improve the value you receive at ISSA/INTERCLEAN?.1\n",
      "143 What could ISSA offer that would influence your decision to visit the exhibit hall on the last day of the show?\n",
      "144 What could ISSA offer that would influence your decision to visit the exhibit hall on the last day of the show?.1\n",
      "145 What could ISSA offer that would influence your decision to visit the exhibit hall on the last day of the show?.2\n",
      "146 What could ISSA offer that would influence your decision to visit the exhibit hall on the last day of the show?.3\n",
      "147 What could ISSA offer that would influence your decision to visit the exhibit hall on Thursday?\n",
      "148 What educational topics would you like to see offered in 2018?\n",
      "149 What educational topics would you like to see offered in 2018?.1\n",
      "150 What educational topics would you like to see offered in 2018?.2\n",
      "151 What is your annual budget to purchase cleaning supplies, equipment, and other cleaning materials? \n",
      "152 What is your company's annual sales volume? \n",
      "153 What product categories are you interested in? Cleaning agents\n",
      "154 What year were you born?\n"
     ]
    }
   ],
   "source": [
    "for a in range(0, len(data_a.columns)):\n",
    "    print a, data_a.columns[a]"
   ]
  },
  {
   "cell_type": "code",
   "execution_count": 18,
   "metadata": {
    "collapsed": true
   },
   "outputs": [],
   "source": [
    "data_a = data_a.select_dtypes(include = ['int64', 'float64']).iloc[:, 1:]"
   ]
  },
  {
   "cell_type": "code",
   "execution_count": 19,
   "metadata": {},
   "outputs": [
    {
     "data": {
      "text/plain": [
       "Int64Index([234], dtype='int64')"
      ]
     },
     "execution_count": 19,
     "metadata": {},
     "output_type": "execute_result"
    }
   ],
   "source": [
    "data_a[data_a['How did you hear about ISSA/INTERCLEAN North America?'] > 15].index"
   ]
  },
  {
   "cell_type": "code",
   "execution_count": 20,
   "metadata": {
    "collapsed": true
   },
   "outputs": [],
   "source": [
    "data_a = data_a.drop(234, axis = 0)"
   ]
  },
  {
   "cell_type": "code",
   "execution_count": 21,
   "metadata": {},
   "outputs": [
    {
     "data": {
      "text/plain": [
       "Int64Index([458, 725], dtype='int64')"
      ]
     },
     "execution_count": 21,
     "metadata": {},
     "output_type": "execute_result"
    }
   ],
   "source": [
    "data_a[data_a['First-Time Attendee Orientation'] > 15].index"
   ]
  },
  {
   "cell_type": "code",
   "execution_count": 22,
   "metadata": {
    "collapsed": true
   },
   "outputs": [],
   "source": [
    "data_a = data_a.drop([458, 725], axis = 0)"
   ]
  },
  {
   "cell_type": "code",
   "execution_count": 23,
   "metadata": {},
   "outputs": [
    {
     "data": {
      "text/plain": [
       "Int64Index([165, 741], dtype='int64')"
      ]
     },
     "execution_count": 23,
     "metadata": {},
     "output_type": "execute_result"
    }
   ],
   "source": [
    "data_a[data_a['Please indicate your primary job function.'] > 15].index"
   ]
  },
  {
   "cell_type": "code",
   "execution_count": 24,
   "metadata": {
    "collapsed": true
   },
   "outputs": [],
   "source": [
    "data_a = data_a.drop([165, 741], axis = 0)"
   ]
  },
  {
   "cell_type": "code",
   "execution_count": 25,
   "metadata": {},
   "outputs": [
    {
     "data": {
      "text/plain": [
       "(754, 108)"
      ]
     },
     "execution_count": 25,
     "metadata": {},
     "output_type": "execute_result"
    }
   ],
   "source": [
    "data_a.shape"
   ]
  },
  {
   "cell_type": "code",
   "execution_count": null,
   "metadata": {
    "collapsed": true
   },
   "outputs": [],
   "source": []
  },
  {
   "cell_type": "code",
   "execution_count": 26,
   "metadata": {
    "collapsed": true
   },
   "outputs": [],
   "source": [
    "data_a = data_a[np.isfinite(data_a['Is your company planning to attend ISSA/INTERCLEAN North America 2018 in Dallas, October 29 - November 1, 2018'])] #drop rows that dont have company planning to attend"
   ]
  },
  {
   "cell_type": "code",
   "execution_count": 27,
   "metadata": {
    "collapsed": true
   },
   "outputs": [],
   "source": [
    "data_a = data_a.select_dtypes(include = ['int64', 'float64']).iloc[:, 1:]"
   ]
  },
  {
   "cell_type": "code",
   "execution_count": 28,
   "metadata": {},
   "outputs": [
    {
     "name": "stdout",
     "output_type": "stream",
     "text": [
      "0 ARCSI Rountables\n",
      "1 Are you a member of a distributor marketing group? If yes, please list which one in the comments box.\n",
      "2 ARSCI Roundtables\n",
      "3 Booth visits to a new exhibitor or supplier:\n",
      "4 Cleaning tools & supplies\n",
      "5 Co-located events by other associations\n",
      "6 Commercial Cleaning Business Solutions Track\n",
      "7 Customers met with\n",
      "8 Did the increased programming on Thursday influence your decision to visit the exhibit hall on Thursday?\n",
      "9 Did you accomplish all you had planned during the trade show? \n",
      "10 Did you attend any educational sessions offered through ISSA Convention?\n",
      "11 Education session topics\n",
      "12 Educational sessions\n",
      "13 Educational/Professional Development\n",
      "14 Equipment & accessories\n",
      "15 Evening Roundtable event\n",
      "16 Facility maintenance & safety supply\n",
      "17 Find new ideas to solve problems\n",
      "18 Find new suppliers\n",
      "19 First-Time Attendee Orientation\n",
      "20 Floor carpet care\n",
      "21 Foodservice disposables & equipment\n",
      "22 Free WiFi hot spots\n",
      "23 Green Clean Schools Track\n",
      "24 Healthcare Environment Essentials Track\n",
      "25 Hotel/Host city\n",
      "26 How did you hear about ISSA/INTERCLEAN North America?\n",
      "27 How would you rate ISSA/INTERCLEAN's performance in the following areas? Educational Sessions\n",
      "28 If you are a first-time attendee, do you think the First-Time Attendee Orientation prepared you for the full schedule of the show? \n",
      "29 In your organization do you have the final decision on whether you will attend ISSA/INTERCLEAN\n",
      "30 Is your company planning to attend ISSA/INTERCLEAN North America 2018 in Dallas, October 29 - November 1, 2018\n",
      "31 ISSA Innovation Showcase\n",
      "32 ISSA/INTERCLEAN Bistro\n",
      "33 Keep up to date with industry trends\n",
      "34 Keynote Speakers\n",
      "35 Keynote Speakers.1\n",
      "36 Keynote speakers\n",
      "37 Keynote Speakers.2\n",
      "38 Keynote speakers.1\n",
      "39 Keynote Speakers.3\n",
      "40 Keynote speakers.2\n",
      "41 Keynote Speakers.4\n",
      "42 Keynote speakers.3\n",
      "43 Combine Keynote speakers BC BE\n",
      "44 Length of Event\n",
      "45 Location\n",
      "46 Location of the event\n",
      "47 Lunch and Learn\n",
      "48 Meet with current consultants\n",
      "49 Meet with current suppliers\n",
      "50 Meet with customers\n",
      "51 Meet with peers\n",
      "52 Meeting Hub\n",
      "53 My Show Planner\n",
      "54 Networking\n",
      "55 Networking.1\n",
      "56 Networking.2\n",
      "57 Networking.3\n",
      "58 Networking.4\n",
      "59 Networking.5\n",
      "60 New products/innovations\n",
      "61 New supply lines found\n",
      "62 New Supply Combined\n",
      "63 Number on a scale of 1-5 (1 being very good and 5 being disappointing), overall, how would you rate your trade show registration process?\n",
      "64 Odor control products\n",
      "65 Other.2\n",
      "66 Other.3\n",
      "67 Paper products & dispensers\n",
      "68 Please estimate how many customer meetings you personally accomplished during the show:\n",
      "69 Please estimate how many of the following activities you personally accomplished during the show: Supplier Meeting\n",
      "70 Please indicate the importance of the following: Price\n",
      "71 Please indicate your primary job function.\n",
      "72 Please rank the top 5 elements of ISSA/INTERCLEAN trade show that were of most value to you. 1,2,etc. Digital Official Exhibit Directory\n",
      "73 Please rank the top 5 elements of the ISSA Convention that you found valuable 1,2 etc.). DISRUPT AND INNOVATE\n",
      "74 Please rank your top three reasons for attending ISSA/INTERCLEAN 1,2 etc. ARCSI Evening Receptions\n",
      "75 Please rank your top three reasons for attending ISSA/INTERCLEAN 1,2 etc. Educational Sessions\n",
      "76 Please select the classification that best represents your company type.\n",
      "77 Pressure washing equipment & accessories\n",
      "78 Quality of exhibitors\n",
      "79 Residential Cleaning Connection Track\n",
      "80 Respondent ID\n",
      "81 Restroom care & service\n",
      "82 See new products/innovations\n",
      "83 Services/technology\n",
      "84 Show Mobile App\n",
      "85 Show Mobile App.1\n",
      "86 Show Mobile App.2\n",
      "87 Show Mobile App.3\n",
      "88 Show Mobile App.4\n",
      "89 Show Mobile App.5\n",
      "90 Show Mobile App.6\n",
      "91 Skin care & personal hygiene\n",
      "92 Storage & material handling\n",
      "93 Supervisor signed me up\n",
      "94 This year, ISSA/ARCSI provided tools to help attendees plan for the show with ease. Please rate each tool's usefulness. Website\n",
      "95 Thursday seminars/panels\n",
      "96 Time of year\n",
      "97 total visits to your booth\n",
      "98 Value of attending\n",
      "99 Value of attending last day of show\n",
      "100 Was this your first time attending ISSA/INTERCLEAN?\n",
      "101 Waste containment & disposal\n",
      "102 Welcome Networking Reception\n",
      "103 What is your annual budget to purchase cleaning supplies, equipment, and other cleaning materials? \n",
      "104 What is your company's annual sales volume? \n",
      "105 What product categories are you interested in? Cleaning agents\n",
      "106 What year were you born?\n"
     ]
    }
   ],
   "source": [
    "for a in range(0, len(data_a.columns)):\n",
    "    print a, data_a.columns[a]"
   ]
  },
  {
   "cell_type": "code",
   "execution_count": 29,
   "metadata": {
    "collapsed": true
   },
   "outputs": [],
   "source": [
    "sum_happy = []\n",
    "for a in range(0,len(data_a.iloc[:,30])):\n",
    "    if data_a.iloc[a,30] == 5 or data_a.iloc[a,30]==4:\n",
    "        sum_happy.append(3)\n",
    "    elif data_a.iloc[a,30] == 3:\n",
    "        sum_happy.append(2)\n",
    "    elif data_a.iloc[a,30] ==2 or data_a.iloc[a,30]==1:\n",
    "        sum_happy.append(1)"
   ]
  },
  {
   "cell_type": "code",
   "execution_count": 30,
   "metadata": {
    "collapsed": true
   },
   "outputs": [],
   "source": [
    "data_a = data_a.drop(['Is your company planning to attend ISSA/INTERCLEAN North America 2018 in Dallas, October 29 - November 1, 2018'],axis = 1)"
   ]
  },
  {
   "cell_type": "code",
   "execution_count": 31,
   "metadata": {},
   "outputs": [],
   "source": [
    "data_classification= data_a['Please select the classification that best represents your company type.']"
   ]
  },
  {
   "cell_type": "code",
   "execution_count": 32,
   "metadata": {},
   "outputs": [],
   "source": [
    "data_a['sum_happy'] = sum_happy"
   ]
  },
  {
   "cell_type": "code",
   "execution_count": 33,
   "metadata": {
    "scrolled": true
   },
   "outputs": [],
   "source": [
    "data_Y = data_a[['sum_happy','Please select the classification that best represents your company type.']]"
   ]
  },
  {
   "cell_type": "code",
   "execution_count": 34,
   "metadata": {
    "collapsed": true
   },
   "outputs": [],
   "source": [
    "data_classification = pd.get_dummies(data_classification)"
   ]
  },
  {
   "cell_type": "code",
   "execution_count": null,
   "metadata": {
    "collapsed": true
   },
   "outputs": [],
   "source": []
  },
  {
   "cell_type": "code",
   "execution_count": 35,
   "metadata": {},
   "outputs": [
    {
     "data": {
      "text/plain": [
       "Float64Index([1.0, 2.0, 3.0, 4.0, 5.0, 6.0], dtype='float64')"
      ]
     },
     "execution_count": 35,
     "metadata": {},
     "output_type": "execute_result"
    }
   ],
   "source": [
    "data_classification.columns"
   ]
  },
  {
   "cell_type": "code",
   "execution_count": 36,
   "metadata": {},
   "outputs": [],
   "source": [
    "data_classification = data_classification.drop([2.0],axis = 1)\n",
    "data_classification = data_classification.drop([3.0],axis = 1)\n",
    "data_classification = data_classification.drop([4.0],axis = 1)\n",
    "data_classification = data_classification.drop([5.0],axis = 1)\n",
    "data_classification = data_classification.drop([6.0],axis = 1)"
   ]
  },
  {
   "cell_type": "code",
   "execution_count": 37,
   "metadata": {},
   "outputs": [
    {
     "name": "stdout",
     "output_type": "stream",
     "text": [
      "0 ARCSI Rountables\n",
      "1 Are you a member of a distributor marketing group? If yes, please list which one in the comments box.\n",
      "2 ARSCI Roundtables\n",
      "3 Booth visits to a new exhibitor or supplier:\n",
      "4 Cleaning tools & supplies\n",
      "5 Co-located events by other associations\n",
      "6 Commercial Cleaning Business Solutions Track\n",
      "7 Customers met with\n",
      "8 Did the increased programming on Thursday influence your decision to visit the exhibit hall on Thursday?\n",
      "9 Did you accomplish all you had planned during the trade show? \n",
      "10 Did you attend any educational sessions offered through ISSA Convention?\n",
      "11 Education session topics\n",
      "12 Educational sessions\n",
      "13 Educational/Professional Development\n",
      "14 Equipment & accessories\n",
      "15 Evening Roundtable event\n",
      "16 Facility maintenance & safety supply\n",
      "17 Find new ideas to solve problems\n",
      "18 Find new suppliers\n",
      "19 First-Time Attendee Orientation\n",
      "20 Floor carpet care\n",
      "21 Foodservice disposables & equipment\n",
      "22 Free WiFi hot spots\n",
      "23 Green Clean Schools Track\n",
      "24 Healthcare Environment Essentials Track\n",
      "25 Hotel/Host city\n",
      "26 How did you hear about ISSA/INTERCLEAN North America?\n",
      "27 How would you rate ISSA/INTERCLEAN's performance in the following areas? Educational Sessions\n",
      "28 If you are a first-time attendee, do you think the First-Time Attendee Orientation prepared you for the full schedule of the show? \n",
      "29 In your organization do you have the final decision on whether you will attend ISSA/INTERCLEAN\n",
      "30 ISSA Innovation Showcase\n",
      "31 ISSA/INTERCLEAN Bistro\n",
      "32 Keep up to date with industry trends\n",
      "33 Keynote Speakers\n",
      "34 Keynote Speakers.1\n",
      "35 Keynote speakers\n",
      "36 Keynote Speakers.2\n",
      "37 Keynote speakers.1\n",
      "38 Keynote Speakers.3\n",
      "39 Keynote speakers.2\n",
      "40 Keynote Speakers.4\n",
      "41 Keynote speakers.3\n",
      "42 Combine Keynote speakers BC BE\n",
      "43 Length of Event\n",
      "44 Location\n",
      "45 Location of the event\n",
      "46 Lunch and Learn\n",
      "47 Meet with current consultants\n",
      "48 Meet with current suppliers\n",
      "49 Meet with customers\n",
      "50 Meet with peers\n",
      "51 Meeting Hub\n",
      "52 My Show Planner\n",
      "53 Networking\n",
      "54 Networking.1\n",
      "55 Networking.2\n",
      "56 Networking.3\n",
      "57 Networking.4\n",
      "58 Networking.5\n",
      "59 New products/innovations\n",
      "60 New supply lines found\n",
      "61 New Supply Combined\n",
      "62 Number on a scale of 1-5 (1 being very good and 5 being disappointing), overall, how would you rate your trade show registration process?\n",
      "63 Odor control products\n",
      "64 Other.2\n",
      "65 Other.3\n",
      "66 Paper products & dispensers\n",
      "67 Please estimate how many customer meetings you personally accomplished during the show:\n",
      "68 Please estimate how many of the following activities you personally accomplished during the show: Supplier Meeting\n",
      "69 Please indicate the importance of the following: Price\n",
      "70 Please indicate your primary job function.\n",
      "71 Please rank the top 5 elements of ISSA/INTERCLEAN trade show that were of most value to you. 1,2,etc. Digital Official Exhibit Directory\n",
      "72 Please rank the top 5 elements of the ISSA Convention that you found valuable 1,2 etc.). DISRUPT AND INNOVATE\n",
      "73 Please rank your top three reasons for attending ISSA/INTERCLEAN 1,2 etc. ARCSI Evening Receptions\n",
      "74 Please rank your top three reasons for attending ISSA/INTERCLEAN 1,2 etc. Educational Sessions\n",
      "75 Please select the classification that best represents your company type.\n",
      "76 Pressure washing equipment & accessories\n",
      "77 Quality of exhibitors\n",
      "78 Residential Cleaning Connection Track\n",
      "79 Respondent ID\n",
      "80 Restroom care & service\n",
      "81 See new products/innovations\n",
      "82 Services/technology\n",
      "83 Show Mobile App\n",
      "84 Show Mobile App.1\n",
      "85 Show Mobile App.2\n",
      "86 Show Mobile App.3\n",
      "87 Show Mobile App.4\n",
      "88 Show Mobile App.5\n",
      "89 Show Mobile App.6\n",
      "90 Skin care & personal hygiene\n",
      "91 Storage & material handling\n",
      "92 Supervisor signed me up\n",
      "93 This year, ISSA/ARCSI provided tools to help attendees plan for the show with ease. Please rate each tool's usefulness. Website\n",
      "94 Thursday seminars/panels\n",
      "95 Time of year\n",
      "96 total visits to your booth\n",
      "97 Value of attending\n",
      "98 Value of attending last day of show\n",
      "99 Was this your first time attending ISSA/INTERCLEAN?\n",
      "100 Waste containment & disposal\n",
      "101 Welcome Networking Reception\n",
      "102 What is your annual budget to purchase cleaning supplies, equipment, and other cleaning materials? \n",
      "103 What is your company's annual sales volume? \n",
      "104 What product categories are you interested in? Cleaning agents\n",
      "105 What year were you born?\n",
      "106 sum_happy\n"
     ]
    }
   ],
   "source": [
    "for a in range(0, len(data_a.columns)):\n",
    "    print a, data_a.columns[a]"
   ]
  },
  {
   "cell_type": "code",
   "execution_count": 38,
   "metadata": {},
   "outputs": [],
   "source": [
    "data_a = data_a.drop('Please select the classification that best represents your company type.', axis = 1)"
   ]
  },
  {
   "cell_type": "code",
   "execution_count": 39,
   "metadata": {},
   "outputs": [
    {
     "data": {
      "text/plain": [
       "(510, 106)"
      ]
     },
     "execution_count": 39,
     "metadata": {},
     "output_type": "execute_result"
    }
   ],
   "source": [
    "data_a.shape"
   ]
  },
  {
   "cell_type": "code",
   "execution_count": 40,
   "metadata": {},
   "outputs": [
    {
     "data": {
      "text/plain": [
       "Index([                                                                                        u'ARCSI Rountables',\n",
       "          u'Are you a member of a distributor marketing group? If yes, please list which one in the comments box.',\n",
       "                                                                                              u'ARSCI Roundtables',\n",
       "                                                                   u'Booth visits to a new exhibitor or supplier:',\n",
       "                                                                                      u'Cleaning tools & supplies',\n",
       "                                                                        u'Co-located events by other associations',\n",
       "                                                                   u'Commercial Cleaning Business Solutions Track',\n",
       "                                                                                             u'Customers met with',\n",
       "       u'Did the increased programming on Thursday influence your decision to visit the exhibit hall on Thursday?',\n",
       "                                                 u'Did you accomplish all you had planned during the trade show? ',\n",
       "       ...\n",
       "                                                                                             u'Value of attending',\n",
       "                                                                            u'Value of attending last day of show',\n",
       "                                                            u'Was this your first time attending ISSA/INTERCLEAN?',\n",
       "                                                                                   u'Waste containment & disposal',\n",
       "                                                                                   u'Welcome Networking Reception',\n",
       "            u'What is your annual budget to purchase cleaning supplies, equipment, and other cleaning materials? ',\n",
       "                                                                   u'What is your company's annual sales volume? ',\n",
       "                                                 u'What product categories are you interested in? Cleaning agents',\n",
       "                                                                                       u'What year were you born?',\n",
       "                                                                                                      u'sum_happy'],\n",
       "      dtype='object', length=106)"
      ]
     },
     "execution_count": 40,
     "metadata": {},
     "output_type": "execute_result"
    }
   ],
   "source": [
    "data_a.columns"
   ]
  },
  {
   "cell_type": "code",
   "execution_count": 41,
   "metadata": {},
   "outputs": [],
   "source": [
    "data_a = pd.get_dummies(data_a, columns = data_a[data_a.columns[data_a.max() < 15]].columns)"
   ]
  },
  {
   "cell_type": "code",
   "execution_count": null,
   "metadata": {
    "collapsed": true
   },
   "outputs": [],
   "source": []
  },
  {
   "cell_type": "code",
   "execution_count": 42,
   "metadata": {
    "scrolled": true
   },
   "outputs": [],
   "source": [
    "data_a['Please select the classification that best represents your company type.0_1'] = data_classification"
   ]
  },
  {
   "cell_type": "code",
   "execution_count": 43,
   "metadata": {},
   "outputs": [],
   "source": [
    "data_Y = data_Y[data_Y['Please select the classification that best represents your company type.'] == 1]"
   ]
  },
  {
   "cell_type": "code",
   "execution_count": 44,
   "metadata": {},
   "outputs": [],
   "source": [
    "data_Y = data_Y.drop('Please select the classification that best represents your company type.', axis=1)"
   ]
  },
  {
   "cell_type": "code",
   "execution_count": 45,
   "metadata": {},
   "outputs": [
    {
     "data": {
      "text/plain": [
       "(510, 395)"
      ]
     },
     "execution_count": 45,
     "metadata": {},
     "output_type": "execute_result"
    }
   ],
   "source": [
    "\n",
    "data_a.shape"
   ]
  },
  {
   "cell_type": "code",
   "execution_count": 46,
   "metadata": {},
   "outputs": [],
   "source": [
    "data_a = data_a[data_a['Please select the classification that best represents your company type.0_1'] == 1]"
   ]
  },
  {
   "cell_type": "code",
   "execution_count": 47,
   "metadata": {},
   "outputs": [
    {
     "data": {
      "text/plain": [
       "(100, 395)"
      ]
     },
     "execution_count": 47,
     "metadata": {},
     "output_type": "execute_result"
    }
   ],
   "source": [
    "data_a.shape"
   ]
  },
  {
   "cell_type": "code",
   "execution_count": 48,
   "metadata": {
    "collapsed": true
   },
   "outputs": [],
   "source": [
    "data_a = data_a.astype(float)"
   ]
  },
  {
   "cell_type": "code",
   "execution_count": 49,
   "metadata": {},
   "outputs": [
    {
     "name": "stdout",
     "output_type": "stream",
     "text": [
      "0 Booth visits to a new exhibitor or supplier:\n",
      "1 Please estimate how many of the following activities you personally accomplished during the show: Supplier Meeting\n",
      "2 Respondent ID\n",
      "3 total visits to your booth\n",
      "4 What year were you born?\n",
      "5 ARCSI Rountables_0.0\n",
      "6 ARCSI Rountables_1.0\n",
      "7 ARCSI Rountables_2.0\n",
      "8 ARCSI Rountables_3.0\n",
      "9 ARCSI Rountables_4.0\n",
      "10 Are you a member of a distributor marketing group? If yes, please list which one in the comments box._1.0\n",
      "11 Are you a member of a distributor marketing group? If yes, please list which one in the comments box._2.0\n",
      "12 ARSCI Roundtables_1.0\n",
      "13 ARSCI Roundtables_2.0\n",
      "14 ARSCI Roundtables_3.0\n",
      "15 Cleaning tools & supplies_2.0\n",
      "16 Co-located events by other associations_1.0\n",
      "17 Co-located events by other associations_2.0\n",
      "18 Co-located events by other associations_3.0\n",
      "19 Co-located events by other associations_4.0\n",
      "20 Co-located events by other associations_5.0\n",
      "21 Commercial Cleaning Business Solutions Track_1.0\n",
      "22 Commercial Cleaning Business Solutions Track_2.0\n",
      "23 Commercial Cleaning Business Solutions Track_3.0\n",
      "24 Commercial Cleaning Business Solutions Track_4.0\n",
      "25 Commercial Cleaning Business Solutions Track_5.0\n",
      "26 Customers met with_0.0\n",
      "27 Customers met with_1.0\n",
      "28 Customers met with_2.0\n",
      "29 Customers met with_3.0\n",
      "30 Customers met with_4.0\n",
      "31 Did the increased programming on Thursday influence your decision to visit the exhibit hall on Thursday?_1.0\n",
      "32 Did the increased programming on Thursday influence your decision to visit the exhibit hall on Thursday?_2.0\n",
      "33 Did you accomplish all you had planned during the trade show? _1.0\n",
      "34 Did you accomplish all you had planned during the trade show? _2.0\n",
      "35 Did you attend any educational sessions offered through ISSA Convention?_1.0\n",
      "36 Did you attend any educational sessions offered through ISSA Convention?_2.0\n",
      "37 Education session topics_1.0\n",
      "38 Education session topics_2.0\n",
      "39 Education session topics_3.0\n",
      "40 Education session topics_4.0\n",
      "41 Education session topics_5.0\n",
      "42 Educational sessions_1.0\n",
      "43 Educational sessions_2.0\n",
      "44 Educational sessions_3.0\n",
      "45 Educational/Professional Development_1.0\n",
      "46 Educational/Professional Development_2.0\n",
      "47 Educational/Professional Development_3.0\n",
      "48 Educational/Professional Development_4.0\n",
      "49 Educational/Professional Development_5.0\n",
      "50 Equipment & accessories_3.0\n",
      "51 Evening Roundtable event_1.0\n",
      "52 Evening Roundtable event_2.0\n",
      "53 Evening Roundtable event_3.0\n",
      "54 Evening Roundtable event_4.0\n",
      "55 Evening Roundtable event_5.0\n",
      "56 Facility maintenance & safety supply_4.0\n",
      "57 Find new ideas to solve problems_1.0\n",
      "58 Find new ideas to solve problems_2.0\n",
      "59 Find new ideas to solve problems_3.0\n",
      "60 Find new suppliers_1.0\n",
      "61 Find new suppliers_2.0\n",
      "62 Find new suppliers_3.0\n",
      "63 First-Time Attendee Orientation_0.0\n",
      "64 First-Time Attendee Orientation_1.0\n",
      "65 First-Time Attendee Orientation_2.0\n",
      "66 First-Time Attendee Orientation_3.0\n",
      "67 First-Time Attendee Orientation_4.0\n",
      "68 Floor carpet care_5.0\n",
      "69 Foodservice disposables & equipment_6.0\n",
      "70 Free WiFi hot spots_1.0\n",
      "71 Free WiFi hot spots_2.0\n",
      "72 Free WiFi hot spots_3.0\n",
      "73 Free WiFi hot spots_4.0\n",
      "74 Free WiFi hot spots_5.0\n",
      "75 Green Clean Schools Track_1.0\n",
      "76 Green Clean Schools Track_2.0\n",
      "77 Green Clean Schools Track_3.0\n",
      "78 Green Clean Schools Track_4.0\n",
      "79 Green Clean Schools Track_5.0\n",
      "80 Healthcare Environment Essentials Track_1.0\n",
      "81 Healthcare Environment Essentials Track_2.0\n",
      "82 Healthcare Environment Essentials Track_3.0\n",
      "83 Healthcare Environment Essentials Track_4.0\n",
      "84 Healthcare Environment Essentials Track_5.0\n",
      "85 Hotel/Host city_1.0\n",
      "86 Hotel/Host city_2.0\n",
      "87 Hotel/Host city_3.0\n",
      "88 Hotel/Host city_4.0\n",
      "89 Hotel/Host city_5.0\n",
      "90 How did you hear about ISSA/INTERCLEAN North America?_0.0\n",
      "91 How did you hear about ISSA/INTERCLEAN North America?_1.0\n",
      "92 How did you hear about ISSA/INTERCLEAN North America?_2.0\n",
      "93 How did you hear about ISSA/INTERCLEAN North America?_3.0\n",
      "94 How did you hear about ISSA/INTERCLEAN North America?_4.0\n",
      "95 How did you hear about ISSA/INTERCLEAN North America?_5.0\n",
      "96 How did you hear about ISSA/INTERCLEAN North America?_6.0\n",
      "97 How did you hear about ISSA/INTERCLEAN North America?_7.0\n",
      "98 How did you hear about ISSA/INTERCLEAN North America?_8.0\n",
      "99 How did you hear about ISSA/INTERCLEAN North America?_9.0\n",
      "100 How did you hear about ISSA/INTERCLEAN North America?_10.0\n",
      "101 How would you rate ISSA/INTERCLEAN's performance in the following areas? Educational Sessions_0.0\n",
      "102 How would you rate ISSA/INTERCLEAN's performance in the following areas? Educational Sessions_1.0\n",
      "103 How would you rate ISSA/INTERCLEAN's performance in the following areas? Educational Sessions_2.0\n",
      "104 How would you rate ISSA/INTERCLEAN's performance in the following areas? Educational Sessions_3.0\n",
      "105 How would you rate ISSA/INTERCLEAN's performance in the following areas? Educational Sessions_4.0\n",
      "106 If you are a first-time attendee, do you think the First-Time Attendee Orientation prepared you for the full schedule of the show? _1.0\n",
      "107 If you are a first-time attendee, do you think the First-Time Attendee Orientation prepared you for the full schedule of the show? _2.0\n",
      "108 In your organization do you have the final decision on whether you will attend ISSA/INTERCLEAN_1.0\n",
      "109 In your organization do you have the final decision on whether you will attend ISSA/INTERCLEAN_2.0\n",
      "110 ISSA Innovation Showcase_1.0\n",
      "111 ISSA Innovation Showcase_2.0\n",
      "112 ISSA Innovation Showcase_3.0\n",
      "113 ISSA Innovation Showcase_4.0\n",
      "114 ISSA Innovation Showcase_5.0\n",
      "115 ISSA/INTERCLEAN Bistro_1.0\n",
      "116 ISSA/INTERCLEAN Bistro_2.0\n",
      "117 ISSA/INTERCLEAN Bistro_3.0\n",
      "118 ISSA/INTERCLEAN Bistro_4.0\n",
      "119 ISSA/INTERCLEAN Bistro_5.0\n",
      "120 Keep up to date with industry trends_1.0\n",
      "121 Keep up to date with industry trends_2.0\n",
      "122 Keep up to date with industry trends_3.0\n",
      "123 Keynote Speakers_1.0\n",
      "124 Keynote Speakers_2.0\n",
      "125 Keynote Speakers_3.0\n",
      "126 Keynote Speakers_4.0\n",
      "127 Keynote Speakers_5.0\n",
      "128 Keynote Speakers.1_1.0\n",
      "129 Keynote Speakers.1_2.0\n",
      "130 Keynote Speakers.1_3.0\n",
      "131 Keynote Speakers.1_4.0\n",
      "132 Keynote Speakers.1_5.0\n",
      "133 Keynote speakers_0.0\n",
      "134 Keynote speakers_1.0\n",
      "135 Keynote speakers_2.0\n",
      "136 Keynote speakers_3.0\n",
      "137 Keynote speakers_4.0\n",
      "138 Keynote Speakers.2_3.0\n",
      "139 Keynote Speakers.2_4.0\n",
      "140 Keynote speakers.1_0.0\n",
      "141 Keynote speakers.1_1.0\n",
      "142 Keynote Speakers.3_1.0\n",
      "143 Keynote Speakers.3_2.0\n",
      "144 Keynote Speakers.3_3.0\n",
      "145 Keynote Speakers.3_4.0\n",
      "146 Keynote Speakers.3_5.0\n",
      "147 Keynote speakers.2_0.0\n",
      "148 Keynote speakers.2_1.0\n",
      "149 Keynote speakers.2_2.0\n",
      "150 Keynote speakers.2_3.0\n",
      "151 Keynote speakers.2_4.0\n",
      "152 Keynote Speakers.4_1.0\n",
      "153 Keynote Speakers.4_2.0\n",
      "154 Keynote Speakers.4_3.0\n",
      "155 Keynote Speakers.4_4.0\n",
      "156 Keynote Speakers.4_5.0\n",
      "157 Keynote speakers.3_0.0\n",
      "158 Keynote speakers.3_1.0\n",
      "159 Keynote speakers.3_2.0\n",
      "160 Keynote speakers.3_3.0\n",
      "161 Keynote speakers.3_4.0\n",
      "162 Combine Keynote speakers BC BE_0.0\n",
      "163 Combine Keynote speakers BC BE_1.0\n",
      "164 Combine Keynote speakers BC BE_2.0\n",
      "165 Combine Keynote speakers BC BE_3.0\n",
      "166 Combine Keynote speakers BC BE_4.0\n",
      "167 Length of Event_1.0\n",
      "168 Length of Event_2.0\n",
      "169 Length of Event_3.0\n",
      "170 Length of Event_4.0\n",
      "171 Length of Event_5.0\n",
      "172 Location_1.0\n",
      "173 Location_2.0\n",
      "174 Location_3.0\n",
      "175 Location_4.0\n",
      "176 Location_5.0\n",
      "177 Location of the event_1.0\n",
      "178 Location of the event_2.0\n",
      "179 Location of the event_3.0\n",
      "180 Lunch and Learn_1.0\n",
      "181 Lunch and Learn_2.0\n",
      "182 Lunch and Learn_3.0\n",
      "183 Lunch and Learn_4.0\n",
      "184 Lunch and Learn_5.0\n",
      "185 Meet with current consultants_1.0\n",
      "186 Meet with current consultants_2.0\n",
      "187 Meet with current suppliers_1.0\n",
      "188 Meet with current suppliers_2.0\n",
      "189 Meet with current suppliers_3.0\n",
      "190 Meet with customers_1.0\n",
      "191 Meet with customers_2.0\n",
      "192 Meet with customers_3.0\n",
      "193 Meet with peers_1.0\n",
      "194 Meet with peers_2.0\n",
      "195 Meet with peers_3.0\n",
      "196 Meeting Hub_1.0\n",
      "197 Meeting Hub_2.0\n",
      "198 Meeting Hub_3.0\n",
      "199 Meeting Hub_4.0\n",
      "200 Meeting Hub_5.0\n",
      "201 My Show Planner_0.0\n",
      "202 My Show Planner_1.0\n",
      "203 My Show Planner_2.0\n",
      "204 My Show Planner_3.0\n",
      "205 My Show Planner_4.0\n",
      "206 My Show Planner_5.0\n",
      "207 Networking_1.0\n",
      "208 Networking_2.0\n",
      "209 Networking_3.0\n",
      "210 Networking.1_2.0\n",
      "211 Networking.2_0.0\n",
      "212 Networking.2_1.0\n",
      "213 Networking.2_2.0\n",
      "214 Networking.3_1.0\n",
      "215 Networking.3_2.0\n",
      "216 Networking.3_3.0\n",
      "217 Networking.4_1.0\n",
      "218 Networking.4_2.0\n",
      "219 Networking.4_3.0\n",
      "220 Networking.5_0.0\n",
      "221 Networking.5_1.0\n",
      "222 Networking.5_2.0\n",
      "223 Networking.5_3.0\n",
      "224 Networking.5_4.0\n",
      "225 New products/innovations_0.0\n",
      "226 New products/innovations_1.0\n",
      "227 New products/innovations_2.0\n",
      "228 New products/innovations_3.0\n",
      "229 New products/innovations_4.0\n",
      "230 New supply lines found_1.0\n",
      "231 New supply lines found_2.0\n",
      "232 New supply lines found_3.0\n",
      "233 New supply lines found_4.0\n",
      "234 New Supply Combined_0.0\n",
      "235 New Supply Combined_1.0\n",
      "236 New Supply Combined_2.0\n",
      "237 New Supply Combined_3.0\n",
      "238 New Supply Combined_4.0\n",
      "239 Number on a scale of 1-5 (1 being very good and 5 being disappointing), overall, how would you rate your trade show registration process?_0.0\n",
      "240 Number on a scale of 1-5 (1 being very good and 5 being disappointing), overall, how would you rate your trade show registration process?_1.0\n",
      "241 Number on a scale of 1-5 (1 being very good and 5 being disappointing), overall, how would you rate your trade show registration process?_2.0\n",
      "242 Number on a scale of 1-5 (1 being very good and 5 being disappointing), overall, how would you rate your trade show registration process?_3.0\n",
      "243 Number on a scale of 1-5 (1 being very good and 5 being disappointing), overall, how would you rate your trade show registration process?_4.0\n",
      "244 Number on a scale of 1-5 (1 being very good and 5 being disappointing), overall, how would you rate your trade show registration process?_5.0\n",
      "245 Odor control products_6.0\n",
      "246 Odor control products_7.0\n",
      "247 Other.2_1.0\n",
      "248 Other.2_2.0\n",
      "249 Other.2_3.0\n",
      "250 Other.3_1.0\n",
      "251 Other.3_2.0\n",
      "252 Other.3_3.0\n",
      "253 Paper products & dispensers_7.0\n",
      "254 Paper products & dispensers_8.0\n",
      "255 Please estimate how many customer meetings you personally accomplished during the show:_1.0\n",
      "256 Please estimate how many customer meetings you personally accomplished during the show:_2.0\n",
      "257 Please estimate how many customer meetings you personally accomplished during the show:_3.0\n",
      "258 Please estimate how many customer meetings you personally accomplished during the show:_4.0\n",
      "259 Please estimate how many customer meetings you personally accomplished during the show:_5.0\n",
      "260 Please estimate how many customer meetings you personally accomplished during the show:_6.0\n",
      "261 Please indicate the importance of the following: Price_1.0\n",
      "262 Please indicate the importance of the following: Price_2.0\n",
      "263 Please indicate the importance of the following: Price_3.0\n",
      "264 Please indicate the importance of the following: Price_4.0\n",
      "265 Please indicate the importance of the following: Price_5.0\n",
      "266 Please indicate your primary job function._0.0\n",
      "267 Please indicate your primary job function._1.0\n",
      "268 Please indicate your primary job function._2.0\n",
      "269 Please indicate your primary job function._3.0\n",
      "270 Please indicate your primary job function._4.0\n",
      "271 Please indicate your primary job function._5.0\n",
      "272 Please indicate your primary job function._6.0\n",
      "273 Please indicate your primary job function._7.0\n",
      "274 Please indicate your primary job function._8.0\n",
      "275 Please rank the top 5 elements of ISSA/INTERCLEAN trade show that were of most value to you. 1,2,etc. Digital Official Exhibit Directory_1.0\n",
      "276 Please rank the top 5 elements of ISSA/INTERCLEAN trade show that were of most value to you. 1,2,etc. Digital Official Exhibit Directory_2.0\n",
      "277 Please rank the top 5 elements of ISSA/INTERCLEAN trade show that were of most value to you. 1,2,etc. Digital Official Exhibit Directory_3.0\n",
      "278 Please rank the top 5 elements of ISSA/INTERCLEAN trade show that were of most value to you. 1,2,etc. Digital Official Exhibit Directory_4.0\n",
      "279 Please rank the top 5 elements of ISSA/INTERCLEAN trade show that were of most value to you. 1,2,etc. Digital Official Exhibit Directory_5.0\n",
      "280 Please rank the top 5 elements of the ISSA Convention that you found valuable 1,2 etc.). DISRUPT AND INNOVATE_1.0\n",
      "281 Please rank the top 5 elements of the ISSA Convention that you found valuable 1,2 etc.). DISRUPT AND INNOVATE_2.0\n",
      "282 Please rank the top 5 elements of the ISSA Convention that you found valuable 1,2 etc.). DISRUPT AND INNOVATE_3.0\n",
      "283 Please rank the top 5 elements of the ISSA Convention that you found valuable 1,2 etc.). DISRUPT AND INNOVATE_4.0\n",
      "284 Please rank the top 5 elements of the ISSA Convention that you found valuable 1,2 etc.). DISRUPT AND INNOVATE_5.0\n",
      "285 Please rank your top three reasons for attending ISSA/INTERCLEAN 1,2 etc. ARCSI Evening Receptions_1.0\n",
      "286 Please rank your top three reasons for attending ISSA/INTERCLEAN 1,2 etc. ARCSI Evening Receptions_3.0\n",
      "287 Please rank your top three reasons for attending ISSA/INTERCLEAN 1,2 etc. Educational Sessions_1.0\n",
      "288 Please rank your top three reasons for attending ISSA/INTERCLEAN 1,2 etc. Educational Sessions_2.0\n",
      "289 Please rank your top three reasons for attending ISSA/INTERCLEAN 1,2 etc. Educational Sessions_3.0\n",
      "290 Pressure washing equipment & accessories_8.0\n",
      "291 Pressure washing equipment & accessories_9.0\n",
      "292 Quality of exhibitors_0.0\n",
      "293 Quality of exhibitors_1.0\n",
      "294 Quality of exhibitors_2.0\n",
      "295 Quality of exhibitors_3.0\n",
      "296 Quality of exhibitors_4.0\n",
      "297 Residential Cleaning Connection Track_1.0\n",
      "298 Residential Cleaning Connection Track_2.0\n",
      "299 Residential Cleaning Connection Track_3.0\n",
      "300 Residential Cleaning Connection Track_4.0\n",
      "301 Residential Cleaning Connection Track_5.0\n",
      "302 Restroom care & service_9.0\n",
      "303 Restroom care & service_10.0\n",
      "304 See new products/innovations_1.0\n",
      "305 See new products/innovations_2.0\n",
      "306 See new products/innovations_3.0\n",
      "307 Services/technology_10.0\n",
      "308 Services/technology_11.0\n",
      "309 Show Mobile App_1.0\n",
      "310 Show Mobile App_2.0\n",
      "311 Show Mobile App_3.0\n",
      "312 Show Mobile App_4.0\n",
      "313 Show Mobile App_5.0\n",
      "314 Show Mobile App.1_0.0\n",
      "315 Show Mobile App.1_1.0\n",
      "316 Show Mobile App.1_2.0\n",
      "317 Show Mobile App.1_3.0\n",
      "318 Show Mobile App.1_4.0\n",
      "319 Show Mobile App.2_3.0\n",
      "320 Show Mobile App.2_5.0\n",
      "321 Show Mobile App.3_0.0\n",
      "322 Show Mobile App.3_1.0\n",
      "323 Show Mobile App.4_1.0\n",
      "324 Show Mobile App.4_2.0\n",
      "325 Show Mobile App.4_3.0\n",
      "326 Show Mobile App.4_4.0\n",
      "327 Show Mobile App.4_5.0\n",
      "328 Show Mobile App.5_1.0\n",
      "329 Show Mobile App.5_2.0\n",
      "330 Show Mobile App.5_3.0\n",
      "331 Show Mobile App.5_4.0\n",
      "332 Show Mobile App.5_5.0\n",
      "333 Show Mobile App.6_1.0\n",
      "334 Show Mobile App.6_2.0\n",
      "335 Show Mobile App.6_3.0\n",
      "336 Show Mobile App.6_4.0\n",
      "337 Show Mobile App.6_5.0\n",
      "338 Skin care & personal hygiene_12.0\n",
      "339 Storage & material handling_11.0\n",
      "340 Storage & material handling_13.0\n",
      "341 Supervisor signed me up_1.0\n",
      "342 Supervisor signed me up_2.0\n",
      "343 Supervisor signed me up_3.0\n",
      "344 This year, ISSA/ARCSI provided tools to help attendees plan for the show with ease. Please rate each tool's usefulness. Website_0.0\n",
      "345 This year, ISSA/ARCSI provided tools to help attendees plan for the show with ease. Please rate each tool's usefulness. Website_1.0\n",
      "346 This year, ISSA/ARCSI provided tools to help attendees plan for the show with ease. Please rate each tool's usefulness. Website_2.0\n",
      "347 This year, ISSA/ARCSI provided tools to help attendees plan for the show with ease. Please rate each tool's usefulness. Website_3.0\n",
      "348 This year, ISSA/ARCSI provided tools to help attendees plan for the show with ease. Please rate each tool's usefulness. Website_4.0\n",
      "349 This year, ISSA/ARCSI provided tools to help attendees plan for the show with ease. Please rate each tool's usefulness. Website_5.0\n",
      "350 Thursday seminars/panels_1.0\n",
      "351 Thursday seminars/panels_2.0\n",
      "352 Thursday seminars/panels_3.0\n",
      "353 Thursday seminars/panels_4.0\n",
      "354 Thursday seminars/panels_5.0\n",
      "355 Time of year_1.0\n",
      "356 Time of year_2.0\n",
      "357 Time of year_3.0\n",
      "358 Time of year_4.0\n",
      "359 Time of year_5.0\n",
      "360 Value of attending_0.0\n",
      "361 Value of attending_1.0\n",
      "362 Value of attending_2.0\n",
      "363 Value of attending_3.0\n",
      "364 Value of attending_4.0\n",
      "365 Value of attending last day of show_0.0\n",
      "366 Value of attending last day of show_1.0\n",
      "367 Value of attending last day of show_2.0\n",
      "368 Value of attending last day of show_3.0\n",
      "369 Value of attending last day of show_4.0\n",
      "370 Was this your first time attending ISSA/INTERCLEAN?_1.0\n",
      "371 Was this your first time attending ISSA/INTERCLEAN?_2.0\n",
      "372 Waste containment & disposal_12.0\n",
      "373 Waste containment & disposal_14.0\n",
      "374 Welcome Networking Reception_1.0\n",
      "375 Welcome Networking Reception_2.0\n",
      "376 Welcome Networking Reception_3.0\n",
      "377 Welcome Networking Reception_4.0\n",
      "378 Welcome Networking Reception_5.0\n",
      "379 What is your annual budget to purchase cleaning supplies, equipment, and other cleaning materials? _1.0\n",
      "380 What is your annual budget to purchase cleaning supplies, equipment, and other cleaning materials? _2.0\n",
      "381 What is your annual budget to purchase cleaning supplies, equipment, and other cleaning materials? _3.0\n",
      "382 What is your annual budget to purchase cleaning supplies, equipment, and other cleaning materials? _4.0\n",
      "383 What is your annual budget to purchase cleaning supplies, equipment, and other cleaning materials? _5.0\n",
      "384 What is your company's annual sales volume? _1.0\n",
      "385 What is your company's annual sales volume? _2.0\n",
      "386 What is your company's annual sales volume? _3.0\n",
      "387 What is your company's annual sales volume? _4.0\n",
      "388 What is your company's annual sales volume? _5.0\n",
      "389 What is your company's annual sales volume? _6.0\n",
      "390 What product categories are you interested in? Cleaning agents_1.0\n",
      "391 sum_happy_1\n",
      "392 sum_happy_2\n",
      "393 sum_happy_3\n",
      "394 Please select the classification that best represents your company type.0_1\n"
     ]
    }
   ],
   "source": [
    "for a in range(0, len(data_a.columns)):\n",
    "    print a, data_a.columns[a]"
   ]
  },
  {
   "cell_type": "code",
   "execution_count": 50,
   "metadata": {
    "collapsed": true
   },
   "outputs": [],
   "source": [
    "\n",
    "data_X_hold = data_a.columns\n",
    "imp = Imputer(missing_values='NaN', strategy='mean', axis=1)\n",
    "imp.fit(data_a)\n",
    "data_T=imp.transform(data_a)\n",
    "data_a = pd.DataFrame(data_T, columns = data_X_hold)"
   ]
  },
  {
   "cell_type": "code",
   "execution_count": null,
   "metadata": {
    "collapsed": true
   },
   "outputs": [],
   "source": []
  },
  {
   "cell_type": "code",
   "execution_count": null,
   "metadata": {
    "collapsed": true
   },
   "outputs": [],
   "source": []
  },
  {
   "cell_type": "code",
   "execution_count": 51,
   "metadata": {
    "collapsed": true
   },
   "outputs": [],
   "source": [
    "data_X = data_a"
   ]
  },
  {
   "cell_type": "code",
   "execution_count": 52,
   "metadata": {},
   "outputs": [
    {
     "data": {
      "text/plain": [
       "Index([                                                                      u'Booth visits to a new exhibitor or supplier:',\n",
       "       u'Please estimate how many of the following activities you personally accomplished during the show: Supplier Meeting',\n",
       "                                                                                                            u'Respondent ID',\n",
       "                                                                                               u'total visits to your booth',\n",
       "                                                                                                 u'What year were you born?',\n",
       "                                                                                                     u'ARCSI Rountables_0.0',\n",
       "                                                                                                     u'ARCSI Rountables_1.0',\n",
       "                                                                                                     u'ARCSI Rountables_2.0',\n",
       "                                                                                                     u'ARCSI Rountables_3.0',\n",
       "                                                                                                     u'ARCSI Rountables_4.0',\n",
       "       ...\n",
       "                                                                         u'What is your company's annual sales volume? _2.0',\n",
       "                                                                         u'What is your company's annual sales volume? _3.0',\n",
       "                                                                         u'What is your company's annual sales volume? _4.0',\n",
       "                                                                         u'What is your company's annual sales volume? _5.0',\n",
       "                                                                         u'What is your company's annual sales volume? _6.0',\n",
       "                                                       u'What product categories are you interested in? Cleaning agents_1.0',\n",
       "                                                                                                              u'sum_happy_1',\n",
       "                                                                                                              u'sum_happy_2',\n",
       "                                                                                                              u'sum_happy_3',\n",
       "                                              u'Please select the classification that best represents your company type.0_1'],\n",
       "      dtype='object', length=395)"
      ]
     },
     "execution_count": 52,
     "metadata": {},
     "output_type": "execute_result"
    }
   ],
   "source": [
    "data_X.columns"
   ]
  },
  {
   "cell_type": "code",
   "execution_count": 53,
   "metadata": {},
   "outputs": [],
   "source": [
    "data_X = data_X.drop(['sum_happy_1', 'sum_happy_2', 'sum_happy_3'],axis = 1)"
   ]
  },
  {
   "cell_type": "code",
   "execution_count": 54,
   "metadata": {},
   "outputs": [
    {
     "name": "stdout",
     "output_type": "stream",
     "text": [
      "0 Booth visits to a new exhibitor or supplier:\n",
      "1 Please estimate how many of the following activities you personally accomplished during the show: Supplier Meeting\n",
      "2 Respondent ID\n",
      "3 total visits to your booth\n",
      "4 What year were you born?\n",
      "5 ARCSI Rountables_0.0\n",
      "6 ARCSI Rountables_1.0\n",
      "7 ARCSI Rountables_2.0\n",
      "8 ARCSI Rountables_3.0\n",
      "9 ARCSI Rountables_4.0\n",
      "10 Are you a member of a distributor marketing group? If yes, please list which one in the comments box._1.0\n",
      "11 Are you a member of a distributor marketing group? If yes, please list which one in the comments box._2.0\n",
      "12 ARSCI Roundtables_1.0\n",
      "13 ARSCI Roundtables_2.0\n",
      "14 ARSCI Roundtables_3.0\n",
      "15 Cleaning tools & supplies_2.0\n",
      "16 Co-located events by other associations_1.0\n",
      "17 Co-located events by other associations_2.0\n",
      "18 Co-located events by other associations_3.0\n",
      "19 Co-located events by other associations_4.0\n",
      "20 Co-located events by other associations_5.0\n",
      "21 Commercial Cleaning Business Solutions Track_1.0\n",
      "22 Commercial Cleaning Business Solutions Track_2.0\n",
      "23 Commercial Cleaning Business Solutions Track_3.0\n",
      "24 Commercial Cleaning Business Solutions Track_4.0\n",
      "25 Commercial Cleaning Business Solutions Track_5.0\n",
      "26 Customers met with_0.0\n",
      "27 Customers met with_1.0\n",
      "28 Customers met with_2.0\n",
      "29 Customers met with_3.0\n",
      "30 Customers met with_4.0\n",
      "31 Did the increased programming on Thursday influence your decision to visit the exhibit hall on Thursday?_1.0\n",
      "32 Did the increased programming on Thursday influence your decision to visit the exhibit hall on Thursday?_2.0\n",
      "33 Did you accomplish all you had planned during the trade show? _1.0\n",
      "34 Did you accomplish all you had planned during the trade show? _2.0\n",
      "35 Did you attend any educational sessions offered through ISSA Convention?_1.0\n",
      "36 Did you attend any educational sessions offered through ISSA Convention?_2.0\n",
      "37 Education session topics_1.0\n",
      "38 Education session topics_2.0\n",
      "39 Education session topics_3.0\n",
      "40 Education session topics_4.0\n",
      "41 Education session topics_5.0\n",
      "42 Educational sessions_1.0\n",
      "43 Educational sessions_2.0\n",
      "44 Educational sessions_3.0\n",
      "45 Educational/Professional Development_1.0\n",
      "46 Educational/Professional Development_2.0\n",
      "47 Educational/Professional Development_3.0\n",
      "48 Educational/Professional Development_4.0\n",
      "49 Educational/Professional Development_5.0\n",
      "50 Equipment & accessories_3.0\n",
      "51 Evening Roundtable event_1.0\n",
      "52 Evening Roundtable event_2.0\n",
      "53 Evening Roundtable event_3.0\n",
      "54 Evening Roundtable event_4.0\n",
      "55 Evening Roundtable event_5.0\n",
      "56 Facility maintenance & safety supply_4.0\n",
      "57 Find new ideas to solve problems_1.0\n",
      "58 Find new ideas to solve problems_2.0\n",
      "59 Find new ideas to solve problems_3.0\n",
      "60 Find new suppliers_1.0\n",
      "61 Find new suppliers_2.0\n",
      "62 Find new suppliers_3.0\n",
      "63 First-Time Attendee Orientation_0.0\n",
      "64 First-Time Attendee Orientation_1.0\n",
      "65 First-Time Attendee Orientation_2.0\n",
      "66 First-Time Attendee Orientation_3.0\n",
      "67 First-Time Attendee Orientation_4.0\n",
      "68 Floor carpet care_5.0\n",
      "69 Foodservice disposables & equipment_6.0\n",
      "70 Free WiFi hot spots_1.0\n",
      "71 Free WiFi hot spots_2.0\n",
      "72 Free WiFi hot spots_3.0\n",
      "73 Free WiFi hot spots_4.0\n",
      "74 Free WiFi hot spots_5.0\n",
      "75 Green Clean Schools Track_1.0\n",
      "76 Green Clean Schools Track_2.0\n",
      "77 Green Clean Schools Track_3.0\n",
      "78 Green Clean Schools Track_4.0\n",
      "79 Green Clean Schools Track_5.0\n",
      "80 Healthcare Environment Essentials Track_1.0\n",
      "81 Healthcare Environment Essentials Track_2.0\n",
      "82 Healthcare Environment Essentials Track_3.0\n",
      "83 Healthcare Environment Essentials Track_4.0\n",
      "84 Healthcare Environment Essentials Track_5.0\n",
      "85 Hotel/Host city_1.0\n",
      "86 Hotel/Host city_2.0\n",
      "87 Hotel/Host city_3.0\n",
      "88 Hotel/Host city_4.0\n",
      "89 Hotel/Host city_5.0\n",
      "90 How did you hear about ISSA/INTERCLEAN North America?_0.0\n",
      "91 How did you hear about ISSA/INTERCLEAN North America?_1.0\n",
      "92 How did you hear about ISSA/INTERCLEAN North America?_2.0\n",
      "93 How did you hear about ISSA/INTERCLEAN North America?_3.0\n",
      "94 How did you hear about ISSA/INTERCLEAN North America?_4.0\n",
      "95 How did you hear about ISSA/INTERCLEAN North America?_5.0\n",
      "96 How did you hear about ISSA/INTERCLEAN North America?_6.0\n",
      "97 How did you hear about ISSA/INTERCLEAN North America?_7.0\n",
      "98 How did you hear about ISSA/INTERCLEAN North America?_8.0\n",
      "99 How did you hear about ISSA/INTERCLEAN North America?_9.0\n",
      "100 How did you hear about ISSA/INTERCLEAN North America?_10.0\n",
      "101 How would you rate ISSA/INTERCLEAN's performance in the following areas? Educational Sessions_0.0\n",
      "102 How would you rate ISSA/INTERCLEAN's performance in the following areas? Educational Sessions_1.0\n",
      "103 How would you rate ISSA/INTERCLEAN's performance in the following areas? Educational Sessions_2.0\n",
      "104 How would you rate ISSA/INTERCLEAN's performance in the following areas? Educational Sessions_3.0\n",
      "105 How would you rate ISSA/INTERCLEAN's performance in the following areas? Educational Sessions_4.0\n",
      "106 If you are a first-time attendee, do you think the First-Time Attendee Orientation prepared you for the full schedule of the show? _1.0\n",
      "107 If you are a first-time attendee, do you think the First-Time Attendee Orientation prepared you for the full schedule of the show? _2.0\n",
      "108 In your organization do you have the final decision on whether you will attend ISSA/INTERCLEAN_1.0\n",
      "109 In your organization do you have the final decision on whether you will attend ISSA/INTERCLEAN_2.0\n",
      "110 ISSA Innovation Showcase_1.0\n",
      "111 ISSA Innovation Showcase_2.0\n",
      "112 ISSA Innovation Showcase_3.0\n",
      "113 ISSA Innovation Showcase_4.0\n",
      "114 ISSA Innovation Showcase_5.0\n",
      "115 ISSA/INTERCLEAN Bistro_1.0\n",
      "116 ISSA/INTERCLEAN Bistro_2.0\n",
      "117 ISSA/INTERCLEAN Bistro_3.0\n",
      "118 ISSA/INTERCLEAN Bistro_4.0\n",
      "119 ISSA/INTERCLEAN Bistro_5.0\n",
      "120 Keep up to date with industry trends_1.0\n",
      "121 Keep up to date with industry trends_2.0\n",
      "122 Keep up to date with industry trends_3.0\n",
      "123 Keynote Speakers_1.0\n",
      "124 Keynote Speakers_2.0\n",
      "125 Keynote Speakers_3.0\n",
      "126 Keynote Speakers_4.0\n",
      "127 Keynote Speakers_5.0\n",
      "128 Keynote Speakers.1_1.0\n",
      "129 Keynote Speakers.1_2.0\n",
      "130 Keynote Speakers.1_3.0\n",
      "131 Keynote Speakers.1_4.0\n",
      "132 Keynote Speakers.1_5.0\n",
      "133 Keynote speakers_0.0\n",
      "134 Keynote speakers_1.0\n",
      "135 Keynote speakers_2.0\n",
      "136 Keynote speakers_3.0\n",
      "137 Keynote speakers_4.0\n",
      "138 Keynote Speakers.2_3.0\n",
      "139 Keynote Speakers.2_4.0\n",
      "140 Keynote speakers.1_0.0\n",
      "141 Keynote speakers.1_1.0\n",
      "142 Keynote Speakers.3_1.0\n",
      "143 Keynote Speakers.3_2.0\n",
      "144 Keynote Speakers.3_3.0\n",
      "145 Keynote Speakers.3_4.0\n",
      "146 Keynote Speakers.3_5.0\n",
      "147 Keynote speakers.2_0.0\n",
      "148 Keynote speakers.2_1.0\n",
      "149 Keynote speakers.2_2.0\n",
      "150 Keynote speakers.2_3.0\n",
      "151 Keynote speakers.2_4.0\n",
      "152 Keynote Speakers.4_1.0\n",
      "153 Keynote Speakers.4_2.0\n",
      "154 Keynote Speakers.4_3.0\n",
      "155 Keynote Speakers.4_4.0\n",
      "156 Keynote Speakers.4_5.0\n",
      "157 Keynote speakers.3_0.0\n",
      "158 Keynote speakers.3_1.0\n",
      "159 Keynote speakers.3_2.0\n",
      "160 Keynote speakers.3_3.0\n",
      "161 Keynote speakers.3_4.0\n",
      "162 Combine Keynote speakers BC BE_0.0\n",
      "163 Combine Keynote speakers BC BE_1.0\n",
      "164 Combine Keynote speakers BC BE_2.0\n",
      "165 Combine Keynote speakers BC BE_3.0\n",
      "166 Combine Keynote speakers BC BE_4.0\n",
      "167 Length of Event_1.0\n",
      "168 Length of Event_2.0\n",
      "169 Length of Event_3.0\n",
      "170 Length of Event_4.0\n",
      "171 Length of Event_5.0\n",
      "172 Location_1.0\n",
      "173 Location_2.0\n",
      "174 Location_3.0\n",
      "175 Location_4.0\n",
      "176 Location_5.0\n",
      "177 Location of the event_1.0\n",
      "178 Location of the event_2.0\n",
      "179 Location of the event_3.0\n",
      "180 Lunch and Learn_1.0\n",
      "181 Lunch and Learn_2.0\n",
      "182 Lunch and Learn_3.0\n",
      "183 Lunch and Learn_4.0\n",
      "184 Lunch and Learn_5.0\n",
      "185 Meet with current consultants_1.0\n",
      "186 Meet with current consultants_2.0\n",
      "187 Meet with current suppliers_1.0\n",
      "188 Meet with current suppliers_2.0\n",
      "189 Meet with current suppliers_3.0\n",
      "190 Meet with customers_1.0\n",
      "191 Meet with customers_2.0\n",
      "192 Meet with customers_3.0\n",
      "193 Meet with peers_1.0\n",
      "194 Meet with peers_2.0\n",
      "195 Meet with peers_3.0\n",
      "196 Meeting Hub_1.0\n",
      "197 Meeting Hub_2.0\n",
      "198 Meeting Hub_3.0\n",
      "199 Meeting Hub_4.0\n",
      "200 Meeting Hub_5.0\n",
      "201 My Show Planner_0.0\n",
      "202 My Show Planner_1.0\n",
      "203 My Show Planner_2.0\n",
      "204 My Show Planner_3.0\n",
      "205 My Show Planner_4.0\n",
      "206 My Show Planner_5.0\n",
      "207 Networking_1.0\n",
      "208 Networking_2.0\n",
      "209 Networking_3.0\n",
      "210 Networking.1_2.0\n",
      "211 Networking.2_0.0\n",
      "212 Networking.2_1.0\n",
      "213 Networking.2_2.0\n",
      "214 Networking.3_1.0\n",
      "215 Networking.3_2.0\n",
      "216 Networking.3_3.0\n",
      "217 Networking.4_1.0\n",
      "218 Networking.4_2.0\n",
      "219 Networking.4_3.0\n",
      "220 Networking.5_0.0\n",
      "221 Networking.5_1.0\n",
      "222 Networking.5_2.0\n",
      "223 Networking.5_3.0\n",
      "224 Networking.5_4.0\n",
      "225 New products/innovations_0.0\n",
      "226 New products/innovations_1.0\n",
      "227 New products/innovations_2.0\n",
      "228 New products/innovations_3.0\n",
      "229 New products/innovations_4.0\n",
      "230 New supply lines found_1.0\n",
      "231 New supply lines found_2.0\n",
      "232 New supply lines found_3.0\n",
      "233 New supply lines found_4.0\n",
      "234 New Supply Combined_0.0\n",
      "235 New Supply Combined_1.0\n",
      "236 New Supply Combined_2.0\n",
      "237 New Supply Combined_3.0\n",
      "238 New Supply Combined_4.0\n",
      "239 Number on a scale of 1-5 (1 being very good and 5 being disappointing), overall, how would you rate your trade show registration process?_0.0\n",
      "240 Number on a scale of 1-5 (1 being very good and 5 being disappointing), overall, how would you rate your trade show registration process?_1.0\n",
      "241 Number on a scale of 1-5 (1 being very good and 5 being disappointing), overall, how would you rate your trade show registration process?_2.0\n",
      "242 Number on a scale of 1-5 (1 being very good and 5 being disappointing), overall, how would you rate your trade show registration process?_3.0\n",
      "243 Number on a scale of 1-5 (1 being very good and 5 being disappointing), overall, how would you rate your trade show registration process?_4.0\n",
      "244 Number on a scale of 1-5 (1 being very good and 5 being disappointing), overall, how would you rate your trade show registration process?_5.0\n",
      "245 Odor control products_6.0\n",
      "246 Odor control products_7.0\n",
      "247 Other.2_1.0\n",
      "248 Other.2_2.0\n",
      "249 Other.2_3.0\n",
      "250 Other.3_1.0\n",
      "251 Other.3_2.0\n",
      "252 Other.3_3.0\n",
      "253 Paper products & dispensers_7.0\n",
      "254 Paper products & dispensers_8.0\n",
      "255 Please estimate how many customer meetings you personally accomplished during the show:_1.0\n",
      "256 Please estimate how many customer meetings you personally accomplished during the show:_2.0\n",
      "257 Please estimate how many customer meetings you personally accomplished during the show:_3.0\n",
      "258 Please estimate how many customer meetings you personally accomplished during the show:_4.0\n",
      "259 Please estimate how many customer meetings you personally accomplished during the show:_5.0\n",
      "260 Please estimate how many customer meetings you personally accomplished during the show:_6.0\n",
      "261 Please indicate the importance of the following: Price_1.0\n",
      "262 Please indicate the importance of the following: Price_2.0\n",
      "263 Please indicate the importance of the following: Price_3.0\n",
      "264 Please indicate the importance of the following: Price_4.0\n",
      "265 Please indicate the importance of the following: Price_5.0\n",
      "266 Please indicate your primary job function._0.0\n",
      "267 Please indicate your primary job function._1.0\n",
      "268 Please indicate your primary job function._2.0\n",
      "269 Please indicate your primary job function._3.0\n",
      "270 Please indicate your primary job function._4.0\n",
      "271 Please indicate your primary job function._5.0\n",
      "272 Please indicate your primary job function._6.0\n",
      "273 Please indicate your primary job function._7.0\n",
      "274 Please indicate your primary job function._8.0\n",
      "275 Please rank the top 5 elements of ISSA/INTERCLEAN trade show that were of most value to you. 1,2,etc. Digital Official Exhibit Directory_1.0\n",
      "276 Please rank the top 5 elements of ISSA/INTERCLEAN trade show that were of most value to you. 1,2,etc. Digital Official Exhibit Directory_2.0\n",
      "277 Please rank the top 5 elements of ISSA/INTERCLEAN trade show that were of most value to you. 1,2,etc. Digital Official Exhibit Directory_3.0\n",
      "278 Please rank the top 5 elements of ISSA/INTERCLEAN trade show that were of most value to you. 1,2,etc. Digital Official Exhibit Directory_4.0\n",
      "279 Please rank the top 5 elements of ISSA/INTERCLEAN trade show that were of most value to you. 1,2,etc. Digital Official Exhibit Directory_5.0\n",
      "280 Please rank the top 5 elements of the ISSA Convention that you found valuable 1,2 etc.). DISRUPT AND INNOVATE_1.0\n",
      "281 Please rank the top 5 elements of the ISSA Convention that you found valuable 1,2 etc.). DISRUPT AND INNOVATE_2.0\n",
      "282 Please rank the top 5 elements of the ISSA Convention that you found valuable 1,2 etc.). DISRUPT AND INNOVATE_3.0\n",
      "283 Please rank the top 5 elements of the ISSA Convention that you found valuable 1,2 etc.). DISRUPT AND INNOVATE_4.0\n",
      "284 Please rank the top 5 elements of the ISSA Convention that you found valuable 1,2 etc.). DISRUPT AND INNOVATE_5.0\n",
      "285 Please rank your top three reasons for attending ISSA/INTERCLEAN 1,2 etc. ARCSI Evening Receptions_1.0\n",
      "286 Please rank your top three reasons for attending ISSA/INTERCLEAN 1,2 etc. ARCSI Evening Receptions_3.0\n",
      "287 Please rank your top three reasons for attending ISSA/INTERCLEAN 1,2 etc. Educational Sessions_1.0\n",
      "288 Please rank your top three reasons for attending ISSA/INTERCLEAN 1,2 etc. Educational Sessions_2.0\n",
      "289 Please rank your top three reasons for attending ISSA/INTERCLEAN 1,2 etc. Educational Sessions_3.0\n",
      "290 Pressure washing equipment & accessories_8.0\n",
      "291 Pressure washing equipment & accessories_9.0\n",
      "292 Quality of exhibitors_0.0\n",
      "293 Quality of exhibitors_1.0\n",
      "294 Quality of exhibitors_2.0\n",
      "295 Quality of exhibitors_3.0\n",
      "296 Quality of exhibitors_4.0\n",
      "297 Residential Cleaning Connection Track_1.0\n",
      "298 Residential Cleaning Connection Track_2.0\n",
      "299 Residential Cleaning Connection Track_3.0\n",
      "300 Residential Cleaning Connection Track_4.0\n",
      "301 Residential Cleaning Connection Track_5.0\n",
      "302 Restroom care & service_9.0\n",
      "303 Restroom care & service_10.0\n",
      "304 See new products/innovations_1.0\n",
      "305 See new products/innovations_2.0\n",
      "306 See new products/innovations_3.0\n",
      "307 Services/technology_10.0\n",
      "308 Services/technology_11.0\n",
      "309 Show Mobile App_1.0\n",
      "310 Show Mobile App_2.0\n",
      "311 Show Mobile App_3.0\n",
      "312 Show Mobile App_4.0\n",
      "313 Show Mobile App_5.0\n",
      "314 Show Mobile App.1_0.0\n",
      "315 Show Mobile App.1_1.0\n",
      "316 Show Mobile App.1_2.0\n",
      "317 Show Mobile App.1_3.0\n",
      "318 Show Mobile App.1_4.0\n",
      "319 Show Mobile App.2_3.0\n",
      "320 Show Mobile App.2_5.0\n",
      "321 Show Mobile App.3_0.0\n",
      "322 Show Mobile App.3_1.0\n",
      "323 Show Mobile App.4_1.0\n",
      "324 Show Mobile App.4_2.0\n",
      "325 Show Mobile App.4_3.0\n",
      "326 Show Mobile App.4_4.0\n",
      "327 Show Mobile App.4_5.0\n",
      "328 Show Mobile App.5_1.0\n",
      "329 Show Mobile App.5_2.0\n",
      "330 Show Mobile App.5_3.0\n",
      "331 Show Mobile App.5_4.0\n",
      "332 Show Mobile App.5_5.0\n",
      "333 Show Mobile App.6_1.0\n",
      "334 Show Mobile App.6_2.0\n",
      "335 Show Mobile App.6_3.0\n",
      "336 Show Mobile App.6_4.0\n",
      "337 Show Mobile App.6_5.0\n",
      "338 Skin care & personal hygiene_12.0\n",
      "339 Storage & material handling_11.0\n",
      "340 Storage & material handling_13.0\n",
      "341 Supervisor signed me up_1.0\n",
      "342 Supervisor signed me up_2.0\n",
      "343 Supervisor signed me up_3.0\n",
      "344 This year, ISSA/ARCSI provided tools to help attendees plan for the show with ease. Please rate each tool's usefulness. Website_0.0\n",
      "345 This year, ISSA/ARCSI provided tools to help attendees plan for the show with ease. Please rate each tool's usefulness. Website_1.0\n",
      "346 This year, ISSA/ARCSI provided tools to help attendees plan for the show with ease. Please rate each tool's usefulness. Website_2.0\n",
      "347 This year, ISSA/ARCSI provided tools to help attendees plan for the show with ease. Please rate each tool's usefulness. Website_3.0\n",
      "348 This year, ISSA/ARCSI provided tools to help attendees plan for the show with ease. Please rate each tool's usefulness. Website_4.0\n",
      "349 This year, ISSA/ARCSI provided tools to help attendees plan for the show with ease. Please rate each tool's usefulness. Website_5.0\n",
      "350 Thursday seminars/panels_1.0\n",
      "351 Thursday seminars/panels_2.0\n",
      "352 Thursday seminars/panels_3.0\n",
      "353 Thursday seminars/panels_4.0\n",
      "354 Thursday seminars/panels_5.0\n",
      "355 Time of year_1.0\n",
      "356 Time of year_2.0\n",
      "357 Time of year_3.0\n",
      "358 Time of year_4.0\n",
      "359 Time of year_5.0\n",
      "360 Value of attending_0.0\n",
      "361 Value of attending_1.0\n",
      "362 Value of attending_2.0\n",
      "363 Value of attending_3.0\n",
      "364 Value of attending_4.0\n",
      "365 Value of attending last day of show_0.0\n",
      "366 Value of attending last day of show_1.0\n",
      "367 Value of attending last day of show_2.0\n",
      "368 Value of attending last day of show_3.0\n",
      "369 Value of attending last day of show_4.0\n",
      "370 Was this your first time attending ISSA/INTERCLEAN?_1.0\n",
      "371 Was this your first time attending ISSA/INTERCLEAN?_2.0\n",
      "372 Waste containment & disposal_12.0\n",
      "373 Waste containment & disposal_14.0\n",
      "374 Welcome Networking Reception_1.0\n",
      "375 Welcome Networking Reception_2.0\n",
      "376 Welcome Networking Reception_3.0\n",
      "377 Welcome Networking Reception_4.0\n",
      "378 Welcome Networking Reception_5.0\n",
      "379 What is your annual budget to purchase cleaning supplies, equipment, and other cleaning materials? _1.0\n",
      "380 What is your annual budget to purchase cleaning supplies, equipment, and other cleaning materials? _2.0\n",
      "381 What is your annual budget to purchase cleaning supplies, equipment, and other cleaning materials? _3.0\n",
      "382 What is your annual budget to purchase cleaning supplies, equipment, and other cleaning materials? _4.0\n",
      "383 What is your annual budget to purchase cleaning supplies, equipment, and other cleaning materials? _5.0\n",
      "384 What is your company's annual sales volume? _1.0\n",
      "385 What is your company's annual sales volume? _2.0\n",
      "386 What is your company's annual sales volume? _3.0\n",
      "387 What is your company's annual sales volume? _4.0\n",
      "388 What is your company's annual sales volume? _5.0\n",
      "389 What is your company's annual sales volume? _6.0\n",
      "390 What product categories are you interested in? Cleaning agents_1.0\n",
      "391 Please select the classification that best represents your company type.0_1\n"
     ]
    }
   ],
   "source": [
    "for a in range(0, len(data_X.columns)):\n",
    "    print a, data_X.columns[a]"
   ]
  },
  {
   "cell_type": "code",
   "execution_count": 55,
   "metadata": {},
   "outputs": [],
   "source": [
    "corr = data_a.select_dtypes(include = ['int64', 'float64']).iloc[:, 1:].corr()"
   ]
  },
  {
   "cell_type": "code",
   "execution_count": 56,
   "metadata": {
    "collapsed": true
   },
   "outputs": [],
   "source": [
    "corr = corr.dropna(axis=0,how='all')\n",
    "corr = corr.dropna(axis=1,how='all')\n"
   ]
  },
  {
   "cell_type": "code",
   "execution_count": null,
   "metadata": {},
   "outputs": [],
   "source": [
    "mask = np.zeros_like(corr)\n",
    "mask[np.triu_indices_from(mask)] = True\n",
    "plt.figure(figsize=(150, 150))\n",
    "with sns.axes_style(\"white\"):\n",
    "    ax = sns.heatmap(corr, mask=mask, vmin = -1, vmax=1, square=True)"
   ]
  },
  {
   "cell_type": "code",
   "execution_count": null,
   "metadata": {},
   "outputs": [],
   "source": [
    "#data_a = data_a[np.isfinite(data_a['Please select the classification that best represents your company type._1.0'])] #drop rows that dont have company planning to attend"
   ]
  },
  {
   "cell_type": "code",
   "execution_count": null,
   "metadata": {},
   "outputs": [],
   "source": [
    "for a in range(0, len(data_a.columns)):\n",
    "    print a, data_a.columns[a]"
   ]
  },
  {
   "cell_type": "code",
   "execution_count": null,
   "metadata": {},
   "outputs": [],
   "source": [
    "data_X.shape"
   ]
  },
  {
   "cell_type": "code",
   "execution_count": null,
   "metadata": {},
   "outputs": [],
   "source": [
    "data_Y"
   ]
  },
  {
   "cell_type": "code",
   "execution_count": null,
   "metadata": {
    "scrolled": false
   },
   "outputs": [],
   "source": [
    "for a in range(0, len(data_a.columns)):\n",
    "    print a, data_a.columns[a]"
   ]
  },
  {
   "cell_type": "code",
   "execution_count": null,
   "metadata": {
    "collapsed": true
   },
   "outputs": [],
   "source": []
  },
  {
   "cell_type": "code",
   "execution_count": 57,
   "metadata": {
    "collapsed": true
   },
   "outputs": [],
   "source": [
    "data_X = data_X.astype(float)"
   ]
  },
  {
   "cell_type": "code",
   "execution_count": 58,
   "metadata": {},
   "outputs": [],
   "source": [
    "data_Y = data_Y.astype(float)"
   ]
  },
  {
   "cell_type": "code",
   "execution_count": null,
   "metadata": {},
   "outputs": [],
   "source": [
    "mask = np.zeros_like(borr)\n",
    "mask[np.triu_indices_from(mask)] = True\n",
    "plt.figure(figsize=(150, 150))\n",
    "with sns.axes_style(\"white\"):\n",
    "    ax = sns.heatmap(borr, mask=mask, vmin = -1, vmax=1, square=True, cbar = False)"
   ]
  },
  {
   "cell_type": "code",
   "execution_count": null,
   "metadata": {
    "collapsed": true
   },
   "outputs": [],
   "source": []
  },
  {
   "cell_type": "code",
   "execution_count": null,
   "metadata": {
    "collapsed": true
   },
   "outputs": [],
   "source": [
    "scaler = Normalizer().fit(data_X)   # always want to save the value you returned\n",
    "normalizedX = scaler.transform(data_X)\n",
    "data_X = normalizedX\n"
   ]
  },
  {
   "cell_type": "code",
   "execution_count": null,
   "metadata": {
    "collapsed": true
   },
   "outputs": [],
   "source": [
    "#data_X = data_X.fillna(-1)"
   ]
  },
  {
   "cell_type": "code",
   "execution_count": null,
   "metadata": {
    "collapsed": true
   },
   "outputs": [],
   "source": [
    "#scikit-learn indeed strips the column headers in most cases, so just add them back on afterward. \n",
    "#In your example, with X_imputed as the sklearn.preprocessing output and X_train as the original dataframe, \n",
    "#you can put the column headers back on with:\n",
    "\n",
    "#X_imputed_df = pd.DataFrame(X_imputed, columns = X_train.columns)"
   ]
  },
  {
   "cell_type": "code",
   "execution_count": 66,
   "metadata": {},
   "outputs": [],
   "source": [
    "X = data_X\n",
    "y = data_Y.values.ravel()"
   ]
  },
  {
   "cell_type": "code",
   "execution_count": 67,
   "metadata": {},
   "outputs": [
    {
     "data": {
      "text/html": [
       "<div>\n",
       "<style>\n",
       "    .dataframe thead tr:only-child th {\n",
       "        text-align: right;\n",
       "    }\n",
       "\n",
       "    .dataframe thead th {\n",
       "        text-align: left;\n",
       "    }\n",
       "\n",
       "    .dataframe tbody tr th {\n",
       "        vertical-align: top;\n",
       "    }\n",
       "</style>\n",
       "<table border=\"1\" class=\"dataframe\">\n",
       "  <thead>\n",
       "    <tr style=\"text-align: right;\">\n",
       "      <th></th>\n",
       "      <th>sum_happy</th>\n",
       "    </tr>\n",
       "  </thead>\n",
       "  <tbody>\n",
       "    <tr>\n",
       "      <th>5</th>\n",
       "      <td>1.0</td>\n",
       "    </tr>\n",
       "    <tr>\n",
       "      <th>11</th>\n",
       "      <td>2.0</td>\n",
       "    </tr>\n",
       "    <tr>\n",
       "      <th>13</th>\n",
       "      <td>1.0</td>\n",
       "    </tr>\n",
       "    <tr>\n",
       "      <th>25</th>\n",
       "      <td>1.0</td>\n",
       "    </tr>\n",
       "    <tr>\n",
       "      <th>37</th>\n",
       "      <td>1.0</td>\n",
       "    </tr>\n",
       "    <tr>\n",
       "      <th>39</th>\n",
       "      <td>1.0</td>\n",
       "    </tr>\n",
       "    <tr>\n",
       "      <th>40</th>\n",
       "      <td>1.0</td>\n",
       "    </tr>\n",
       "    <tr>\n",
       "      <th>41</th>\n",
       "      <td>1.0</td>\n",
       "    </tr>\n",
       "    <tr>\n",
       "      <th>50</th>\n",
       "      <td>1.0</td>\n",
       "    </tr>\n",
       "    <tr>\n",
       "      <th>52</th>\n",
       "      <td>1.0</td>\n",
       "    </tr>\n",
       "    <tr>\n",
       "      <th>53</th>\n",
       "      <td>1.0</td>\n",
       "    </tr>\n",
       "    <tr>\n",
       "      <th>65</th>\n",
       "      <td>3.0</td>\n",
       "    </tr>\n",
       "    <tr>\n",
       "      <th>68</th>\n",
       "      <td>2.0</td>\n",
       "    </tr>\n",
       "    <tr>\n",
       "      <th>74</th>\n",
       "      <td>1.0</td>\n",
       "    </tr>\n",
       "    <tr>\n",
       "      <th>87</th>\n",
       "      <td>1.0</td>\n",
       "    </tr>\n",
       "    <tr>\n",
       "      <th>97</th>\n",
       "      <td>1.0</td>\n",
       "    </tr>\n",
       "    <tr>\n",
       "      <th>100</th>\n",
       "      <td>1.0</td>\n",
       "    </tr>\n",
       "    <tr>\n",
       "      <th>105</th>\n",
       "      <td>1.0</td>\n",
       "    </tr>\n",
       "    <tr>\n",
       "      <th>107</th>\n",
       "      <td>1.0</td>\n",
       "    </tr>\n",
       "    <tr>\n",
       "      <th>125</th>\n",
       "      <td>2.0</td>\n",
       "    </tr>\n",
       "    <tr>\n",
       "      <th>129</th>\n",
       "      <td>1.0</td>\n",
       "    </tr>\n",
       "    <tr>\n",
       "      <th>156</th>\n",
       "      <td>3.0</td>\n",
       "    </tr>\n",
       "    <tr>\n",
       "      <th>160</th>\n",
       "      <td>1.0</td>\n",
       "    </tr>\n",
       "    <tr>\n",
       "      <th>169</th>\n",
       "      <td>1.0</td>\n",
       "    </tr>\n",
       "    <tr>\n",
       "      <th>172</th>\n",
       "      <td>3.0</td>\n",
       "    </tr>\n",
       "    <tr>\n",
       "      <th>183</th>\n",
       "      <td>3.0</td>\n",
       "    </tr>\n",
       "    <tr>\n",
       "      <th>188</th>\n",
       "      <td>1.0</td>\n",
       "    </tr>\n",
       "    <tr>\n",
       "      <th>199</th>\n",
       "      <td>1.0</td>\n",
       "    </tr>\n",
       "    <tr>\n",
       "      <th>209</th>\n",
       "      <td>1.0</td>\n",
       "    </tr>\n",
       "    <tr>\n",
       "      <th>213</th>\n",
       "      <td>1.0</td>\n",
       "    </tr>\n",
       "    <tr>\n",
       "      <th>...</th>\n",
       "      <td>...</td>\n",
       "    </tr>\n",
       "    <tr>\n",
       "      <th>507</th>\n",
       "      <td>1.0</td>\n",
       "    </tr>\n",
       "    <tr>\n",
       "      <th>512</th>\n",
       "      <td>1.0</td>\n",
       "    </tr>\n",
       "    <tr>\n",
       "      <th>523</th>\n",
       "      <td>1.0</td>\n",
       "    </tr>\n",
       "    <tr>\n",
       "      <th>536</th>\n",
       "      <td>2.0</td>\n",
       "    </tr>\n",
       "    <tr>\n",
       "      <th>547</th>\n",
       "      <td>1.0</td>\n",
       "    </tr>\n",
       "    <tr>\n",
       "      <th>551</th>\n",
       "      <td>1.0</td>\n",
       "    </tr>\n",
       "    <tr>\n",
       "      <th>564</th>\n",
       "      <td>1.0</td>\n",
       "    </tr>\n",
       "    <tr>\n",
       "      <th>573</th>\n",
       "      <td>1.0</td>\n",
       "    </tr>\n",
       "    <tr>\n",
       "      <th>576</th>\n",
       "      <td>3.0</td>\n",
       "    </tr>\n",
       "    <tr>\n",
       "      <th>584</th>\n",
       "      <td>1.0</td>\n",
       "    </tr>\n",
       "    <tr>\n",
       "      <th>589</th>\n",
       "      <td>3.0</td>\n",
       "    </tr>\n",
       "    <tr>\n",
       "      <th>593</th>\n",
       "      <td>2.0</td>\n",
       "    </tr>\n",
       "    <tr>\n",
       "      <th>611</th>\n",
       "      <td>1.0</td>\n",
       "    </tr>\n",
       "    <tr>\n",
       "      <th>625</th>\n",
       "      <td>2.0</td>\n",
       "    </tr>\n",
       "    <tr>\n",
       "      <th>630</th>\n",
       "      <td>1.0</td>\n",
       "    </tr>\n",
       "    <tr>\n",
       "      <th>632</th>\n",
       "      <td>1.0</td>\n",
       "    </tr>\n",
       "    <tr>\n",
       "      <th>637</th>\n",
       "      <td>2.0</td>\n",
       "    </tr>\n",
       "    <tr>\n",
       "      <th>647</th>\n",
       "      <td>1.0</td>\n",
       "    </tr>\n",
       "    <tr>\n",
       "      <th>656</th>\n",
       "      <td>1.0</td>\n",
       "    </tr>\n",
       "    <tr>\n",
       "      <th>659</th>\n",
       "      <td>1.0</td>\n",
       "    </tr>\n",
       "    <tr>\n",
       "      <th>662</th>\n",
       "      <td>1.0</td>\n",
       "    </tr>\n",
       "    <tr>\n",
       "      <th>688</th>\n",
       "      <td>2.0</td>\n",
       "    </tr>\n",
       "    <tr>\n",
       "      <th>705</th>\n",
       "      <td>1.0</td>\n",
       "    </tr>\n",
       "    <tr>\n",
       "      <th>723</th>\n",
       "      <td>1.0</td>\n",
       "    </tr>\n",
       "    <tr>\n",
       "      <th>730</th>\n",
       "      <td>3.0</td>\n",
       "    </tr>\n",
       "    <tr>\n",
       "      <th>731</th>\n",
       "      <td>3.0</td>\n",
       "    </tr>\n",
       "    <tr>\n",
       "      <th>740</th>\n",
       "      <td>3.0</td>\n",
       "    </tr>\n",
       "    <tr>\n",
       "      <th>748</th>\n",
       "      <td>3.0</td>\n",
       "    </tr>\n",
       "    <tr>\n",
       "      <th>749</th>\n",
       "      <td>1.0</td>\n",
       "    </tr>\n",
       "    <tr>\n",
       "      <th>752</th>\n",
       "      <td>1.0</td>\n",
       "    </tr>\n",
       "  </tbody>\n",
       "</table>\n",
       "<p>100 rows × 1 columns</p>\n",
       "</div>"
      ],
      "text/plain": [
       "     sum_happy\n",
       "5          1.0\n",
       "11         2.0\n",
       "13         1.0\n",
       "25         1.0\n",
       "37         1.0\n",
       "39         1.0\n",
       "40         1.0\n",
       "41         1.0\n",
       "50         1.0\n",
       "52         1.0\n",
       "53         1.0\n",
       "65         3.0\n",
       "68         2.0\n",
       "74         1.0\n",
       "87         1.0\n",
       "97         1.0\n",
       "100        1.0\n",
       "105        1.0\n",
       "107        1.0\n",
       "125        2.0\n",
       "129        1.0\n",
       "156        3.0\n",
       "160        1.0\n",
       "169        1.0\n",
       "172        3.0\n",
       "183        3.0\n",
       "188        1.0\n",
       "199        1.0\n",
       "209        1.0\n",
       "213        1.0\n",
       "..         ...\n",
       "507        1.0\n",
       "512        1.0\n",
       "523        1.0\n",
       "536        2.0\n",
       "547        1.0\n",
       "551        1.0\n",
       "564        1.0\n",
       "573        1.0\n",
       "576        3.0\n",
       "584        1.0\n",
       "589        3.0\n",
       "593        2.0\n",
       "611        1.0\n",
       "625        2.0\n",
       "630        1.0\n",
       "632        1.0\n",
       "637        2.0\n",
       "647        1.0\n",
       "656        1.0\n",
       "659        1.0\n",
       "662        1.0\n",
       "688        2.0\n",
       "705        1.0\n",
       "723        1.0\n",
       "730        3.0\n",
       "731        3.0\n",
       "740        3.0\n",
       "748        3.0\n",
       "749        1.0\n",
       "752        1.0\n",
       "\n",
       "[100 rows x 1 columns]"
      ]
     },
     "execution_count": 67,
     "metadata": {},
     "output_type": "execute_result"
    }
   ],
   "source": [
    "data_Y"
   ]
  },
  {
   "cell_type": "code",
   "execution_count": 68,
   "metadata": {
    "collapsed": true
   },
   "outputs": [],
   "source": [
    "\n",
    "num_folds = 10\n",
    "num_instances = len(X) \n",
    "seed = 7\n",
    "scoring = None\n",
    "\n"
   ]
  },
  {
   "cell_type": "code",
   "execution_count": 69,
   "metadata": {},
   "outputs": [
    {
     "name": "stdout",
     "output_type": "stream",
     "text": [
      "LR: 0.680000 (0.160000)\n",
      "NB: 0.300000 (0.100000)\n",
      "CART: 0.590000 (0.122066)\n",
      "KNeighborsClassifier: 0.640000 (0.128062)\n",
      "XGBClassifier: 0.680000 (0.166132)\n",
      "GradientBoostingClassifier: 0.690000 (0.137477)\n",
      "AdaBoostClassifier: 0.650000 (0.102470)\n",
      "RandomForestClassifier: 0.660000 (0.162481)\n",
      "ExtraTreesClassifier: 0.630000 (0.118743)\n",
      "DecisionTreeClassifier: 0.590000 (0.122066)\n"
     ]
    }
   ],
   "source": [
    "models=[]\n",
    "models.append(('LR', LogisticRegression(random_state = seed)))\n",
    "#models.append(('LASSO', Lasso())) \n",
    "#models.append(('Ridge', Ridge())) \n",
    "#models.append(('LDA', LinearDiscriminantAnalysis()))\n",
    "models.append(('NB', GaussianNB()))\n",
    "models.append(('CART', DecisionTreeClassifier(random_state = seed))) \n",
    "models.append(('KNeighborsClassifier', KNeighborsClassifier())) \n",
    "models.append(('XGBClassifier', xgb.XGBClassifier()))\n",
    "models.append(('GradientBoostingClassifier', GradientBoostingClassifier(random_state = seed)))\n",
    "models.append(('AdaBoostClassifier', AdaBoostClassifier(random_state = seed)))\n",
    "models.append(('RandomForestClassifier', RandomForestClassifier(random_state = seed)))\n",
    "models.append(('ExtraTreesClassifier', ExtraTreesClassifier(random_state = seed)))\n",
    "models.append(('DecisionTreeClassifier', DecisionTreeClassifier(random_state = seed)))\n",
    "\n",
    "#models.append(('SVC', SVC(kernel = 'linear', random_state = seed)))\n",
    "#models.append(('LinearSVR', LinearSVR(random_state = seed)))\n",
    "for name, model in models:\n",
    "    kfold = model_selection.KFold(shuffle = True, n_splits=num_folds, random_state=seed)\n",
    "    cv_results = model_selection.cross_val_score(model, X, y, cv=kfold, scoring= scoring)\n",
    "    msg = \"%s: %f (%f)\" % (name, cv_results.mean(), cv_results.std())\n",
    "    print(msg)"
   ]
  },
  {
   "cell_type": "code",
   "execution_count": 72,
   "metadata": {},
   "outputs": [
    {
     "name": "stdout",
     "output_type": "stream",
     "text": [
      "Num of feature: 366\n",
      "Feature Ranking: [ 1  1  1  1  1  1  1  1  1  1  1  1  1  1  1  1  1  1  1  1  1  1  1  1  1\n",
      "  1  1  1  1  1  1  1  1  1  1  1  1  1  1  1  1  1  1  1  1  1  1  1  1  1\n",
      "  1  1  1  1  1  1  1  1  1  1  1  1  1  1  1  1  1  1  1  1  1  1  1  1  1\n",
      "  1  1  1  1  1  1  1  1  1  1  1  1  1  1  1  1  1  1  1  1  1  1  1  1  1\n",
      "  1  1  1  1  1  1  1  1  1  1  1  1  1 13  1  1  1  1  1  1  1  1  1 14  1\n",
      "  1  1  1  1  1  1  1  1  1  1  1  1  1  1  1  1  1  1  1  1  1  1  1  1  1\n",
      "  1  1  1  1  1  1  1  1  1  1  1 10  1  1  1  1  7  1  1  1  1  3  1  1 21\n",
      "  8 15  1  1  1 23  1  1  1  1  1  1  1  1  1  1  1 17  1 24 27 26 22 20 12\n",
      "  6  1  1  1  1  1  1  1  1  1  1  1  1  1  1  1  1  1  1  1  1  1  1  1  1\n",
      "  1  1  1  1  1  1  1  1  1  1  1  1  1  1  1  1  1  1  1  1  1  1  1  1  1\n",
      "  1  1  1  1  1  1  1  1  1  1  1  1  1  1  1  1  1  1  1  1  1  1  1  1  1\n",
      "  1  1  1  1  1  1  1  1  1  1  1  1  1  1  1  1  1  1  1  1  1  1  1  1  1\n",
      "  1  1  1  1  1  1  1  1  1  1  1  1  1  1  1  1  1  1  1  1  1  1  1  1  1\n",
      "  1  1  1  1  1  1  1  1  1  1  1  1  1  1  1  1  1  1  1  1  1  1  1  1  4\n",
      "  1  1  1  1 16  1  1  1  1  5  2  1  1  1  1  1  1  1  1  1  1  1  1  1  1\n",
      "  9 11 19  1 18  1  1  1  1  1  1  1  1  1  1  1 25]\n"
     ]
    }
   ],
   "source": [
    "estimator = GradientBoostingClassifier(random_state = seed)\n",
    "rfe = RFECV(estimator,cv = kfold)\n",
    "fit = rfe.fit(X,y)\n",
    "print(\"Num of feature: %d\") % fit.n_features_\n",
    "#print(\"Selected features: %s\") % fit.support_\n",
    "print(\"Feature Ranking: %s\") % fit.ranking_\n"
   ]
  },
  {
   "cell_type": "code",
   "execution_count": 73,
   "metadata": {
    "scrolled": true
   },
   "outputs": [
    {
     "name": "stdout",
     "output_type": "stream",
     "text": [
      "0 Booth visits to a new exhibitor or supplier:\n",
      "1 Please estimate how many of the following activities you personally accomplished during the show: Supplier Meeting\n",
      "2 Respondent ID\n",
      "3 total visits to your booth\n",
      "4 What year were you born?\n",
      "5 ARCSI Rountables_0.0\n",
      "6 ARCSI Rountables_1.0\n",
      "7 ARCSI Rountables_2.0\n",
      "8 ARCSI Rountables_3.0\n",
      "9 ARCSI Rountables_4.0\n",
      "10 Are you a member of a distributor marketing group? If yes, please list which one in the comments box._1.0\n",
      "11 Are you a member of a distributor marketing group? If yes, please list which one in the comments box._2.0\n",
      "12 ARSCI Roundtables_1.0\n",
      "13 ARSCI Roundtables_2.0\n",
      "14 ARSCI Roundtables_3.0\n",
      "15 Cleaning tools & supplies_2.0\n",
      "16 Co-located events by other associations_1.0\n",
      "17 Co-located events by other associations_2.0\n",
      "18 Co-located events by other associations_3.0\n",
      "19 Co-located events by other associations_4.0\n",
      "20 Co-located events by other associations_5.0\n",
      "21 Commercial Cleaning Business Solutions Track_1.0\n",
      "22 Commercial Cleaning Business Solutions Track_2.0\n",
      "23 Commercial Cleaning Business Solutions Track_3.0\n",
      "24 Commercial Cleaning Business Solutions Track_4.0\n",
      "25 Commercial Cleaning Business Solutions Track_5.0\n",
      "26 Customers met with_0.0\n",
      "27 Customers met with_1.0\n",
      "28 Customers met with_2.0\n",
      "29 Customers met with_3.0\n",
      "30 Customers met with_4.0\n",
      "31 Did the increased programming on Thursday influence your decision to visit the exhibit hall on Thursday?_1.0\n",
      "32 Did the increased programming on Thursday influence your decision to visit the exhibit hall on Thursday?_2.0\n",
      "33 Did you accomplish all you had planned during the trade show? _1.0\n",
      "34 Did you accomplish all you had planned during the trade show? _2.0\n",
      "35 Did you attend any educational sessions offered through ISSA Convention?_1.0\n",
      "36 Did you attend any educational sessions offered through ISSA Convention?_2.0\n",
      "37 Education session topics_1.0\n",
      "38 Education session topics_2.0\n",
      "39 Education session topics_3.0\n",
      "40 Education session topics_4.0\n",
      "41 Education session topics_5.0\n",
      "42 Educational sessions_1.0\n",
      "43 Educational sessions_2.0\n",
      "44 Educational sessions_3.0\n",
      "45 Educational/Professional Development_1.0\n",
      "46 Educational/Professional Development_2.0\n",
      "47 Educational/Professional Development_3.0\n",
      "48 Educational/Professional Development_4.0\n",
      "49 Educational/Professional Development_5.0\n",
      "50 Equipment & accessories_3.0\n",
      "51 Evening Roundtable event_1.0\n",
      "52 Evening Roundtable event_2.0\n",
      "53 Evening Roundtable event_3.0\n",
      "54 Evening Roundtable event_4.0\n",
      "55 Evening Roundtable event_5.0\n",
      "56 Facility maintenance & safety supply_4.0\n",
      "57 Find new ideas to solve problems_1.0\n",
      "58 Find new ideas to solve problems_2.0\n",
      "59 Find new ideas to solve problems_3.0\n",
      "60 Find new suppliers_1.0\n",
      "61 Find new suppliers_2.0\n",
      "62 Find new suppliers_3.0\n",
      "63 First-Time Attendee Orientation_0.0\n",
      "64 First-Time Attendee Orientation_1.0\n",
      "65 First-Time Attendee Orientation_2.0\n",
      "66 First-Time Attendee Orientation_3.0\n",
      "67 First-Time Attendee Orientation_4.0\n",
      "68 Floor carpet care_5.0\n",
      "69 Foodservice disposables & equipment_6.0\n",
      "70 Free WiFi hot spots_1.0\n",
      "71 Free WiFi hot spots_2.0\n",
      "72 Free WiFi hot spots_3.0\n",
      "73 Free WiFi hot spots_4.0\n",
      "74 Free WiFi hot spots_5.0\n",
      "75 Green Clean Schools Track_1.0\n",
      "76 Green Clean Schools Track_2.0\n",
      "77 Green Clean Schools Track_3.0\n",
      "78 Green Clean Schools Track_4.0\n",
      "79 Green Clean Schools Track_5.0\n",
      "80 Healthcare Environment Essentials Track_1.0\n",
      "81 Healthcare Environment Essentials Track_2.0\n",
      "82 Healthcare Environment Essentials Track_3.0\n",
      "83 Healthcare Environment Essentials Track_4.0\n",
      "84 Healthcare Environment Essentials Track_5.0\n",
      "85 Hotel/Host city_1.0\n",
      "86 Hotel/Host city_2.0\n",
      "87 Hotel/Host city_3.0\n",
      "88 Hotel/Host city_4.0\n",
      "89 Hotel/Host city_5.0\n",
      "90 How did you hear about ISSA/INTERCLEAN North America?_0.0\n",
      "91 How did you hear about ISSA/INTERCLEAN North America?_1.0\n",
      "92 How did you hear about ISSA/INTERCLEAN North America?_2.0\n",
      "93 How did you hear about ISSA/INTERCLEAN North America?_3.0\n",
      "94 How did you hear about ISSA/INTERCLEAN North America?_4.0\n",
      "95 How did you hear about ISSA/INTERCLEAN North America?_5.0\n",
      "96 How did you hear about ISSA/INTERCLEAN North America?_6.0\n",
      "97 How did you hear about ISSA/INTERCLEAN North America?_7.0\n",
      "98 How did you hear about ISSA/INTERCLEAN North America?_8.0\n",
      "99 How did you hear about ISSA/INTERCLEAN North America?_9.0\n",
      "100 How did you hear about ISSA/INTERCLEAN North America?_10.0\n",
      "101 How would you rate ISSA/INTERCLEAN's performance in the following areas? Educational Sessions_0.0\n",
      "102 How would you rate ISSA/INTERCLEAN's performance in the following areas? Educational Sessions_1.0\n",
      "103 How would you rate ISSA/INTERCLEAN's performance in the following areas? Educational Sessions_2.0\n",
      "104 How would you rate ISSA/INTERCLEAN's performance in the following areas? Educational Sessions_3.0\n",
      "105 How would you rate ISSA/INTERCLEAN's performance in the following areas? Educational Sessions_4.0\n",
      "106 If you are a first-time attendee, do you think the First-Time Attendee Orientation prepared you for the full schedule of the show? _1.0\n",
      "107 If you are a first-time attendee, do you think the First-Time Attendee Orientation prepared you for the full schedule of the show? _2.0\n",
      "108 In your organization do you have the final decision on whether you will attend ISSA/INTERCLEAN_1.0\n",
      "109 In your organization do you have the final decision on whether you will attend ISSA/INTERCLEAN_2.0\n",
      "110 ISSA Innovation Showcase_1.0\n",
      "111 ISSA Innovation Showcase_2.0\n",
      "112 ISSA Innovation Showcase_3.0\n",
      "114 ISSA Innovation Showcase_5.0\n",
      "115 ISSA/INTERCLEAN Bistro_1.0\n",
      "116 ISSA/INTERCLEAN Bistro_2.0\n",
      "117 ISSA/INTERCLEAN Bistro_3.0\n",
      "118 ISSA/INTERCLEAN Bistro_4.0\n",
      "119 ISSA/INTERCLEAN Bistro_5.0\n",
      "120 Keep up to date with industry trends_1.0\n",
      "121 Keep up to date with industry trends_2.0\n",
      "122 Keep up to date with industry trends_3.0\n",
      "124 Keynote Speakers_2.0\n",
      "125 Keynote Speakers_3.0\n",
      "126 Keynote Speakers_4.0\n",
      "127 Keynote Speakers_5.0\n",
      "128 Keynote Speakers.1_1.0\n",
      "129 Keynote Speakers.1_2.0\n",
      "130 Keynote Speakers.1_3.0\n",
      "131 Keynote Speakers.1_4.0\n",
      "132 Keynote Speakers.1_5.0\n",
      "133 Keynote speakers_0.0\n",
      "134 Keynote speakers_1.0\n",
      "135 Keynote speakers_2.0\n",
      "136 Keynote speakers_3.0\n",
      "137 Keynote speakers_4.0\n",
      "138 Keynote Speakers.2_3.0\n",
      "139 Keynote Speakers.2_4.0\n",
      "140 Keynote speakers.1_0.0\n",
      "141 Keynote speakers.1_1.0\n",
      "142 Keynote Speakers.3_1.0\n",
      "143 Keynote Speakers.3_2.0\n",
      "144 Keynote Speakers.3_3.0\n",
      "145 Keynote Speakers.3_4.0\n",
      "146 Keynote Speakers.3_5.0\n",
      "147 Keynote speakers.2_0.0\n",
      "148 Keynote speakers.2_1.0\n",
      "149 Keynote speakers.2_2.0\n",
      "150 Keynote speakers.2_3.0\n",
      "151 Keynote speakers.2_4.0\n",
      "152 Keynote Speakers.4_1.0\n",
      "153 Keynote Speakers.4_2.0\n",
      "154 Keynote Speakers.4_3.0\n",
      "155 Keynote Speakers.4_4.0\n",
      "156 Keynote Speakers.4_5.0\n",
      "157 Keynote speakers.3_0.0\n",
      "158 Keynote speakers.3_1.0\n",
      "159 Keynote speakers.3_2.0\n",
      "160 Keynote speakers.3_3.0\n",
      "162 Combine Keynote speakers BC BE_0.0\n",
      "163 Combine Keynote speakers BC BE_1.0\n",
      "164 Combine Keynote speakers BC BE_2.0\n",
      "165 Combine Keynote speakers BC BE_3.0\n",
      "167 Length of Event_1.0\n",
      "168 Length of Event_2.0\n",
      "169 Length of Event_3.0\n",
      "170 Length of Event_4.0\n",
      "172 Location_1.0\n",
      "173 Location_2.0\n",
      "177 Location of the event_1.0\n",
      "178 Location of the event_2.0\n",
      "179 Location of the event_3.0\n",
      "181 Lunch and Learn_2.0\n",
      "182 Lunch and Learn_3.0\n",
      "183 Lunch and Learn_4.0\n",
      "184 Lunch and Learn_5.0\n",
      "185 Meet with current consultants_1.0\n",
      "186 Meet with current consultants_2.0\n",
      "187 Meet with current suppliers_1.0\n",
      "188 Meet with current suppliers_2.0\n",
      "189 Meet with current suppliers_3.0\n",
      "190 Meet with customers_1.0\n",
      "191 Meet with customers_2.0\n",
      "193 Meet with peers_1.0\n",
      "201 My Show Planner_0.0\n",
      "202 My Show Planner_1.0\n",
      "203 My Show Planner_2.0\n",
      "204 My Show Planner_3.0\n",
      "205 My Show Planner_4.0\n",
      "206 My Show Planner_5.0\n",
      "207 Networking_1.0\n",
      "208 Networking_2.0\n",
      "209 Networking_3.0\n",
      "210 Networking.1_2.0\n",
      "211 Networking.2_0.0\n",
      "212 Networking.2_1.0\n",
      "213 Networking.2_2.0\n",
      "214 Networking.3_1.0\n",
      "215 Networking.3_2.0\n",
      "216 Networking.3_3.0\n",
      "217 Networking.4_1.0\n",
      "218 Networking.4_2.0\n",
      "219 Networking.4_3.0\n",
      "220 Networking.5_0.0\n",
      "221 Networking.5_1.0\n",
      "222 Networking.5_2.0\n",
      "223 Networking.5_3.0\n",
      "224 Networking.5_4.0\n",
      "225 New products/innovations_0.0\n",
      "226 New products/innovations_1.0\n",
      "227 New products/innovations_2.0\n",
      "228 New products/innovations_3.0\n",
      "229 New products/innovations_4.0\n",
      "230 New supply lines found_1.0\n",
      "231 New supply lines found_2.0\n",
      "232 New supply lines found_3.0\n",
      "233 New supply lines found_4.0\n",
      "234 New Supply Combined_0.0\n",
      "235 New Supply Combined_1.0\n",
      "236 New Supply Combined_2.0\n",
      "237 New Supply Combined_3.0\n",
      "238 New Supply Combined_4.0\n",
      "239 Number on a scale of 1-5 (1 being very good and 5 being disappointing), overall, how would you rate your trade show registration process?_0.0\n",
      "240 Number on a scale of 1-5 (1 being very good and 5 being disappointing), overall, how would you rate your trade show registration process?_1.0\n",
      "241 Number on a scale of 1-5 (1 being very good and 5 being disappointing), overall, how would you rate your trade show registration process?_2.0\n",
      "242 Number on a scale of 1-5 (1 being very good and 5 being disappointing), overall, how would you rate your trade show registration process?_3.0\n",
      "243 Number on a scale of 1-5 (1 being very good and 5 being disappointing), overall, how would you rate your trade show registration process?_4.0\n",
      "244 Number on a scale of 1-5 (1 being very good and 5 being disappointing), overall, how would you rate your trade show registration process?_5.0\n",
      "245 Odor control products_6.0\n",
      "246 Odor control products_7.0\n",
      "247 Other.2_1.0\n",
      "248 Other.2_2.0\n",
      "249 Other.2_3.0\n",
      "250 Other.3_1.0\n",
      "251 Other.3_2.0\n",
      "252 Other.3_3.0\n",
      "253 Paper products & dispensers_7.0\n",
      "254 Paper products & dispensers_8.0\n",
      "255 Please estimate how many customer meetings you personally accomplished during the show:_1.0\n",
      "256 Please estimate how many customer meetings you personally accomplished during the show:_2.0\n",
      "257 Please estimate how many customer meetings you personally accomplished during the show:_3.0\n",
      "258 Please estimate how many customer meetings you personally accomplished during the show:_4.0\n",
      "259 Please estimate how many customer meetings you personally accomplished during the show:_5.0\n",
      "260 Please estimate how many customer meetings you personally accomplished during the show:_6.0\n",
      "261 Please indicate the importance of the following: Price_1.0\n",
      "262 Please indicate the importance of the following: Price_2.0\n",
      "263 Please indicate the importance of the following: Price_3.0\n",
      "264 Please indicate the importance of the following: Price_4.0\n",
      "265 Please indicate the importance of the following: Price_5.0\n",
      "266 Please indicate your primary job function._0.0\n",
      "267 Please indicate your primary job function._1.0\n",
      "268 Please indicate your primary job function._2.0\n",
      "269 Please indicate your primary job function._3.0\n",
      "270 Please indicate your primary job function._4.0\n",
      "271 Please indicate your primary job function._5.0\n",
      "272 Please indicate your primary job function._6.0\n",
      "273 Please indicate your primary job function._7.0\n",
      "274 Please indicate your primary job function._8.0\n",
      "275 Please rank the top 5 elements of ISSA/INTERCLEAN trade show that were of most value to you. 1,2,etc. Digital Official Exhibit Directory_1.0\n",
      "276 Please rank the top 5 elements of ISSA/INTERCLEAN trade show that were of most value to you. 1,2,etc. Digital Official Exhibit Directory_2.0\n",
      "277 Please rank the top 5 elements of ISSA/INTERCLEAN trade show that were of most value to you. 1,2,etc. Digital Official Exhibit Directory_3.0\n",
      "278 Please rank the top 5 elements of ISSA/INTERCLEAN trade show that were of most value to you. 1,2,etc. Digital Official Exhibit Directory_4.0\n",
      "279 Please rank the top 5 elements of ISSA/INTERCLEAN trade show that were of most value to you. 1,2,etc. Digital Official Exhibit Directory_5.0\n",
      "280 Please rank the top 5 elements of the ISSA Convention that you found valuable 1,2 etc.). DISRUPT AND INNOVATE_1.0\n",
      "281 Please rank the top 5 elements of the ISSA Convention that you found valuable 1,2 etc.). DISRUPT AND INNOVATE_2.0\n",
      "282 Please rank the top 5 elements of the ISSA Convention that you found valuable 1,2 etc.). DISRUPT AND INNOVATE_3.0\n",
      "283 Please rank the top 5 elements of the ISSA Convention that you found valuable 1,2 etc.). DISRUPT AND INNOVATE_4.0\n",
      "284 Please rank the top 5 elements of the ISSA Convention that you found valuable 1,2 etc.). DISRUPT AND INNOVATE_5.0\n",
      "285 Please rank your top three reasons for attending ISSA/INTERCLEAN 1,2 etc. ARCSI Evening Receptions_1.0\n",
      "286 Please rank your top three reasons for attending ISSA/INTERCLEAN 1,2 etc. ARCSI Evening Receptions_3.0\n",
      "287 Please rank your top three reasons for attending ISSA/INTERCLEAN 1,2 etc. Educational Sessions_1.0\n",
      "288 Please rank your top three reasons for attending ISSA/INTERCLEAN 1,2 etc. Educational Sessions_2.0\n",
      "289 Please rank your top three reasons for attending ISSA/INTERCLEAN 1,2 etc. Educational Sessions_3.0\n",
      "290 Pressure washing equipment & accessories_8.0\n",
      "291 Pressure washing equipment & accessories_9.0\n",
      "292 Quality of exhibitors_0.0\n",
      "293 Quality of exhibitors_1.0\n",
      "294 Quality of exhibitors_2.0\n",
      "295 Quality of exhibitors_3.0\n",
      "296 Quality of exhibitors_4.0\n",
      "297 Residential Cleaning Connection Track_1.0\n",
      "298 Residential Cleaning Connection Track_2.0\n",
      "299 Residential Cleaning Connection Track_3.0\n",
      "300 Residential Cleaning Connection Track_4.0\n",
      "301 Residential Cleaning Connection Track_5.0\n",
      "302 Restroom care & service_9.0\n",
      "303 Restroom care & service_10.0\n",
      "304 See new products/innovations_1.0\n",
      "305 See new products/innovations_2.0\n",
      "306 See new products/innovations_3.0\n",
      "307 Services/technology_10.0\n",
      "308 Services/technology_11.0\n",
      "309 Show Mobile App_1.0\n",
      "310 Show Mobile App_2.0\n",
      "311 Show Mobile App_3.0\n",
      "312 Show Mobile App_4.0\n",
      "313 Show Mobile App_5.0\n",
      "314 Show Mobile App.1_0.0\n",
      "315 Show Mobile App.1_1.0\n",
      "316 Show Mobile App.1_2.0\n",
      "317 Show Mobile App.1_3.0\n",
      "318 Show Mobile App.1_4.0\n",
      "319 Show Mobile App.2_3.0\n",
      "320 Show Mobile App.2_5.0\n",
      "321 Show Mobile App.3_0.0\n",
      "322 Show Mobile App.3_1.0\n",
      "323 Show Mobile App.4_1.0\n",
      "324 Show Mobile App.4_2.0\n",
      "325 Show Mobile App.4_3.0\n",
      "326 Show Mobile App.4_4.0\n",
      "327 Show Mobile App.4_5.0\n",
      "328 Show Mobile App.5_1.0\n",
      "329 Show Mobile App.5_2.0\n",
      "330 Show Mobile App.5_3.0\n",
      "331 Show Mobile App.5_4.0\n",
      "332 Show Mobile App.5_5.0\n",
      "333 Show Mobile App.6_1.0\n",
      "334 Show Mobile App.6_2.0\n",
      "335 Show Mobile App.6_3.0\n",
      "336 Show Mobile App.6_4.0\n",
      "337 Show Mobile App.6_5.0\n",
      "338 Skin care & personal hygiene_12.0\n",
      "339 Storage & material handling_11.0\n",
      "340 Storage & material handling_13.0\n",
      "341 Supervisor signed me up_1.0\n",
      "342 Supervisor signed me up_2.0\n",
      "343 Supervisor signed me up_3.0\n",
      "344 This year, ISSA/ARCSI provided tools to help attendees plan for the show with ease. Please rate each tool's usefulness. Website_0.0\n",
      "345 This year, ISSA/ARCSI provided tools to help attendees plan for the show with ease. Please rate each tool's usefulness. Website_1.0\n",
      "346 This year, ISSA/ARCSI provided tools to help attendees plan for the show with ease. Please rate each tool's usefulness. Website_2.0\n",
      "347 This year, ISSA/ARCSI provided tools to help attendees plan for the show with ease. Please rate each tool's usefulness. Website_3.0\n",
      "348 This year, ISSA/ARCSI provided tools to help attendees plan for the show with ease. Please rate each tool's usefulness. Website_4.0\n",
      "350 Thursday seminars/panels_1.0\n",
      "351 Thursday seminars/panels_2.0\n",
      "352 Thursday seminars/panels_3.0\n",
      "353 Thursday seminars/panels_4.0\n",
      "355 Time of year_1.0\n",
      "356 Time of year_2.0\n",
      "357 Time of year_3.0\n",
      "358 Time of year_4.0\n",
      "361 Value of attending_1.0\n",
      "362 Value of attending_2.0\n",
      "363 Value of attending_3.0\n",
      "364 Value of attending_4.0\n",
      "365 Value of attending last day of show_0.0\n",
      "366 Value of attending last day of show_1.0\n",
      "367 Value of attending last day of show_2.0\n",
      "368 Value of attending last day of show_3.0\n",
      "369 Value of attending last day of show_4.0\n",
      "370 Was this your first time attending ISSA/INTERCLEAN?_1.0\n",
      "371 Was this your first time attending ISSA/INTERCLEAN?_2.0\n",
      "372 Waste containment & disposal_12.0\n",
      "373 Waste containment & disposal_14.0\n",
      "374 Welcome Networking Reception_1.0\n",
      "378 Welcome Networking Reception_5.0\n",
      "380 What is your annual budget to purchase cleaning supplies, equipment, and other cleaning materials? _2.0\n",
      "381 What is your annual budget to purchase cleaning supplies, equipment, and other cleaning materials? _3.0\n",
      "382 What is your annual budget to purchase cleaning supplies, equipment, and other cleaning materials? _4.0\n",
      "383 What is your annual budget to purchase cleaning supplies, equipment, and other cleaning materials? _5.0\n",
      "384 What is your company's annual sales volume? _1.0\n",
      "385 What is your company's annual sales volume? _2.0\n",
      "386 What is your company's annual sales volume? _3.0\n",
      "387 What is your company's annual sales volume? _4.0\n",
      "388 What is your company's annual sales volume? _5.0\n",
      "389 What is your company's annual sales volume? _6.0\n",
      "390 What product categories are you interested in? Cleaning agents_1.0\n"
     ]
    }
   ],
   "source": [
    "new_features = [] \n",
    "for b in range(0,len(fit.ranking_)):\n",
    "    if fit.ranking_[b] == 1:\n",
    "        new_features.append(b)\n",
    "        print b, data_X.columns[b]"
   ]
  },
  {
   "cell_type": "code",
   "execution_count": null,
   "metadata": {
    "collapsed": true
   },
   "outputs": [],
   "source": []
  },
  {
   "cell_type": "code",
   "execution_count": 74,
   "metadata": {
    "collapsed": true
   },
   "outputs": [],
   "source": [
    "new_X = data_X.iloc[:,new_features]"
   ]
  },
  {
   "cell_type": "code",
   "execution_count": 75,
   "metadata": {
    "collapsed": true
   },
   "outputs": [],
   "source": [
    "X = new_X"
   ]
  },
  {
   "cell_type": "code",
   "execution_count": null,
   "metadata": {
    "collapsed": true
   },
   "outputs": [],
   "source": [
    "y_test = pd.get_dummies(y)"
   ]
  },
  {
   "cell_type": "code",
   "execution_count": null,
   "metadata": {
    "collapsed": true
   },
   "outputs": [],
   "source": [
    "Z=[]\n",
    "Z=pd.concat([X,y_test],axis=1)"
   ]
  },
  {
   "cell_type": "code",
   "execution_count": null,
   "metadata": {
    "collapsed": true
   },
   "outputs": [],
   "source": [
    "corr = Z.select_dtypes(include = ['int64', 'float64']).iloc[:, 1:].corr()"
   ]
  },
  {
   "cell_type": "code",
   "execution_count": null,
   "metadata": {},
   "outputs": [],
   "source": [
    "mask = np.zeros_like(corr)\n",
    "mask[np.triu_indices_from(mask)] = True\n",
    "plt.figure(figsize=(60, 60))\n",
    "with sns.axes_style(\"white\"):\n",
    "    ax = sns.heatmap(corr, mask=mask, vmin = -1, vmax=1, square=True)"
   ]
  },
  {
   "cell_type": "code",
   "execution_count": null,
   "metadata": {
    "collapsed": true
   },
   "outputs": [],
   "source": [
    "first_new_f = X"
   ]
  },
  {
   "cell_type": "code",
   "execution_count": null,
   "metadata": {
    "collapsed": true
   },
   "outputs": [],
   "source": [
    "X = first_new_f"
   ]
  },
  {
   "cell_type": "code",
   "execution_count": 76,
   "metadata": {},
   "outputs": [
    {
     "name": "stdout",
     "output_type": "stream",
     "text": [
      "LR: 0.680000 (0.160000)\n",
      "NB: 0.300000 (0.100000)\n",
      "CART: 0.620000 (0.116619)\n",
      "KNeighborsClassifier: 0.640000 (0.128062)\n",
      "XGBClassifier: 0.700000 (0.173205)\n",
      "GradientBoostingClassifier: 0.710000 (0.151327)\n",
      "AdaBoostClassifier: 0.640000 (0.120000)\n",
      "RandomForestClassifier: 0.660000 (0.142829)\n",
      "ExtraTreesClassifier: 0.670000 (0.141774)\n",
      "DecisionTreeClassifier: 0.620000 (0.116619)\n"
     ]
    }
   ],
   "source": [
    "models=[]\n",
    "models.append(('LR', LogisticRegression(random_state = seed)))\n",
    "#models.append(('LASSO', Lasso())) \n",
    "#models.append(('Ridge', Ridge())) \n",
    "#models.append(('LDA', LinearDiscriminantAnalysis()))\n",
    "models.append(('NB', GaussianNB()))\n",
    "models.append(('CART', DecisionTreeClassifier(random_state = seed))) \n",
    "models.append(('KNeighborsClassifier', KNeighborsClassifier())) \n",
    "models.append(('XGBClassifier', xgb.XGBClassifier()))\n",
    "models.append(('GradientBoostingClassifier', GradientBoostingClassifier(random_state = seed)))\n",
    "models.append(('AdaBoostClassifier', AdaBoostClassifier(random_state = seed)))\n",
    "models.append(('RandomForestClassifier', RandomForestClassifier(random_state = seed)))\n",
    "models.append(('ExtraTreesClassifier', ExtraTreesClassifier(random_state = seed)))\n",
    "models.append(('DecisionTreeClassifier', DecisionTreeClassifier(random_state = seed)))\n",
    "\n",
    "#models.append(('SVC', SVC(kernel = 'linear', random_state = seed)))\n",
    "#models.append(('LinearSVR', LinearSVR(random_state = seed)))\n",
    "for name, model in models:\n",
    "    kfold = model_selection.KFold(shuffle = True, n_splits=num_folds, random_state=seed)\n",
    "    cv_results = model_selection.cross_val_score(model, X, y, cv=kfold, scoring= scoring)\n",
    "    msg = \"%s: %f (%f)\" % (name, cv_results.mean(), cv_results.std())\n",
    "    print(msg)"
   ]
  },
  {
   "cell_type": "code",
   "execution_count": 77,
   "metadata": {},
   "outputs": [
    {
     "name": "stdout",
     "output_type": "stream",
     "text": [
      "Num of feature: 291\n",
      "Feature Ranking: [ 1  1  1  1  1  1  1  1  1  1  1  1  1  1  1  1  1  1  1  1  1  1  1  1  1\n",
      "  1  1  1  1  1  1  1  1  1  1  1  1  1  1  1  1  1  1  1  1  1  1  1  1  1\n",
      "  1  1  1  1  1  1  1  1  1  1  1  1  1  1  1  1  1  1  1  1  1  1  1  1  1\n",
      "  1  1 22  1  1  1  1  1  1  1  1  1  1  1  8  1 43  1 45  1  1  1  1  1  1\n",
      "  1 39  1  1  1  1 61 46  1  1  1  1  1  1  1 47 18 63  1  1  1  1  1 31 23\n",
      " 51 49 48 57  2  1 41 71  9  3 65 64 12  1 21  1  1 19  1  1 16  1  1  6  1\n",
      " 54 33  1  1 15  1  1  1  1  1  1  1  1 60  1  1 70  1 75  1  1  1  1  1  1\n",
      "  1  1 24 26  1  1 72  1  1  1  1  1  1  1  1  1  1  1  1  1  1  1  1  1  1\n",
      "  1  1  1  1  1  1  1  1 53  1  1  1  1  1  1  1  1  1  1  1  1  1  1 29 32\n",
      "  1  1  1  1  1  1  1  1  1  1  7  1  1  1  1  1  1  1 14  1  1  1  1 36  1\n",
      "  1  1  1  1  1  1  1  1  1  1  1  1  1  1  1  1  1  5 69 74  1  1  1  1  1\n",
      "  1  1  1  1  1 73  1 35 17  1  1  1  1  1  1 50  1 27  4  1 10  1 52 34 30\n",
      "  1 66  1  1 11  1  1  1  1  1  1  1  1  1 13  1  1  1  1  1  1 37 40  1 38\n",
      " 44  1 68  1  1  1 59  1 67 76 55  1  1  1  1  1  1  1  1  1  1  1  1  1  1\n",
      " 42 62  1 56  1  1  1  1 58  1  1  1  1 20 25 28]\n"
     ]
    }
   ],
   "source": [
    "estimator = GradientBoostingClassifier(random_state = seed)\n",
    "rfe = RFECV(estimator,cv = kfold)\n",
    "fit = rfe.fit(X,y)\n",
    "print(\"Num of feature: %d\") % fit.n_features_\n",
    "#print(\"Selected features: %s\") % fit.support_\n",
    "print(\"Feature Ranking: %s\") % fit.ranking_\n"
   ]
  },
  {
   "cell_type": "code",
   "execution_count": 78,
   "metadata": {
    "scrolled": false
   },
   "outputs": [
    {
     "name": "stdout",
     "output_type": "stream",
     "text": [
      "0 Booth visits to a new exhibitor or supplier:\n",
      "1 Please estimate how many of the following activities you personally accomplished during the show: Supplier Meeting\n",
      "2 Respondent ID\n",
      "3 total visits to your booth\n",
      "4 What year were you born?\n",
      "5 ARCSI Rountables_0.0\n",
      "6 ARCSI Rountables_1.0\n",
      "7 ARCSI Rountables_2.0\n",
      "8 ARCSI Rountables_3.0\n",
      "9 ARCSI Rountables_4.0\n",
      "10 Are you a member of a distributor marketing group? If yes, please list which one in the comments box._1.0\n",
      "11 Are you a member of a distributor marketing group? If yes, please list which one in the comments box._2.0\n",
      "12 ARSCI Roundtables_1.0\n",
      "13 ARSCI Roundtables_2.0\n",
      "14 ARSCI Roundtables_3.0\n",
      "15 Cleaning tools & supplies_2.0\n",
      "16 Co-located events by other associations_1.0\n",
      "17 Co-located events by other associations_2.0\n",
      "18 Co-located events by other associations_3.0\n",
      "19 Co-located events by other associations_4.0\n",
      "20 Co-located events by other associations_5.0\n",
      "21 Commercial Cleaning Business Solutions Track_1.0\n",
      "22 Commercial Cleaning Business Solutions Track_2.0\n",
      "23 Commercial Cleaning Business Solutions Track_3.0\n",
      "24 Commercial Cleaning Business Solutions Track_4.0\n",
      "25 Commercial Cleaning Business Solutions Track_5.0\n",
      "26 Customers met with_0.0\n",
      "27 Customers met with_1.0\n",
      "28 Customers met with_2.0\n",
      "29 Customers met with_3.0\n",
      "30 Customers met with_4.0\n",
      "31 Did the increased programming on Thursday influence your decision to visit the exhibit hall on Thursday?_1.0\n",
      "32 Did the increased programming on Thursday influence your decision to visit the exhibit hall on Thursday?_2.0\n",
      "33 Did you accomplish all you had planned during the trade show? _1.0\n",
      "34 Did you accomplish all you had planned during the trade show? _2.0\n",
      "35 Did you attend any educational sessions offered through ISSA Convention?_1.0\n",
      "36 Did you attend any educational sessions offered through ISSA Convention?_2.0\n",
      "37 Education session topics_1.0\n",
      "38 Education session topics_2.0\n",
      "39 Education session topics_3.0\n",
      "40 Education session topics_4.0\n",
      "41 Education session topics_5.0\n",
      "42 Educational sessions_1.0\n",
      "43 Educational sessions_2.0\n",
      "44 Educational sessions_3.0\n",
      "45 Educational/Professional Development_1.0\n",
      "46 Educational/Professional Development_2.0\n",
      "47 Educational/Professional Development_3.0\n",
      "48 Educational/Professional Development_4.0\n",
      "49 Educational/Professional Development_5.0\n",
      "50 Equipment & accessories_3.0\n",
      "51 Evening Roundtable event_1.0\n",
      "52 Evening Roundtable event_2.0\n",
      "53 Evening Roundtable event_3.0\n",
      "54 Evening Roundtable event_4.0\n",
      "55 Evening Roundtable event_5.0\n",
      "56 Facility maintenance & safety supply_4.0\n",
      "57 Find new ideas to solve problems_1.0\n",
      "58 Find new ideas to solve problems_2.0\n",
      "59 Find new ideas to solve problems_3.0\n",
      "60 Find new suppliers_1.0\n",
      "61 Find new suppliers_2.0\n",
      "62 Find new suppliers_3.0\n",
      "63 First-Time Attendee Orientation_0.0\n",
      "64 First-Time Attendee Orientation_1.0\n",
      "65 First-Time Attendee Orientation_2.0\n",
      "66 First-Time Attendee Orientation_3.0\n",
      "67 First-Time Attendee Orientation_4.0\n",
      "68 Floor carpet care_5.0\n",
      "69 Foodservice disposables & equipment_6.0\n",
      "70 Free WiFi hot spots_1.0\n",
      "71 Free WiFi hot spots_2.0\n",
      "72 Free WiFi hot spots_3.0\n",
      "73 Free WiFi hot spots_4.0\n",
      "74 Free WiFi hot spots_5.0\n",
      "75 Green Clean Schools Track_1.0\n",
      "76 Green Clean Schools Track_2.0\n",
      "78 Green Clean Schools Track_4.0\n",
      "79 Green Clean Schools Track_5.0\n",
      "80 Healthcare Environment Essentials Track_1.0\n",
      "81 Healthcare Environment Essentials Track_2.0\n",
      "82 Healthcare Environment Essentials Track_3.0\n",
      "83 Healthcare Environment Essentials Track_4.0\n",
      "84 Healthcare Environment Essentials Track_5.0\n",
      "85 Hotel/Host city_1.0\n",
      "86 Hotel/Host city_2.0\n",
      "87 Hotel/Host city_3.0\n",
      "88 Hotel/Host city_4.0\n",
      "90 How did you hear about ISSA/INTERCLEAN North America?_0.0\n",
      "92 How did you hear about ISSA/INTERCLEAN North America?_2.0\n",
      "94 How did you hear about ISSA/INTERCLEAN North America?_4.0\n",
      "95 How did you hear about ISSA/INTERCLEAN North America?_5.0\n",
      "96 How did you hear about ISSA/INTERCLEAN North America?_6.0\n",
      "97 How did you hear about ISSA/INTERCLEAN North America?_7.0\n",
      "98 How did you hear about ISSA/INTERCLEAN North America?_8.0\n",
      "99 How did you hear about ISSA/INTERCLEAN North America?_9.0\n",
      "100 How did you hear about ISSA/INTERCLEAN North America?_10.0\n",
      "102 How would you rate ISSA/INTERCLEAN's performance in the following areas? Educational Sessions_1.0\n",
      "103 How would you rate ISSA/INTERCLEAN's performance in the following areas? Educational Sessions_2.0\n",
      "104 How would you rate ISSA/INTERCLEAN's performance in the following areas? Educational Sessions_3.0\n",
      "105 How would you rate ISSA/INTERCLEAN's performance in the following areas? Educational Sessions_4.0\n",
      "108 In your organization do you have the final decision on whether you will attend ISSA/INTERCLEAN_1.0\n",
      "109 In your organization do you have the final decision on whether you will attend ISSA/INTERCLEAN_2.0\n",
      "110 ISSA Innovation Showcase_1.0\n",
      "111 ISSA Innovation Showcase_2.0\n",
      "112 ISSA Innovation Showcase_3.0\n",
      "113 ISSA Innovation Showcase_5.0\n",
      "114 ISSA/INTERCLEAN Bistro_1.0\n",
      "118 ISSA/INTERCLEAN Bistro_5.0\n",
      "119 Keep up to date with industry trends_1.0\n",
      "120 Keep up to date with industry trends_2.0\n",
      "121 Keep up to date with industry trends_3.0\n",
      "122 Keynote Speakers_2.0\n",
      "130 Keynote Speakers.1_5.0\n",
      "138 Keynote speakers.1_0.0\n",
      "140 Keynote Speakers.3_1.0\n",
      "141 Keynote Speakers.3_2.0\n",
      "143 Keynote Speakers.3_4.0\n",
      "144 Keynote Speakers.3_5.0\n",
      "146 Keynote speakers.2_1.0\n",
      "147 Keynote speakers.2_2.0\n",
      "149 Keynote speakers.2_4.0\n",
      "152 Keynote Speakers.4_3.0\n",
      "153 Keynote Speakers.4_4.0\n",
      "155 Keynote speakers.3_0.0\n",
      "156 Keynote speakers.3_1.0\n",
      "157 Keynote speakers.3_2.0\n",
      "158 Keynote speakers.3_3.0\n",
      "159 Combine Keynote speakers BC BE_0.0\n",
      "160 Combine Keynote speakers BC BE_1.0\n",
      "161 Combine Keynote speakers BC BE_2.0\n",
      "162 Combine Keynote speakers BC BE_3.0\n",
      "164 Length of Event_2.0\n",
      "165 Length of Event_3.0\n",
      "167 Location_1.0\n",
      "169 Location of the event_1.0\n",
      "170 Location of the event_2.0\n",
      "171 Location of the event_3.0\n",
      "172 Lunch and Learn_2.0\n",
      "173 Lunch and Learn_3.0\n",
      "174 Lunch and Learn_4.0\n",
      "175 Lunch and Learn_5.0\n",
      "176 Meet with current consultants_1.0\n",
      "179 Meet with current suppliers_2.0\n",
      "180 Meet with current suppliers_3.0\n",
      "182 Meet with customers_2.0\n",
      "183 Meet with peers_1.0\n",
      "184 My Show Planner_0.0\n",
      "185 My Show Planner_1.0\n",
      "186 My Show Planner_2.0\n",
      "187 My Show Planner_3.0\n",
      "188 My Show Planner_4.0\n",
      "189 My Show Planner_5.0\n",
      "190 Networking_1.0\n",
      "191 Networking_2.0\n",
      "192 Networking_3.0\n",
      "193 Networking.1_2.0\n",
      "194 Networking.2_0.0\n",
      "195 Networking.2_1.0\n",
      "196 Networking.2_2.0\n",
      "197 Networking.3_1.0\n",
      "198 Networking.3_2.0\n",
      "199 Networking.3_3.0\n",
      "200 Networking.4_1.0\n",
      "201 Networking.4_2.0\n",
      "202 Networking.4_3.0\n",
      "203 Networking.5_0.0\n",
      "204 Networking.5_1.0\n",
      "205 Networking.5_2.0\n",
      "206 Networking.5_3.0\n",
      "207 Networking.5_4.0\n",
      "209 New products/innovations_1.0\n",
      "210 New products/innovations_2.0\n",
      "211 New products/innovations_3.0\n",
      "212 New products/innovations_4.0\n",
      "213 New supply lines found_1.0\n",
      "214 New supply lines found_2.0\n",
      "215 New supply lines found_3.0\n",
      "216 New supply lines found_4.0\n",
      "217 New Supply Combined_0.0\n",
      "218 New Supply Combined_1.0\n",
      "219 New Supply Combined_2.0\n",
      "220 New Supply Combined_3.0\n",
      "221 New Supply Combined_4.0\n",
      "222 Number on a scale of 1-5 (1 being very good and 5 being disappointing), overall, how would you rate your trade show registration process?_0.0\n",
      "225 Number on a scale of 1-5 (1 being very good and 5 being disappointing), overall, how would you rate your trade show registration process?_3.0\n",
      "226 Number on a scale of 1-5 (1 being very good and 5 being disappointing), overall, how would you rate your trade show registration process?_4.0\n",
      "227 Number on a scale of 1-5 (1 being very good and 5 being disappointing), overall, how would you rate your trade show registration process?_5.0\n",
      "228 Odor control products_6.0\n",
      "229 Odor control products_7.0\n",
      "230 Other.2_1.0\n",
      "231 Other.2_2.0\n",
      "232 Other.2_3.0\n",
      "233 Other.3_1.0\n",
      "234 Other.3_2.0\n",
      "236 Paper products & dispensers_7.0\n",
      "237 Paper products & dispensers_8.0\n",
      "238 Please estimate how many customer meetings you personally accomplished during the show:_1.0\n",
      "239 Please estimate how many customer meetings you personally accomplished during the show:_2.0\n",
      "240 Please estimate how many customer meetings you personally accomplished during the show:_3.0\n",
      "241 Please estimate how many customer meetings you personally accomplished during the show:_4.0\n",
      "242 Please estimate how many customer meetings you personally accomplished during the show:_5.0\n",
      "244 Please indicate the importance of the following: Price_1.0\n",
      "245 Please indicate the importance of the following: Price_2.0\n",
      "246 Please indicate the importance of the following: Price_3.0\n",
      "247 Please indicate the importance of the following: Price_4.0\n",
      "249 Please indicate your primary job function._0.0\n",
      "250 Please indicate your primary job function._1.0\n",
      "251 Please indicate your primary job function._2.0\n",
      "252 Please indicate your primary job function._3.0\n",
      "253 Please indicate your primary job function._4.0\n",
      "254 Please indicate your primary job function._5.0\n",
      "255 Please indicate your primary job function._6.0\n",
      "256 Please indicate your primary job function._7.0\n",
      "257 Please indicate your primary job function._8.0\n",
      "258 Please rank the top 5 elements of ISSA/INTERCLEAN trade show that were of most value to you. 1,2,etc. Digital Official Exhibit Directory_1.0\n",
      "259 Please rank the top 5 elements of ISSA/INTERCLEAN trade show that were of most value to you. 1,2,etc. Digital Official Exhibit Directory_2.0\n",
      "260 Please rank the top 5 elements of ISSA/INTERCLEAN trade show that were of most value to you. 1,2,etc. Digital Official Exhibit Directory_3.0\n",
      "261 Please rank the top 5 elements of ISSA/INTERCLEAN trade show that were of most value to you. 1,2,etc. Digital Official Exhibit Directory_4.0\n",
      "262 Please rank the top 5 elements of ISSA/INTERCLEAN trade show that were of most value to you. 1,2,etc. Digital Official Exhibit Directory_5.0\n",
      "263 Please rank the top 5 elements of the ISSA Convention that you found valuable 1,2 etc.). DISRUPT AND INNOVATE_1.0\n",
      "264 Please rank the top 5 elements of the ISSA Convention that you found valuable 1,2 etc.). DISRUPT AND INNOVATE_2.0\n",
      "265 Please rank the top 5 elements of the ISSA Convention that you found valuable 1,2 etc.). DISRUPT AND INNOVATE_3.0\n",
      "266 Please rank the top 5 elements of the ISSA Convention that you found valuable 1,2 etc.). DISRUPT AND INNOVATE_4.0\n",
      "270 Please rank your top three reasons for attending ISSA/INTERCLEAN 1,2 etc. Educational Sessions_1.0\n",
      "271 Please rank your top three reasons for attending ISSA/INTERCLEAN 1,2 etc. Educational Sessions_2.0\n",
      "272 Please rank your top three reasons for attending ISSA/INTERCLEAN 1,2 etc. Educational Sessions_3.0\n",
      "273 Pressure washing equipment & accessories_8.0\n",
      "274 Pressure washing equipment & accessories_9.0\n",
      "275 Quality of exhibitors_0.0\n",
      "276 Quality of exhibitors_1.0\n",
      "277 Quality of exhibitors_2.0\n",
      "278 Quality of exhibitors_3.0\n",
      "279 Quality of exhibitors_4.0\n",
      "281 Residential Cleaning Connection Track_2.0\n",
      "284 Residential Cleaning Connection Track_5.0\n",
      "285 Restroom care & service_9.0\n",
      "286 Restroom care & service_10.0\n",
      "287 See new products/innovations_1.0\n",
      "288 See new products/innovations_2.0\n",
      "289 See new products/innovations_3.0\n",
      "291 Services/technology_11.0\n",
      "294 Show Mobile App_3.0\n",
      "296 Show Mobile App_5.0\n",
      "300 Show Mobile App.1_3.0\n",
      "302 Show Mobile App.2_3.0\n",
      "303 Show Mobile App.2_5.0\n",
      "305 Show Mobile App.3_1.0\n",
      "306 Show Mobile App.4_1.0\n",
      "307 Show Mobile App.4_2.0\n",
      "308 Show Mobile App.4_3.0\n",
      "309 Show Mobile App.4_4.0\n",
      "310 Show Mobile App.4_5.0\n",
      "311 Show Mobile App.5_1.0\n",
      "312 Show Mobile App.5_2.0\n",
      "313 Show Mobile App.5_3.0\n",
      "315 Show Mobile App.5_5.0\n",
      "316 Show Mobile App.6_1.0\n",
      "317 Show Mobile App.6_2.0\n",
      "318 Show Mobile App.6_3.0\n",
      "319 Show Mobile App.6_4.0\n",
      "320 Show Mobile App.6_5.0\n",
      "323 Storage & material handling_13.0\n",
      "326 Supervisor signed me up_3.0\n",
      "328 This year, ISSA/ARCSI provided tools to help attendees plan for the show with ease. Please rate each tool's usefulness. Website_1.0\n",
      "329 This year, ISSA/ARCSI provided tools to help attendees plan for the show with ease. Please rate each tool's usefulness. Website_2.0\n",
      "330 This year, ISSA/ARCSI provided tools to help attendees plan for the show with ease. Please rate each tool's usefulness. Website_3.0\n",
      "332 Thursday seminars/panels_1.0\n",
      "336 Time of year_1.0\n",
      "337 Time of year_2.0\n",
      "338 Time of year_3.0\n",
      "339 Time of year_4.0\n",
      "340 Value of attending_1.0\n",
      "341 Value of attending_2.0\n",
      "342 Value of attending_3.0\n",
      "343 Value of attending_4.0\n",
      "344 Value of attending last day of show_0.0\n",
      "345 Value of attending last day of show_1.0\n",
      "346 Value of attending last day of show_2.0\n",
      "347 Value of attending last day of show_3.0\n",
      "348 Value of attending last day of show_4.0\n",
      "349 Was this your first time attending ISSA/INTERCLEAN?_1.0\n",
      "352 Waste containment & disposal_14.0\n",
      "354 Welcome Networking Reception_5.0\n",
      "355 What is your annual budget to purchase cleaning supplies, equipment, and other cleaning materials? _2.0\n",
      "356 What is your annual budget to purchase cleaning supplies, equipment, and other cleaning materials? _3.0\n",
      "357 What is your annual budget to purchase cleaning supplies, equipment, and other cleaning materials? _4.0\n",
      "359 What is your company's annual sales volume? _1.0\n",
      "360 What is your company's annual sales volume? _2.0\n",
      "361 What is your company's annual sales volume? _3.0\n",
      "362 What is your company's annual sales volume? _4.0\n"
     ]
    }
   ],
   "source": [
    "top_49_important_features = [] \n",
    "for b in range(0,len(fit.ranking_)):\n",
    "    if fit.ranking_[b] == 1:\n",
    "        top_49_important_features.append(b)\n",
    "        print b,X.columns[b]"
   ]
  },
  {
   "cell_type": "code",
   "execution_count": null,
   "metadata": {
    "collapsed": true
   },
   "outputs": [],
   "source": []
  },
  {
   "cell_type": "code",
   "execution_count": null,
   "metadata": {
    "collapsed": true
   },
   "outputs": [],
   "source": []
  },
  {
   "cell_type": "code",
   "execution_count": 79,
   "metadata": {
    "collapsed": true
   },
   "outputs": [],
   "source": [
    "new_X = X.iloc[:,top_49_important_features]\n"
   ]
  },
  {
   "cell_type": "code",
   "execution_count": 80,
   "metadata": {
    "collapsed": true
   },
   "outputs": [],
   "source": [
    "X = new_X"
   ]
  },
  {
   "cell_type": "code",
   "execution_count": 81,
   "metadata": {
    "scrolled": true
   },
   "outputs": [
    {
     "name": "stdout",
     "output_type": "stream",
     "text": [
      "LR: 0.680000 (0.160000)\n",
      "LDA: 0.630000 (0.167631)\n",
      "NB: 0.300000 (0.100000)\n",
      "CART: 0.600000 (0.134164)\n",
      "KNeighborsClassifier: 0.640000 (0.128062)\n"
     ]
    },
    {
     "name": "stderr",
     "output_type": "stream",
     "text": [
      "C:\\Users\\SuperBug\\Anaconda2\\envs\\mdg\\lib\\site-packages\\sklearn\\discriminant_analysis.py:388: UserWarning: Variables are collinear.\n",
      "  warnings.warn(\"Variables are collinear.\")\n",
      "C:\\Users\\SuperBug\\Anaconda2\\envs\\mdg\\lib\\site-packages\\sklearn\\discriminant_analysis.py:442: UserWarning: The priors do not sum to 1. Renormalizing\n",
      "  UserWarning)\n"
     ]
    },
    {
     "name": "stdout",
     "output_type": "stream",
     "text": [
      "XGBClassifier: 0.700000 (0.173205)\n",
      "GradientBoostingClassifier: 0.700000 (0.148324)\n",
      "AdaBoostClassifier: 0.640000 (0.168523)\n",
      "RandomForestClassifier: 0.690000 (0.122066)\n",
      "ExtraTreesClassifier: 0.660000 (0.142829)\n",
      "DecisionTreeClassifier: 0.600000 (0.134164)\n"
     ]
    }
   ],
   "source": [
    "models=[]\n",
    "models.append(('LR', LogisticRegression(random_state = seed)))\n",
    "#models.append(('LASSO', Lasso())) \n",
    "#models.append(('Ridge', Ridge())) \n",
    "models.append(('LDA', LinearDiscriminantAnalysis()))\n",
    "models.append(('NB', GaussianNB()))\n",
    "models.append(('CART', DecisionTreeClassifier(random_state = seed))) \n",
    "models.append(('KNeighborsClassifier', KNeighborsClassifier())) \n",
    "models.append(('XGBClassifier', xgb.XGBClassifier()))\n",
    "models.append(('GradientBoostingClassifier', GradientBoostingClassifier(random_state = seed)))\n",
    "models.append(('AdaBoostClassifier', AdaBoostClassifier(random_state = seed)))\n",
    "models.append(('RandomForestClassifier', RandomForestClassifier(random_state = seed)))\n",
    "models.append(('ExtraTreesClassifier', ExtraTreesClassifier(random_state = seed)))\n",
    "models.append(('DecisionTreeClassifier', DecisionTreeClassifier(random_state = seed)))\n",
    "\n",
    "#models.append(('SVC', SVC(kernel = 'linear', random_state = seed)))\n",
    "#models.append(('LinearSVR', LinearSVR(random_state = seed)))\n",
    "for name, model in models:\n",
    "    kfold = model_selection.KFold(shuffle = True, n_splits=num_folds, random_state=seed)\n",
    "    cv_results = model_selection.cross_val_score(model, X, y, cv=kfold, scoring= scoring)\n",
    "    msg = \"%s: %f (%f)\" % (name, cv_results.mean(), cv_results.std())\n",
    "    print(msg)"
   ]
  },
  {
   "cell_type": "code",
   "execution_count": null,
   "metadata": {
    "collapsed": true
   },
   "outputs": [],
   "source": []
  },
  {
   "cell_type": "code",
   "execution_count": null,
   "metadata": {
    "collapsed": true
   },
   "outputs": [],
   "source": [
    "y_test = pd.get_dummies(y)"
   ]
  },
  {
   "cell_type": "code",
   "execution_count": null,
   "metadata": {
    "collapsed": true
   },
   "outputs": [],
   "source": [
    "Z=[]\n",
    "Z=pd.concat([X,y_test],axis=1)"
   ]
  },
  {
   "cell_type": "code",
   "execution_count": null,
   "metadata": {
    "collapsed": true
   },
   "outputs": [],
   "source": [
    "corr = Z.select_dtypes(include = ['int64', 'float64']).iloc[:, 1:].corr()"
   ]
  },
  {
   "cell_type": "code",
   "execution_count": null,
   "metadata": {},
   "outputs": [],
   "source": [
    "mask = np.zeros_like(corr)\n",
    "mask[np.triu_indices_from(mask)] = True\n",
    "plt.figure(figsize=(60, 60))\n",
    "with sns.axes_style(\"white\"):\n",
    "    ax = sns.heatmap(corr, mask=mask, vmin = -1, vmax=1, square=True)"
   ]
  },
  {
   "cell_type": "code",
   "execution_count": 82,
   "metadata": {},
   "outputs": [
    {
     "name": "stdout",
     "output_type": "stream",
     "text": [
      "Num of feature: 122\n",
      "Feature Ranking: [  1   1   1   1   1  22  14   6  39  42  28  43   5  49  26  50  32  56\n",
      "  11   1   1  58  31  69   1  36  60   1   1  47 101   1   1   1   1   1\n",
      "   1   1  27 102   1  10  61 115  75   1   1 128  73 117   1  62 107  59\n",
      "   1  54   1  74   3  87   1 166  17 145  67 111 151 148   1  94   1   1\n",
      "   8   1   9   1  20  71 144 169   1   1  88   1   1   1   1  45  30   1\n",
      "  90  98   1   1   1  33  41   1 104   1 163   1   1   1  29   1 147 129\n",
      "   1   1   1   1 134 152 167 109 150  52   1 114   1 121 164 125 131   1\n",
      "  23 123   1  13   1   1   1   1  18   1  21   1   1 135 137 153 155   1\n",
      "   1   1   1 149   1   1  64  16  57 124 106  84  51  63  96  82  86 100\n",
      "  81 116  66  83   1   1  48   7   1   1   1   1 120   1  78  76 170  92\n",
      "   1   1 143 132   1 139  85  15 160   1   1 133 103  93  79 157   1   1\n",
      " 154  97  44   1   1   1   1 119  55   1   1   1  46  68  40   1   1   1\n",
      " 112   1  72 141  91   1  35 158   1  80  89  38 146  77   4   1  95 142\n",
      " 130   1 136   1  19   1   1   1 156 110 140 118 127 138 122 108 105 159\n",
      "  70 162   1 113 168   1   1   1   1 165 161   1  34   1   1   1   1   1\n",
      "  65   1 126   1   1  53   1   1  12   1   1   2   1  37  99  24  25   1\n",
      "   1   1   1]\n"
     ]
    }
   ],
   "source": [
    "estimator = GradientBoostingClassifier(random_state = seed)\n",
    "rfe = RFECV(estimator,cv = kfold)\n",
    "fit = rfe.fit(X,y)\n",
    "print(\"Num of feature: %d\") % fit.n_features_\n",
    "#print(\"Selected features: %s\") % fit.support_\n",
    "print(\"Feature Ranking: %s\") % fit.ranking_\n"
   ]
  },
  {
   "cell_type": "code",
   "execution_count": 83,
   "metadata": {
    "scrolled": true
   },
   "outputs": [
    {
     "name": "stdout",
     "output_type": "stream",
     "text": [
      "0 Booth visits to a new exhibitor or supplier:\n",
      "1 Please estimate how many of the following activities you personally accomplished during the show: Supplier Meeting\n",
      "2 Respondent ID\n",
      "3 total visits to your booth\n",
      "4 What year were you born?\n",
      "5 ARCSI Rountables_0.0\n",
      "6 ARCSI Rountables_1.0\n",
      "7 ARCSI Rountables_2.0\n",
      "8 ARCSI Rountables_3.0\n",
      "9 ARCSI Rountables_4.0\n",
      "10 Are you a member of a distributor marketing group? If yes, please list which one in the comments box._1.0\n",
      "11 Are you a member of a distributor marketing group? If yes, please list which one in the comments box._2.0\n",
      "12 ARSCI Roundtables_1.0\n",
      "13 ARSCI Roundtables_2.0\n",
      "14 ARSCI Roundtables_3.0\n",
      "15 Cleaning tools & supplies_2.0\n",
      "16 Co-located events by other associations_1.0\n",
      "17 Co-located events by other associations_2.0\n",
      "18 Co-located events by other associations_3.0\n",
      "19 Co-located events by other associations_4.0\n",
      "20 Co-located events by other associations_5.0\n",
      "21 Commercial Cleaning Business Solutions Track_1.0\n",
      "22 Commercial Cleaning Business Solutions Track_2.0\n",
      "23 Commercial Cleaning Business Solutions Track_3.0\n",
      "24 Commercial Cleaning Business Solutions Track_4.0\n",
      "25 Commercial Cleaning Business Solutions Track_5.0\n",
      "26 Customers met with_0.0\n",
      "27 Customers met with_1.0\n",
      "28 Customers met with_2.0\n",
      "29 Customers met with_3.0\n",
      "30 Customers met with_4.0\n",
      "31 Did the increased programming on Thursday influence your decision to visit the exhibit hall on Thursday?_1.0\n",
      "32 Did the increased programming on Thursday influence your decision to visit the exhibit hall on Thursday?_2.0\n",
      "33 Did you accomplish all you had planned during the trade show? _1.0\n",
      "34 Did you accomplish all you had planned during the trade show? _2.0\n",
      "35 Did you attend any educational sessions offered through ISSA Convention?_1.0\n",
      "36 Did you attend any educational sessions offered through ISSA Convention?_2.0\n",
      "37 Education session topics_1.0\n",
      "38 Education session topics_2.0\n",
      "39 Education session topics_3.0\n",
      "40 Education session topics_4.0\n",
      "41 Education session topics_5.0\n",
      "42 Educational sessions_1.0\n",
      "43 Educational sessions_2.0\n",
      "44 Educational sessions_3.0\n",
      "45 Educational/Professional Development_1.0\n",
      "46 Educational/Professional Development_2.0\n",
      "47 Educational/Professional Development_3.0\n",
      "48 Educational/Professional Development_4.0\n",
      "49 Educational/Professional Development_5.0\n",
      "50 Equipment & accessories_3.0\n",
      "51 Evening Roundtable event_1.0\n",
      "52 Evening Roundtable event_2.0\n",
      "53 Evening Roundtable event_3.0\n",
      "54 Evening Roundtable event_4.0\n",
      "55 Evening Roundtable event_5.0\n",
      "56 Facility maintenance & safety supply_4.0\n",
      "57 Find new ideas to solve problems_1.0\n",
      "58 Find new ideas to solve problems_2.0\n",
      "59 Find new ideas to solve problems_3.0\n",
      "60 Find new suppliers_1.0\n",
      "61 Find new suppliers_2.0\n",
      "62 Find new suppliers_3.0\n",
      "63 First-Time Attendee Orientation_0.0\n",
      "64 First-Time Attendee Orientation_1.0\n",
      "65 First-Time Attendee Orientation_2.0\n",
      "66 First-Time Attendee Orientation_3.0\n",
      "67 First-Time Attendee Orientation_4.0\n",
      "68 Floor carpet care_5.0\n",
      "69 Foodservice disposables & equipment_6.0\n",
      "70 Free WiFi hot spots_1.0\n",
      "71 Free WiFi hot spots_2.0\n",
      "72 Free WiFi hot spots_3.0\n",
      "73 Free WiFi hot spots_4.0\n",
      "74 Free WiFi hot spots_5.0\n",
      "75 Green Clean Schools Track_1.0\n",
      "76 Green Clean Schools Track_2.0\n",
      "77 Green Clean Schools Track_4.0\n",
      "78 Green Clean Schools Track_5.0\n",
      "79 Healthcare Environment Essentials Track_1.0\n",
      "80 Healthcare Environment Essentials Track_2.0\n",
      "81 Healthcare Environment Essentials Track_3.0\n",
      "82 Healthcare Environment Essentials Track_4.0\n",
      "83 Healthcare Environment Essentials Track_5.0\n",
      "84 Hotel/Host city_1.0\n",
      "85 Hotel/Host city_2.0\n",
      "86 Hotel/Host city_3.0\n",
      "87 Hotel/Host city_4.0\n",
      "88 How did you hear about ISSA/INTERCLEAN North America?_0.0\n",
      "89 How did you hear about ISSA/INTERCLEAN North America?_2.0\n",
      "90 How did you hear about ISSA/INTERCLEAN North America?_4.0\n",
      "91 How did you hear about ISSA/INTERCLEAN North America?_5.0\n",
      "92 How did you hear about ISSA/INTERCLEAN North America?_6.0\n",
      "93 How did you hear about ISSA/INTERCLEAN North America?_7.0\n",
      "94 How did you hear about ISSA/INTERCLEAN North America?_8.0\n",
      "95 How did you hear about ISSA/INTERCLEAN North America?_9.0\n",
      "96 How did you hear about ISSA/INTERCLEAN North America?_10.0\n",
      "97 How would you rate ISSA/INTERCLEAN's performance in the following areas? Educational Sessions_1.0\n",
      "98 How would you rate ISSA/INTERCLEAN's performance in the following areas? Educational Sessions_2.0\n",
      "99 How would you rate ISSA/INTERCLEAN's performance in the following areas? Educational Sessions_3.0\n",
      "100 How would you rate ISSA/INTERCLEAN's performance in the following areas? Educational Sessions_4.0\n",
      "101 In your organization do you have the final decision on whether you will attend ISSA/INTERCLEAN_1.0\n",
      "102 In your organization do you have the final decision on whether you will attend ISSA/INTERCLEAN_2.0\n",
      "103 ISSA Innovation Showcase_1.0\n",
      "104 ISSA Innovation Showcase_2.0\n",
      "105 ISSA Innovation Showcase_3.0\n",
      "106 ISSA Innovation Showcase_5.0\n",
      "107 ISSA/INTERCLEAN Bistro_1.0\n",
      "108 ISSA/INTERCLEAN Bistro_5.0\n",
      "109 Keep up to date with industry trends_1.0\n",
      "110 Keep up to date with industry trends_2.0\n",
      "111 Keep up to date with industry trends_3.0\n",
      "112 Keynote Speakers_2.0\n",
      "113 Keynote Speakers.1_5.0\n",
      "114 Keynote speakers.1_0.0\n",
      "115 Keynote Speakers.3_1.0\n",
      "116 Keynote Speakers.3_2.0\n",
      "117 Keynote Speakers.3_4.0\n",
      "118 Keynote Speakers.3_5.0\n",
      "119 Keynote speakers.2_1.0\n",
      "120 Keynote speakers.2_2.0\n",
      "121 Keynote speakers.2_4.0\n",
      "122 Keynote Speakers.4_3.0\n",
      "123 Keynote Speakers.4_4.0\n",
      "124 Keynote speakers.3_0.0\n",
      "125 Keynote speakers.3_1.0\n",
      "126 Keynote speakers.3_2.0\n",
      "127 Keynote speakers.3_3.0\n",
      "128 Combine Keynote speakers BC BE_0.0\n",
      "129 Combine Keynote speakers BC BE_1.0\n",
      "130 Combine Keynote speakers BC BE_2.0\n",
      "131 Combine Keynote speakers BC BE_3.0\n",
      "132 Length of Event_2.0\n",
      "133 Length of Event_3.0\n",
      "134 Location_1.0\n",
      "135 Location of the event_1.0\n",
      "136 Location of the event_2.0\n",
      "137 Location of the event_3.0\n",
      "138 Lunch and Learn_2.0\n",
      "139 Lunch and Learn_3.0\n",
      "140 Lunch and Learn_4.0\n",
      "141 Lunch and Learn_5.0\n",
      "142 Meet with current consultants_1.0\n",
      "143 Meet with current suppliers_2.0\n",
      "144 Meet with current suppliers_3.0\n",
      "145 Meet with customers_2.0\n",
      "146 Meet with peers_1.0\n",
      "147 My Show Planner_0.0\n",
      "148 My Show Planner_1.0\n",
      "149 My Show Planner_2.0\n",
      "150 My Show Planner_3.0\n",
      "151 My Show Planner_4.0\n",
      "152 My Show Planner_5.0\n",
      "153 Networking_1.0\n",
      "154 Networking_2.0\n",
      "155 Networking_3.0\n",
      "156 Networking.1_2.0\n",
      "157 Networking.2_0.0\n",
      "158 Networking.2_1.0\n",
      "159 Networking.2_2.0\n",
      "160 Networking.3_1.0\n",
      "161 Networking.3_2.0\n",
      "162 Networking.3_3.0\n",
      "163 Networking.4_1.0\n",
      "164 Networking.4_2.0\n",
      "165 Networking.4_3.0\n",
      "166 Networking.5_0.0\n",
      "167 Networking.5_1.0\n",
      "168 Networking.5_2.0\n",
      "169 Networking.5_3.0\n",
      "170 Networking.5_4.0\n",
      "171 New products/innovations_1.0\n",
      "172 New products/innovations_2.0\n",
      "173 New products/innovations_3.0\n",
      "174 New products/innovations_4.0\n",
      "175 New supply lines found_1.0\n",
      "176 New supply lines found_2.0\n",
      "177 New supply lines found_3.0\n",
      "178 New supply lines found_4.0\n",
      "179 New Supply Combined_0.0\n",
      "180 New Supply Combined_1.0\n",
      "181 New Supply Combined_2.0\n",
      "182 New Supply Combined_3.0\n",
      "183 New Supply Combined_4.0\n",
      "184 Number on a scale of 1-5 (1 being very good and 5 being disappointing), overall, how would you rate your trade show registration process?_0.0\n",
      "185 Number on a scale of 1-5 (1 being very good and 5 being disappointing), overall, how would you rate your trade show registration process?_3.0\n",
      "186 Number on a scale of 1-5 (1 being very good and 5 being disappointing), overall, how would you rate your trade show registration process?_4.0\n",
      "187 Number on a scale of 1-5 (1 being very good and 5 being disappointing), overall, how would you rate your trade show registration process?_5.0\n",
      "188 Odor control products_6.0\n",
      "189 Odor control products_7.0\n",
      "190 Other.2_1.0\n",
      "191 Other.2_2.0\n",
      "192 Other.2_3.0\n",
      "193 Other.3_1.0\n",
      "194 Other.3_2.0\n",
      "195 Paper products & dispensers_7.0\n",
      "196 Paper products & dispensers_8.0\n",
      "197 Please estimate how many customer meetings you personally accomplished during the show:_1.0\n",
      "198 Please estimate how many customer meetings you personally accomplished during the show:_2.0\n",
      "199 Please estimate how many customer meetings you personally accomplished during the show:_3.0\n",
      "200 Please estimate how many customer meetings you personally accomplished during the show:_4.0\n",
      "201 Please estimate how many customer meetings you personally accomplished during the show:_5.0\n",
      "202 Please indicate the importance of the following: Price_1.0\n",
      "203 Please indicate the importance of the following: Price_2.0\n",
      "204 Please indicate the importance of the following: Price_3.0\n",
      "205 Please indicate the importance of the following: Price_4.0\n",
      "206 Please indicate your primary job function._0.0\n",
      "207 Please indicate your primary job function._1.0\n",
      "208 Please indicate your primary job function._2.0\n",
      "209 Please indicate your primary job function._3.0\n",
      "210 Please indicate your primary job function._4.0\n",
      "211 Please indicate your primary job function._5.0\n",
      "212 Please indicate your primary job function._6.0\n",
      "213 Please indicate your primary job function._7.0\n",
      "214 Please indicate your primary job function._8.0\n",
      "215 Please rank the top 5 elements of ISSA/INTERCLEAN trade show that were of most value to you. 1,2,etc. Digital Official Exhibit Directory_1.0\n",
      "216 Please rank the top 5 elements of ISSA/INTERCLEAN trade show that were of most value to you. 1,2,etc. Digital Official Exhibit Directory_2.0\n",
      "217 Please rank the top 5 elements of ISSA/INTERCLEAN trade show that were of most value to you. 1,2,etc. Digital Official Exhibit Directory_3.0\n",
      "218 Please rank the top 5 elements of ISSA/INTERCLEAN trade show that were of most value to you. 1,2,etc. Digital Official Exhibit Directory_4.0\n",
      "219 Please rank the top 5 elements of ISSA/INTERCLEAN trade show that were of most value to you. 1,2,etc. Digital Official Exhibit Directory_5.0\n",
      "220 Please rank the top 5 elements of the ISSA Convention that you found valuable 1,2 etc.). DISRUPT AND INNOVATE_1.0\n",
      "221 Please rank the top 5 elements of the ISSA Convention that you found valuable 1,2 etc.). DISRUPT AND INNOVATE_2.0\n",
      "222 Please rank the top 5 elements of the ISSA Convention that you found valuable 1,2 etc.). DISRUPT AND INNOVATE_3.0\n",
      "223 Please rank the top 5 elements of the ISSA Convention that you found valuable 1,2 etc.). DISRUPT AND INNOVATE_4.0\n",
      "224 Please rank your top three reasons for attending ISSA/INTERCLEAN 1,2 etc. Educational Sessions_1.0\n",
      "225 Please rank your top three reasons for attending ISSA/INTERCLEAN 1,2 etc. Educational Sessions_2.0\n",
      "226 Please rank your top three reasons for attending ISSA/INTERCLEAN 1,2 etc. Educational Sessions_3.0\n",
      "227 Pressure washing equipment & accessories_8.0\n",
      "228 Pressure washing equipment & accessories_9.0\n",
      "229 Quality of exhibitors_0.0\n",
      "230 Quality of exhibitors_1.0\n",
      "231 Quality of exhibitors_2.0\n",
      "232 Quality of exhibitors_3.0\n",
      "233 Quality of exhibitors_4.0\n",
      "234 Residential Cleaning Connection Track_2.0\n",
      "235 Residential Cleaning Connection Track_5.0\n",
      "236 Restroom care & service_9.0\n",
      "237 Restroom care & service_10.0\n",
      "238 See new products/innovations_1.0\n",
      "239 See new products/innovations_2.0\n",
      "240 See new products/innovations_3.0\n",
      "241 Services/technology_11.0\n",
      "242 Show Mobile App_3.0\n",
      "243 Show Mobile App_5.0\n",
      "244 Show Mobile App.1_3.0\n",
      "245 Show Mobile App.2_3.0\n",
      "246 Show Mobile App.2_5.0\n",
      "247 Show Mobile App.3_1.0\n",
      "248 Show Mobile App.4_1.0\n",
      "249 Show Mobile App.4_2.0\n",
      "250 Show Mobile App.4_3.0\n",
      "251 Show Mobile App.4_4.0\n",
      "252 Show Mobile App.4_5.0\n",
      "253 Show Mobile App.5_1.0\n",
      "254 Show Mobile App.5_2.0\n",
      "255 Show Mobile App.5_3.0\n",
      "256 Show Mobile App.5_5.0\n",
      "257 Show Mobile App.6_1.0\n",
      "258 Show Mobile App.6_2.0\n",
      "259 Show Mobile App.6_3.0\n",
      "260 Show Mobile App.6_4.0\n",
      "261 Show Mobile App.6_5.0\n",
      "262 Storage & material handling_13.0\n",
      "263 Supervisor signed me up_3.0\n",
      "264 This year, ISSA/ARCSI provided tools to help attendees plan for the show with ease. Please rate each tool's usefulness. Website_1.0\n",
      "265 This year, ISSA/ARCSI provided tools to help attendees plan for the show with ease. Please rate each tool's usefulness. Website_2.0\n",
      "266 This year, ISSA/ARCSI provided tools to help attendees plan for the show with ease. Please rate each tool's usefulness. Website_3.0\n",
      "267 Thursday seminars/panels_1.0\n",
      "268 Time of year_1.0\n",
      "269 Time of year_2.0\n",
      "270 Time of year_3.0\n",
      "271 Time of year_4.0\n",
      "272 Value of attending_1.0\n",
      "273 Value of attending_2.0\n",
      "274 Value of attending_3.0\n",
      "275 Value of attending_4.0\n",
      "276 Value of attending last day of show_0.0\n",
      "277 Value of attending last day of show_1.0\n",
      "278 Value of attending last day of show_2.0\n",
      "279 Value of attending last day of show_3.0\n",
      "280 Value of attending last day of show_4.0\n",
      "281 Was this your first time attending ISSA/INTERCLEAN?_1.0\n",
      "282 Waste containment & disposal_14.0\n",
      "283 Welcome Networking Reception_5.0\n",
      "284 What is your annual budget to purchase cleaning supplies, equipment, and other cleaning materials? _2.0\n",
      "285 What is your annual budget to purchase cleaning supplies, equipment, and other cleaning materials? _3.0\n",
      "286 What is your annual budget to purchase cleaning supplies, equipment, and other cleaning materials? _4.0\n",
      "287 What is your company's annual sales volume? _1.0\n",
      "288 What is your company's annual sales volume? _2.0\n",
      "289 What is your company's annual sales volume? _3.0\n",
      "290 What is your company's annual sales volume? _4.0\n"
     ]
    }
   ],
   "source": [
    "top_46_important_features = [] \n",
    "for b in range(0,len(fit.ranking_)):\n",
    "    #if fit.ranking_[b] == 1:\n",
    "    top_46_important_features.append(b)\n",
    "    print b, X.columns[b]"
   ]
  },
  {
   "cell_type": "code",
   "execution_count": 84,
   "metadata": {
    "collapsed": true
   },
   "outputs": [],
   "source": [
    "new_X = X.iloc[:,top_46_important_features]\n",
    "X = new_X"
   ]
  },
  {
   "cell_type": "code",
   "execution_count": 85,
   "metadata": {},
   "outputs": [
    {
     "name": "stderr",
     "output_type": "stream",
     "text": [
      "C:\\Users\\SuperBug\\Anaconda2\\envs\\mdg\\lib\\site-packages\\scipy\\linalg\\basic.py:223: RuntimeWarning: scipy.linalg.solve\n",
      "Ill-conditioned matrix detected. Result is not guaranteed to be accurate.\n",
      "Reciprocal condition number: 6.89715529706e-17\n",
      "  ' condition number: {}'.format(rcond), RuntimeWarning)\n",
      "C:\\Users\\SuperBug\\Anaconda2\\envs\\mdg\\lib\\site-packages\\scipy\\linalg\\basic.py:223: RuntimeWarning: scipy.linalg.solve\n",
      "Ill-conditioned matrix detected. Result is not guaranteed to be accurate.\n",
      "Reciprocal condition number: 6.1698142327e-17\n",
      "  ' condition number: {}'.format(rcond), RuntimeWarning)\n",
      "C:\\Users\\SuperBug\\Anaconda2\\envs\\mdg\\lib\\site-packages\\scipy\\linalg\\basic.py:223: RuntimeWarning: scipy.linalg.solve\n",
      "Ill-conditioned matrix detected. Result is not guaranteed to be accurate.\n",
      "Reciprocal condition number: 7.77621480106e-17\n",
      "  ' condition number: {}'.format(rcond), RuntimeWarning)\n",
      "C:\\Users\\SuperBug\\Anaconda2\\envs\\mdg\\lib\\site-packages\\scipy\\linalg\\basic.py:223: RuntimeWarning: scipy.linalg.solve\n",
      "Ill-conditioned matrix detected. Result is not guaranteed to be accurate.\n",
      "Reciprocal condition number: 6.64782163062e-17\n",
      "  ' condition number: {}'.format(rcond), RuntimeWarning)\n",
      "C:\\Users\\SuperBug\\Anaconda2\\envs\\mdg\\lib\\site-packages\\scipy\\linalg\\basic.py:223: RuntimeWarning: scipy.linalg.solve\n",
      "Ill-conditioned matrix detected. Result is not guaranteed to be accurate.\n",
      "Reciprocal condition number: 2.31298000628e-17\n",
      "  ' condition number: {}'.format(rcond), RuntimeWarning)\n",
      "C:\\Users\\SuperBug\\Anaconda2\\envs\\mdg\\lib\\site-packages\\scipy\\linalg\\basic.py:223: RuntimeWarning: scipy.linalg.solve\n",
      "Ill-conditioned matrix detected. Result is not guaranteed to be accurate.\n",
      "Reciprocal condition number: 7.69569387879e-17\n",
      "  ' condition number: {}'.format(rcond), RuntimeWarning)\n",
      "C:\\Users\\SuperBug\\Anaconda2\\envs\\mdg\\lib\\site-packages\\scipy\\linalg\\basic.py:223: RuntimeWarning: scipy.linalg.solve\n",
      "Ill-conditioned matrix detected. Result is not guaranteed to be accurate.\n",
      "Reciprocal condition number: 6.67902666352e-17\n",
      "  ' condition number: {}'.format(rcond), RuntimeWarning)\n",
      "C:\\Users\\SuperBug\\Anaconda2\\envs\\mdg\\lib\\site-packages\\scipy\\linalg\\basic.py:223: RuntimeWarning: scipy.linalg.solve\n",
      "Ill-conditioned matrix detected. Result is not guaranteed to be accurate.\n",
      "Reciprocal condition number: 6.08374568604e-17\n",
      "  ' condition number: {}'.format(rcond), RuntimeWarning)\n",
      "C:\\Users\\SuperBug\\Anaconda2\\envs\\mdg\\lib\\site-packages\\scipy\\linalg\\basic.py:223: RuntimeWarning: scipy.linalg.solve\n",
      "Ill-conditioned matrix detected. Result is not guaranteed to be accurate.\n",
      "Reciprocal condition number: 5.50258161104e-17\n",
      "  ' condition number: {}'.format(rcond), RuntimeWarning)\n",
      "C:\\Users\\SuperBug\\Anaconda2\\envs\\mdg\\lib\\site-packages\\scipy\\linalg\\basic.py:223: RuntimeWarning: scipy.linalg.solve\n",
      "Ill-conditioned matrix detected. Result is not guaranteed to be accurate.\n",
      "Reciprocal condition number: 6.9113222286e-17\n",
      "  ' condition number: {}'.format(rcond), RuntimeWarning)\n"
     ]
    },
    {
     "name": "stdout",
     "output_type": "stream",
     "text": [
      "Ridge: -0.694592 (1.659217)\n",
      "LDA: 0.630000 (0.167631)\n",
      "NB: 0.300000 (0.100000)\n",
      "CART: 0.600000 (0.134164)\n",
      "KNeighborsClassifier: 0.640000 (0.128062)\n",
      "XGBClassifier: 0.700000 (0.173205)\n",
      "GradientBoostingClassifier: 0.700000 (0.148324)\n",
      "AdaBoostClassifier: 0.640000 (0.168523)\n",
      "RandomForestClassifier: 0.690000 (0.122066)\n",
      "ExtraTreesClassifier: 0.660000 (0.142829)\n",
      "DecisionTreeClassifier: 0.600000 (0.134164)\n"
     ]
    }
   ],
   "source": [
    "models=[]\n",
    "models.append(('Ridge', Ridge())) \n",
    "models.append(('LDA', LinearDiscriminantAnalysis()))\n",
    "models.append(('NB', GaussianNB()))\n",
    "models.append(('CART', DecisionTreeClassifier(random_state = seed))) \n",
    "models.append(('KNeighborsClassifier', KNeighborsClassifier())) \n",
    "models.append(('XGBClassifier', xgb.XGBClassifier()))\n",
    "models.append(('GradientBoostingClassifier', GradientBoostingClassifier(random_state = seed)))\n",
    "models.append(('AdaBoostClassifier', AdaBoostClassifier(random_state = seed)))\n",
    "models.append(('RandomForestClassifier', RandomForestClassifier(random_state = seed)))\n",
    "models.append(('ExtraTreesClassifier', ExtraTreesClassifier(random_state = seed)))\n",
    "models.append(('DecisionTreeClassifier', DecisionTreeClassifier(random_state = seed)))\n",
    "\n",
    "#models.append(('SVC', SVC(kernel = 'linear', random_state = seed)))\n",
    "#models.append(('LinearSVR', LinearSVR(random_state = seed)))\n",
    "for name, model in models:\n",
    "    kfold = model_selection.KFold(shuffle = True, n_splits=num_folds, random_state=seed)\n",
    "    cv_results = model_selection.cross_val_score(model, X, y, cv=kfold, scoring= scoring)\n",
    "    msg = \"%s: %f (%f)\" % (name, cv_results.mean(), cv_results.std())\n",
    "    print(msg)"
   ]
  },
  {
   "cell_type": "code",
   "execution_count": null,
   "metadata": {
    "collapsed": true
   },
   "outputs": [],
   "source": []
  },
  {
   "cell_type": "code",
   "execution_count": null,
   "metadata": {
    "collapsed": true
   },
   "outputs": [],
   "source": [
    "Z=[]\n",
    "Z=pd.concat([X,y_test],axis=1)"
   ]
  },
  {
   "cell_type": "code",
   "execution_count": null,
   "metadata": {
    "collapsed": true
   },
   "outputs": [],
   "source": [
    "corr = Z.select_dtypes(include = ['int64', 'float64']).iloc[:, 1:].corr()"
   ]
  },
  {
   "cell_type": "code",
   "execution_count": null,
   "metadata": {},
   "outputs": [],
   "source": [
    "mask = np.zeros_like(corr)\n",
    "mask[np.triu_indices_from(mask)] = True\n",
    "plt.figure(figsize=(60, 60))\n",
    "with sns.axes_style(\"white\"):\n",
    "    ax = sns.heatmap(corr, mask=mask, vmin = -1, vmax=1, square=True)"
   ]
  },
  {
   "cell_type": "code",
   "execution_count": null,
   "metadata": {},
   "outputs": [],
   "source": [
    "estimator = GradientBoostingClassifier(random_state = seed)\n",
    "rfe = RFECV(estimator,cv = kfold)\n",
    "fit = rfe.fit(X,y)\n",
    "print(\"Num of feature: %d\") % fit.n_features_\n",
    "#print(\"Selected features: %s\") % fit.support_\n",
    "print(\"Feature Ranking: %s\") % fit.ranking_"
   ]
  },
  {
   "cell_type": "code",
   "execution_count": null,
   "metadata": {
    "scrolled": true
   },
   "outputs": [],
   "source": [
    "top_46_important_features = [] \n",
    "for b in range(0,len(fit.ranking_)):\n",
    "    if fit.ranking_[b] == 1:\n",
    "        top_46_important_features.append(b)\n",
    "        print b, X.columns[b]"
   ]
  },
  {
   "cell_type": "code",
   "execution_count": null,
   "metadata": {
    "collapsed": true
   },
   "outputs": [],
   "source": [
    "new_X = X.iloc[:,top_46_important_features]\n",
    "X = new_X"
   ]
  },
  {
   "cell_type": "code",
   "execution_count": null,
   "metadata": {},
   "outputs": [],
   "source": [
    "models=[]\n",
    "models.append(('Ridge', Ridge())) \n",
    "models.append(('LDA', LinearDiscriminantAnalysis()))\n",
    "models.append(('NB', GaussianNB()))\n",
    "models.append(('CART', DecisionTreeClassifier(random_state = seed))) \n",
    "models.append(('KNeighborsClassifier', KNeighborsClassifier())) \n",
    "models.append(('XGBClassifier', xgb.XGBClassifier()))\n",
    "models.append(('GradientBoostingClassifier', GradientBoostingClassifier(random_state = seed)))\n",
    "models.append(('AdaBoostClassifier', AdaBoostClassifier(random_state = seed)))\n",
    "models.append(('RandomForestClassifier', RandomForestClassifier(random_state = seed)))\n",
    "models.append(('ExtraTreesClassifier', ExtraTreesClassifier(random_state = seed)))\n",
    "models.append(('DecisionTreeClassifier', DecisionTreeClassifier(random_state = seed)))\n",
    "\n",
    "#models.append(('SVC', SVC(kernel = 'linear', random_state = seed)))\n",
    "#models.append(('LinearSVR', LinearSVR(random_state = seed)))\n",
    "for name, model in models:\n",
    "    kfold = model_selection.KFold(shuffle = True, n_splits=num_folds, random_state=seed)\n",
    "    cv_results = model_selection.cross_val_score(model, X, y, cv=kfold, scoring= scoring)\n",
    "    msg = \"%s: %f (%f)\" % (name, cv_results.mean(), cv_results.std())\n",
    "    print(msg)"
   ]
  },
  {
   "cell_type": "code",
   "execution_count": null,
   "metadata": {
    "collapsed": true
   },
   "outputs": [],
   "source": [
    "Z=[]\n",
    "Z=pd.concat([X,y],axis=1)"
   ]
  },
  {
   "cell_type": "code",
   "execution_count": null,
   "metadata": {
    "collapsed": true
   },
   "outputs": [],
   "source": [
    "corr = Z.select_dtypes(include = ['int64', 'float64']).iloc[:, 1:].corr()"
   ]
  },
  {
   "cell_type": "code",
   "execution_count": null,
   "metadata": {},
   "outputs": [],
   "source": [
    "mask = np.zeros_like(corr)\n",
    "mask[np.triu_indices_from(mask)] = True\n",
    "plt.figure(figsize=(60, 60))\n",
    "with sns.axes_style(\"white\"):\n",
    "    ax = sns.heatmap(corr, mask=mask, vmin = -1, vmax=1, square=True)"
   ]
  },
  {
   "cell_type": "code",
   "execution_count": null,
   "metadata": {},
   "outputs": [],
   "source": [
    "estimator = GradientBoostingClassifier(random_state = seed)\n",
    "rfe = RFECV(estimator,cv = kfold)\n",
    "fit = rfe.fit(X,y)\n",
    "print(\"Num of feature: %d\") % fit.n_features_\n",
    "#print(\"Selected features: %s\") % fit.support_\n",
    "print(\"Feature Ranking: %s\") % fit.ranking_"
   ]
  },
  {
   "cell_type": "code",
   "execution_count": null,
   "metadata": {
    "collapsed": true
   },
   "outputs": [],
   "source": [
    "sum_pos = Z.loc[(Z['sum_happy']==3) | Z['sum_happy']==1]"
   ]
  },
  {
   "cell_type": "code",
   "execution_count": null,
   "metadata": {},
   "outputs": [],
   "source": [
    "sum_pos"
   ]
  },
  {
   "cell_type": "code",
   "execution_count": null,
   "metadata": {
    "collapsed": true
   },
   "outputs": [],
   "source": [
    "corr = sum_pos.select_dtypes(include = ['int64', 'float64']).iloc[:, 1:].corr()"
   ]
  },
  {
   "cell_type": "code",
   "execution_count": null,
   "metadata": {},
   "outputs": [],
   "source": [
    "mask = np.zeros_like(corr)\n",
    "mask[np.triu_indices_from(mask)] = True\n",
    "plt.figure(figsize=(60, 60))\n",
    "with sns.axes_style(\"white\"):\n",
    "    ax = sns.heatmap(corr, mask=mask, vmin = -1, vmax=1, square=True)"
   ]
  },
  {
   "cell_type": "code",
   "execution_count": null,
   "metadata": {
    "collapsed": true
   },
   "outputs": [],
   "source": [
    "sum_neg = Z.loc[Z['sum_happy']==1]"
   ]
  },
  {
   "cell_type": "code",
   "execution_count": null,
   "metadata": {
    "collapsed": true
   },
   "outputs": [],
   "source": [
    "corr = sum_neg.select_dtypes(include = ['int64', 'float64']).iloc[:, 1:].corr()"
   ]
  },
  {
   "cell_type": "code",
   "execution_count": null,
   "metadata": {},
   "outputs": [],
   "source": [
    "mask = np.zeros_like(corr)\n",
    "mask[np.triu_indices_from(mask)] = True\n",
    "plt.figure(figsize=(60, 60))\n",
    "with sns.axes_style(\"white\"):\n",
    "    ax = sns.heatmap(corr, mask=mask, vmin = -1, vmax=1, square=True)"
   ]
  },
  {
   "cell_type": "code",
   "execution_count": null,
   "metadata": {
    "collapsed": true
   },
   "outputs": [],
   "source": [
    "estimator = xgb.XGBClassifier()\n",
    "rfe = RFECV(estimator,cv = kfold)\n",
    "fit = rfe.fit(X,y)\n",
    "print(\"Num of feature: %d\") % fit.n_features_\n",
    "#print(\"Selected features: %s\") % fit.support_\n",
    "print(\"Feature Ranking: %s\") % fit.ranking_\n"
   ]
  },
  {
   "cell_type": "code",
   "execution_count": null,
   "metadata": {
    "collapsed": true
   },
   "outputs": [],
   "source": [
    "estimator = RandomForestClassifier(random_state = seed)\n",
    "rfe = RFECV(estimator,cv = kfold)\n",
    "fit = rfe.fit(X,y)\n",
    "print(\"Num of feature: %d\") % fit.n_features_\n",
    "#print(\"Selected features: %s\") % fit.support_\n",
    "print(\"Feature Ranking: %s\") % fit.ranking_\n"
   ]
  },
  {
   "cell_type": "code",
   "execution_count": null,
   "metadata": {
    "collapsed": true
   },
   "outputs": [],
   "source": [
    "estimator = LogisticRegression(random_state = seed)\n",
    "rfe = RFECV(estimator,cv = kfold)\n",
    "fit = rfe.fit(X,y)\n",
    "print(\"Num of feature: %d\") % fit.n_features_\n",
    "#print(\"Selected features: %s\") % fit.support_\n",
    "print(\"Feature Ranking: %s\") % fit.ranking_"
   ]
  },
  {
   "cell_type": "code",
   "execution_count": null,
   "metadata": {
    "collapsed": true,
    "scrolled": true
   },
   "outputs": [],
   "source": [
    "estimator = AdaBoostClassifier(random_state = seed)\n",
    "rfe = RFECV(estimator,cv = kfold)\n",
    "fit = rfe.fit(X,y)\n",
    "print(\"Num of feature: %d\") % fit.n_features_\n",
    "#print(\"Selected features: %s\") % fit.support_\n",
    "print(\"Feature Ranking: %s\") % fit.ranking_"
   ]
  },
  {
   "cell_type": "code",
   "execution_count": null,
   "metadata": {
    "collapsed": true
   },
   "outputs": [],
   "source": [
    "fit.grid_scores_.sort()"
   ]
  },
  {
   "cell_type": "code",
   "execution_count": null,
   "metadata": {
    "collapsed": true
   },
   "outputs": [],
   "source": [
    "plt.figure()\n",
    "plt.xlabel(\"Number of features selected\")\n",
    "plt.ylabel(\"Cross validation score (nb of correct classifications)\")\n",
    "plt.plot(range(1, len(fit.grid_scores_) + 1), fit.grid_scores_)\n",
    "plt.figure(figsize=(150,150))\n",
    "plt.show()"
   ]
  },
  {
   "cell_type": "code",
   "execution_count": null,
   "metadata": {
    "collapsed": true
   },
   "outputs": [],
   "source": [
    "model=[]\n",
    "model = KNeighborsClassifier(n_neighbors = 3,)\n",
    "kfold = model_selection.KFold(shuffle = True, n_splits=num_folds, random_state=seed)\n",
    "results = model_selection.cross_val_score(model, X, y, cv=kfold)\n",
    "msg = cv_results.mean(), cv_results.std()\n",
    "print(msg)\n"
   ]
  },
  {
   "cell_type": "code",
   "execution_count": null,
   "metadata": {
    "collapsed": true
   },
   "outputs": [],
   "source": [
    "for b in range(0,len(fit.ranking_)):\n",
    "    if fit.ranking_[b] ==1:\n",
    "        print b, X.columns[b]"
   ]
  },
  {
   "cell_type": "code",
   "execution_count": null,
   "metadata": {
    "collapsed": true,
    "scrolled": true
   },
   "outputs": [],
   "source": [
    "estimator = GradientBoostingClassifier(random_state = seed)\n",
    "rfe = RFECV(estimator, cv= kfold)\n",
    "fit = rfe.fit(X,y)\n",
    "print(\"Num of feature: %d\") % fit.n_features_\n",
    "#print(\"Selected features: %s\") % fit.support_\n",
    "print(\"Feature Ranking: %s\") % fit.ranking_"
   ]
  },
  {
   "cell_type": "code",
   "execution_count": null,
   "metadata": {
    "collapsed": true,
    "scrolled": true
   },
   "outputs": [],
   "source": [
    "for a in range(1,11):\n",
    "    for b in range(0,len(fit.ranking_)):\n",
    "        if fit.ranking_[b] == a:\n",
    "            print a, b, X.columns[b]"
   ]
  },
  {
   "cell_type": "code",
   "execution_count": null,
   "metadata": {
    "collapsed": true
   },
   "outputs": [],
   "source": [
    "butter = fit.grid_scores_.sort()\n"
   ]
  },
  {
   "cell_type": "code",
   "execution_count": null,
   "metadata": {
    "collapsed": true
   },
   "outputs": [],
   "source": [
    "fit.grid_scores_"
   ]
  },
  {
   "cell_type": "code",
   "execution_count": null,
   "metadata": {
    "collapsed": true
   },
   "outputs": [],
   "source": [
    "plt.figure()\n",
    "plt.xlabel(\"Number of features selected\")\n",
    "plt.ylabel(\"Cross validation score (nb of correct classifications)\")\n",
    "plt.plot(range(1, len(fit.grid_scores_) + 1), fit.grid_scores_)\n",
    "plt.figure(figsize=(150,150))\n",
    "plt.show()"
   ]
  },
  {
   "cell_type": "code",
   "execution_count": null,
   "metadata": {
    "collapsed": true
   },
   "outputs": [],
   "source": []
  },
  {
   "cell_type": "code",
   "execution_count": null,
   "metadata": {
    "collapsed": true
   },
   "outputs": [],
   "source": [
    "X.columns"
   ]
  },
  {
   "cell_type": "code",
   "execution_count": null,
   "metadata": {
    "collapsed": true
   },
   "outputs": [],
   "source": [
    "print('Feature  Accuracy')\n",
    "for i in range(n_feats):\n",
    "    X = iris.data[:, i].reshape(-1, 1)\n",
    "    scores = cross_val_score(clf, X, y)\n",
    "    print('%d        %g' % (i, scores.mean()))"
   ]
  },
  {
   "cell_type": "code",
   "execution_count": null,
   "metadata": {
    "collapsed": true
   },
   "outputs": [],
   "source": [
    "model = KNeighborsClassifier()\n",
    "the_list = []\n",
    "the_column = []\n",
    "rfe = RFE(model,1)\n",
    "fit = rfe.fit(X,y)\n",
    "\n",
    "    #print(\"Selected features: %s\") % fit.support_\n",
    "for a in range(1,8):\n",
    "    for b in range(0,len(fit.ranking_)):\n",
    "        if fit.ranking_[b] == a:\n",
    "            print a, b, X.columns[b]"
   ]
  },
  {
   "cell_type": "code",
   "execution_count": null,
   "metadata": {
    "collapsed": true
   },
   "outputs": [],
   "source": []
  },
  {
   "cell_type": "code",
   "execution_count": null,
   "metadata": {
    "collapsed": true
   },
   "outputs": [],
   "source": [
    "rfe = RFE(model,1 )\n",
    "fit = rfe.fit(X,y)\n",
    "print(\"Num of feature: %d\") % fit.n_features_\n",
    "print(\"Selected features: %s\") % fit.support_\n",
    "print(\"Feature Ranking: %s\") % fit.ranking_"
   ]
  },
  {
   "cell_type": "code",
   "execution_count": null,
   "metadata": {
    "collapsed": true
   },
   "outputs": [],
   "source": [
    "model = ExtraTreesClassifier(random_state = seed)\n",
    "the_list = []\n",
    "the_column = []\n",
    "rfe = RFE(model,1)\n",
    "fit = rfe.fit(X,y)\n",
    "          \n",
    "print(\"Selected features: %s\") % fit.support_\n",
    "for a in range(1,8):\n",
    "    for b in range(0,len(fit.ranking_)):\n",
    "        if fit.ranking_[b] == a:\n",
    "            print a, b, X.columns[b]\n",
    "print(\"Optimal number of features : %d\" % fit.n_features_)\n",
    "print(\"Feature Ranking: %s\") % fit.ranking_   "
   ]
  },
  {
   "cell_type": "code",
   "execution_count": null,
   "metadata": {
    "collapsed": true
   },
   "outputs": [],
   "source": [
    "print(\"Optimal number of features : %d\" % rfe.n_features_)"
   ]
  },
  {
   "cell_type": "code",
   "execution_count": null,
   "metadata": {
    "collapsed": true
   },
   "outputs": [],
   "source": [
    "print( rfe.ranking_)"
   ]
  },
  {
   "cell_type": "code",
   "execution_count": null,
   "metadata": {
    "collapsed": true
   },
   "outputs": [],
   "source": [
    "print( rfe.ranking_)"
   ]
  },
  {
   "cell_type": "code",
   "execution_count": null,
   "metadata": {
    "collapsed": true
   },
   "outputs": [],
   "source": [
    "model = KNeighborsClassifier()\n",
    "the_list = []\n",
    "the_column = []\n",
    "fit = rfe.fit(X,y)\n",
    "rfe = RFE(model,1)\n",
    "    #print(\"Selected features: %s\") % fit.support_\n",
    "for a in range(1,8):\n",
    "    for b in range(0,len(fit.ranking_)):\n",
    "        if fit.ranking_[b] == a:\n",
    "            print a, b, X.columns[b]"
   ]
  },
  {
   "cell_type": "code",
   "execution_count": null,
   "metadata": {
    "collapsed": true
   },
   "outputs": [],
   "source": [
    "models=[]\n",
    "models.append(('LR', LogisticRegression(random_state = seed)))\n",
    "#models.append(('LASSO', Lasso())) \n",
    "#models.append(('Ridge', Ridge())) \n",
    "models.append(('LDA', LinearDiscriminantAnalysis()))\n",
    "#models.append(('NB', GaussianNB()))\n",
    "models.append(('CART', DecisionTreeClassifier(random_state = seed))) \n",
    "models.append(('KNeighborsClassifier', KNeighborsClassifier())) \n",
    "#models.append(('XGBClassifier', xgb.XGBClassifier()))\n",
    "models.append(('GradientBoostingClassifier', GradientBoostingClassifier(random_state = seed)))\n",
    "models.append(('AdaBoostClassifier', AdaBoostClassifier(random_state = seed)))\n",
    "models.append(('RandomForestClassifier', RandomForestClassifier(random_state = seed)))\n",
    "models.append(('ExtraTreesClassifier', ExtraTreesClassifier(random_state = seed)))\n",
    "models.append(('DecisionTreeClassifier', DecisionTreeClassifier(random_state = seed)))\n",
    "#models.append(('SVC', SVC(kernel = 'linear', probability = True, random_state = seed)))"
   ]
  },
  {
   "cell_type": "code",
   "execution_count": null,
   "metadata": {
    "collapsed": true
   },
   "outputs": [],
   "source": [
    "kfold = model_selection.KFold(shuffle = True, n_splits=num_folds, random_state=seed)"
   ]
  },
  {
   "cell_type": "code",
   "execution_count": null,
   "metadata": {
    "collapsed": true
   },
   "outputs": [],
   "source": []
  },
  {
   "cell_type": "code",
   "execution_count": null,
   "metadata": {
    "collapsed": true
   },
   "outputs": [],
   "source": [
    "\n",
    "def test_ensemble(elist,single_score):\n",
    "    \n",
    "    for l in range(0, len(elist)):\n",
    "        model1=elist[l]\n",
    "        for j in range((l+1), len(elist)):\n",
    "            model2=elist[j]\n",
    "            for k in range((j+1), len(elist)):\n",
    "                model3=elist[k]\n",
    "                estimators=[]\n",
    "                estimators.append(model1)\n",
    "                estimators.append(model2)\n",
    "                estimators.append(model3)\n",
    "                #try:\n",
    "                    \n",
    "                ensemble = VotingClassifier(estimators, voting='soft')\n",
    "                cv_results = model_selection.cross_val_score(ensemble, X, y,scoring = None, cv=kfold) \n",
    "                if cv_results.mean() > single_score:\n",
    "                    print estimators[0][0], estimators[1][0], estimators[2][0]\n",
    "                    msg = \"%f (%f)\" % (cv_results.mean(), cv_results.std())\n",
    "                    print msg\n",
    "                \n",
    "                 \n",
    "                \n",
    "                #except:\n",
    "                    #msg = \" BREAK with: \" + estimators[0][0], estimators[1][0],estimators[2][0]\n",
    "                    #print msg\n",
    "                    \n",
    "           "
   ]
  },
  {
   "cell_type": "code",
   "execution_count": null,
   "metadata": {
    "collapsed": true,
    "scrolled": true
   },
   "outputs": [],
   "source": [
    "test_ensemble(models, 0.65)"
   ]
  },
  {
   "cell_type": "code",
   "execution_count": null,
   "metadata": {
    "collapsed": true
   },
   "outputs": [],
   "source": [
    "LDA ExtraTreesClassifier SVC"
   ]
  },
  {
   "cell_type": "code",
   "execution_count": null,
   "metadata": {
    "collapsed": true
   },
   "outputs": [],
   "source": [
    "estimators=[]\n",
    "model1 = LinearDiscriminantAnalysis()\n",
    "estimators.append(('LDA', model1))\n",
    "model2 = ExtraTreesClassifier(random_state = seed)\n",
    "estimators.append(('ExtraTreesClassifier', model2))\n",
    "model3 = SVC(kernel = 'linear', probability = True, random_state = seed)\n",
    "estimators.append(('SVC', model3))\n",
    "ensemble = VotingClassifier(estimators, voting='soft')\n",
    "ensemblefit = ensemble.fit(X,y)\n",
    "rfe = RFE(ensemblefit,1)\n",
    "fit = rfe.fit(X,y)\n",
    "#kfold = model_selection.KFold(shuffle = True, n_splits=num_folds, random_state=seed)\n",
    "#cv_results = model_selection.cross_val_score(ensemble, X, y, cv=kfold, scoring= scoring) \n",
    "#msg = \"%f (%f)\" % (cv_results.mean(), cv_results.std())\n",
    "print( fit.ranking_)\n"
   ]
  },
  {
   "cell_type": "code",
   "execution_count": null,
   "metadata": {
    "collapsed": true
   },
   "outputs": [],
   "source": [
    "estimators = []\n",
    "model1 = ExtraTreesClassifier(random_state = seed)\n",
    "estimators.append(('ExtraTreesClassifier', model1))\n",
    "model2 = KNeighborsClassifier()\n",
    "estimators.append(('KNeighborsClassifier', model2))\n",
    "model3 = GradientBoostingClassifier(random_state = seed)\n",
    "estimators.append(('GradientBoostingClassifier', model3))\n",
    "\n",
    "\n",
    "ensemble = VotingClassifier(estimators, voting='soft')\n",
    "kfold = model_selection.KFold(shuffle = True, n_splits=num_folds, random_state=seed)\n",
    "cv_results = model_selection.cross_val_score(ensemble, X, y, cv=kfold, scoring= scoring) \n",
    "msg = \"%f (%f)\" % (cv_results.mean(), cv_results.std())\n",
    "print msg"
   ]
  },
  {
   "cell_type": "code",
   "execution_count": null,
   "metadata": {
    "collapsed": true
   },
   "outputs": [],
   "source": [
    "kfold = model_selection.KFold(shuffle = True, n_splits=num_folds, random_state=seed)\n",
    "estimators = []\n",
    "model1 = ExtraTreesClassifier()\n",
    "estimators.append(('ExtraTreesClassifier', model1))\n",
    "model2 = KNeighborsClassifier()\n",
    "estimators.append(('KNeighborsClassifier', model2))\n",
    "model3 = GradientBoostingClassifier()\n",
    "estimators.append(('GradientBoostingClassifier', model3))\n",
    "\n",
    "\n",
    "ensemble = VotingClassifier(estimators, voting='soft')\n",
    "cv_results = model_selection.cross_val_score(ensemble, X, y,scoring = scoring, cv=kfold) \n",
    "msg = \"%f (%f)\" % (cv_results.mean(), cv_results.std())\n",
    "print msg"
   ]
  },
  {
   "cell_type": "code",
   "execution_count": null,
   "metadata": {
    "collapsed": true
   },
   "outputs": [],
   "source": [
    "GradientBoostingClassifier(n_estimators= 32, learning_rate= 0.1, random_state= 7, max_depth= 3)"
   ]
  },
  {
   "cell_type": "code",
   "execution_count": null,
   "metadata": {
    "collapsed": true
   },
   "outputs": [],
   "source": [
    "param_grid = {'n_estimators': [10,20,30], 'learning_rate': [.1,.01,.001], 'random_state': [7], 'max_depth': [2,3,5,7]}\n",
    "local_cv(GradientBoostingClassifier(), param_grid)"
   ]
  },
  {
   "cell_type": "code",
   "execution_count": null,
   "metadata": {
    "collapsed": true
   },
   "outputs": [],
   "source": [
    "def local_cv(model, params):                             #KFOLD WITH GRID SEARCH\n",
    "    param_grid = params\n",
    "    kfold = model_selection.KFold(shuffle = True, n_splits=num_folds, random_state=seed)\n",
    "    grid = GridSearchCV(estimator=model, param_grid=param_grid, scoring=scoring, cv=kfold)\n",
    "    grid_result = grid.fit(X, y)\n",
    "    print(\"Best: %f using %s\" % (grid_result.best_score_, grid_result.best_params_))\n",
    "    for params, mean_score, scores in grid_result.grid_scores_:\n",
    "        print(\"%f (%f) with: %r\" % (scores.mean(), scores.std(), params))"
   ]
  },
  {
   "cell_type": "code",
   "execution_count": null,
   "metadata": {
    "collapsed": true
   },
   "outputs": [],
   "source": [
    "Finding and recommendations,  The question you want to predict for, ask first in your survey, for optimal data collection"
   ]
  }
 ],
 "metadata": {
  "kernelspec": {
   "display_name": "Python 2",
   "language": "python",
   "name": "python2"
  },
  "language_info": {
   "codemirror_mode": {
    "name": "ipython",
    "version": 2
   },
   "file_extension": ".py",
   "mimetype": "text/x-python",
   "name": "python",
   "nbconvert_exporter": "python",
   "pygments_lexer": "ipython2",
   "version": "2.7.13"
  }
 },
 "nbformat": 4,
 "nbformat_minor": 2
}
